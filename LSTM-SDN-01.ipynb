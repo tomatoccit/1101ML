{
 "cells": [
  {
   "cell_type": "code",
   "execution_count": 1,
   "id": "358250d6",
   "metadata": {},
   "outputs": [],
   "source": [
    "import pandas as pd\n",
    "import numpy as np\n",
    "import matplotlib.pyplot as plt\n",
    "from time import process_time\n",
    "import seaborn as sns\n",
    "\n",
    "from sklearn import model_selection\n",
    "from sklearn.model_selection import train_test_split\n",
    "from sklearn import ensemble, preprocessing, metrics\n",
    "from sklearn.metrics import classification_report, confusion_matrix\n",
    "\n",
    "from keras.utils import np_utils\n",
    "np.random.seed(10)\n",
    "import csv"
   ]
  },
  {
   "cell_type": "code",
   "execution_count": 2,
   "id": "188dee36",
   "metadata": {},
   "outputs": [
    {
     "name": "stdout",
     "output_type": "stream",
     "text": [
      "                  dt         switch       pktcount     bytecount  \\\n",
      "count  104345.000000  104345.000000  104345.000000  1.043450e+05   \n",
      "mean    17927.514169       4.214260   52860.954746  3.818660e+07   \n",
      "std     11977.642655       1.956327   52023.241460  4.877748e+07   \n",
      "min      2488.000000       1.000000       0.000000  0.000000e+00   \n",
      "25%      7098.000000       3.000000     808.000000  7.957600e+04   \n",
      "50%     11905.000000       4.000000   42828.000000  6.471930e+06   \n",
      "75%     29952.000000       5.000000   94796.000000  7.620354e+07   \n",
      "max     42935.000000      10.000000  260006.000000  1.471280e+08   \n",
      "\n",
      "                 dur      dur_nsec       tot_dur          flows  \\\n",
      "count  104345.000000  1.043450e+05  1.043450e+05  104345.000000   \n",
      "mean      321.497398  4.613880e+08  3.218865e+11       5.654234   \n",
      "std       283.518232  2.770019e+08  2.834029e+11       2.950036   \n",
      "min         0.000000  0.000000e+00  0.000000e+00       2.000000   \n",
      "25%       127.000000  2.340000e+08  1.270000e+11       3.000000   \n",
      "50%       251.000000  4.180000e+08  2.520000e+11       5.000000   \n",
      "75%       412.000000  7.030000e+08  4.130000e+11       7.000000   \n",
      "max      1881.000000  9.990000e+08  1.880000e+12      17.000000   \n",
      "\n",
      "           packetins     pktperflow   byteperflow        pktrate  \\\n",
      "count  104345.000000  104345.000000  1.043450e+05  104345.000000   \n",
      "mean     5200.383468    6381.715291  4.716150e+06     212.210676   \n",
      "std      5257.001450    7404.777808  7.560116e+06     246.855123   \n",
      "min         4.000000 -130933.000000 -1.464426e+08   -4365.000000   \n",
      "25%      1943.000000      29.000000  2.842000e+03       0.000000   \n",
      "50%      3024.000000    8305.000000  5.521680e+05     276.000000   \n",
      "75%      7462.000000   10017.000000  9.728112e+06     333.000000   \n",
      "max     25224.000000   19190.000000  1.495387e+07     639.000000   \n",
      "\n",
      "            Pairflow        port_no      tx_bytes      rx_bytes  \\\n",
      "count  104345.000000  104345.000000  1.043450e+05  1.043450e+05   \n",
      "mean        0.600987       2.331094  9.325264e+07  9.328039e+07   \n",
      "std         0.489698       1.084333  1.519380e+08  1.330004e+08   \n",
      "min         0.000000       1.000000  2.527000e+03  8.560000e+02   \n",
      "25%         0.000000       1.000000  4.743000e+03  3.539000e+03   \n",
      "50%         1.000000       2.000000  4.219610e+06  1.338339e+07   \n",
      "75%         1.000000       3.000000  1.356398e+08  1.439277e+08   \n",
      "max         1.000000       5.000000  1.269982e+09  9.905962e+08   \n",
      "\n",
      "             tx_kbps        rx_kbps       tot_kbps          label  \n",
      "count  104345.000000  103839.000000  103839.000000  104345.000000  \n",
      "mean      998.899756    1003.811420    2007.578742       0.390857  \n",
      "std      2423.471618    2054.887034    3144.437173       0.487945  \n",
      "min         0.000000       0.000000       0.000000       0.000000  \n",
      "25%         0.000000       0.000000       0.000000       0.000000  \n",
      "50%         0.000000       0.000000       4.000000       0.000000  \n",
      "75%       251.000000     557.000000    3838.000000       1.000000  \n",
      "max     20580.000000   16577.000000   20580.000000       1.000000  \n"
     ]
    }
   ],
   "source": [
    "SDNdata = pd.read_csv(\"C:\\pythonwork\\dataset_sdn.csv\")\n",
    "print(SDNdata.describe())"
   ]
  },
  {
   "cell_type": "markdown",
   "id": "9a33479d",
   "metadata": {},
   "source": [
    "# 資料前處理"
   ]
  },
  {
   "cell_type": "code",
   "execution_count": 3,
   "id": "7e7c919a",
   "metadata": {},
   "outputs": [
    {
     "data": {
      "text/plain": [
       "(103839, 23)"
      ]
     },
     "execution_count": 3,
     "metadata": {},
     "output_type": "execute_result"
    }
   ],
   "source": [
    "#先把NULL值的資料Drop掉\n",
    "SDNdata.dropna(inplace=True)\n",
    "SDNdata.shape"
   ]
  },
  {
   "cell_type": "code",
   "execution_count": 4,
   "id": "b0bbfa5b",
   "metadata": {},
   "outputs": [],
   "source": [
    "fe=SDNdata.groupby('Protocol').size()/len(SDNdata)\n",
    "SDNdata.loc[:,'Protocol']=SDNdata['Protocol'].map(fe)"
   ]
  },
  {
   "cell_type": "code",
   "execution_count": 5,
   "id": "73ec0f44",
   "metadata": {},
   "outputs": [],
   "source": [
    "fe=SDNdata.groupby('dst').size()/len(SDNdata)\n",
    "SDNdata.loc[:,'dst']=SDNdata['dst'].map(fe)"
   ]
  },
  {
   "cell_type": "code",
   "execution_count": 6,
   "id": "78264b6d",
   "metadata": {},
   "outputs": [],
   "source": [
    "fe=SDNdata.groupby('src').size()/len(SDNdata)\n",
    "SDNdata.loc[:,'src']=SDNdata['src'].map(fe)"
   ]
  },
  {
   "cell_type": "code",
   "execution_count": 7,
   "id": "c894f91b",
   "metadata": {},
   "outputs": [],
   "source": [
    "#把資料分為屬性和標籤，然後20%測試80%訓練\n",
    "x = SDNdata.drop('label', axis=1)\n",
    "y = SDNdata['label']\n",
    "x_train, x_test, y_train, y_test = train_test_split(x, y, test_size = 0.20,random_state=100)"
   ]
  },
  {
   "cell_type": "code",
   "execution_count": 8,
   "id": "44e4bea2",
   "metadata": {},
   "outputs": [],
   "source": [
    "#指定陣列\n",
    "df_x_train =pd.DataFrame(x_train)\n",
    "df_x_test =pd.DataFrame(x_test)\n",
    "df_y_train =pd.DataFrame(y_train)\n",
    "df_y_test =pd.DataFrame(y_test)"
   ]
  },
  {
   "cell_type": "code",
   "execution_count": 9,
   "id": "5a45b9b2",
   "metadata": {},
   "outputs": [],
   "source": [
    "#標準化\n",
    "minmax_scale = preprocessing.MinMaxScaler(feature_range=(0, 1))\n",
    "scaled_x_train=minmax_scale.fit_transform(df_x_train)\n",
    "scaled_x_test=minmax_scale.fit_transform(df_x_test)\n",
    "scaled_y_train=minmax_scale.fit_transform(df_y_train)\n",
    "scaled_y_test=minmax_scale.fit_transform(df_y_test)"
   ]
  },
  {
   "cell_type": "code",
   "execution_count": 10,
   "id": "15242b2a",
   "metadata": {},
   "outputs": [
    {
     "data": {
      "text/plain": [
       "(83071, 22)"
      ]
     },
     "execution_count": 10,
     "metadata": {},
     "output_type": "execute_result"
    }
   ],
   "source": [
    "scaled_x_train.shape"
   ]
  },
  {
   "cell_type": "code",
   "execution_count": 11,
   "id": "4d925017",
   "metadata": {},
   "outputs": [
    {
     "data": {
      "text/plain": [
       "(83071, 1)"
      ]
     },
     "execution_count": 11,
     "metadata": {},
     "output_type": "execute_result"
    }
   ],
   "source": [
    "scaled_y_train.shape"
   ]
  },
  {
   "cell_type": "code",
   "execution_count": 12,
   "id": "008cdd9b",
   "metadata": {},
   "outputs": [
    {
     "data": {
      "text/plain": [
       "(20768, 22)"
      ]
     },
     "execution_count": 12,
     "metadata": {},
     "output_type": "execute_result"
    }
   ],
   "source": [
    "scaled_x_test.shape"
   ]
  },
  {
   "cell_type": "code",
   "execution_count": 13,
   "id": "7029db59",
   "metadata": {},
   "outputs": [
    {
     "data": {
      "text/plain": [
       "(20768, 1)"
      ]
     },
     "execution_count": 13,
     "metadata": {},
     "output_type": "execute_result"
    }
   ],
   "source": [
    "scaled_y_test.shape"
   ]
  },
  {
   "cell_type": "code",
   "execution_count": 14,
   "id": "74f7834c",
   "metadata": {},
   "outputs": [],
   "source": [
    "X_train = np.reshape(scaled_x_train, (scaled_x_train.shape[0], 1, scaled_x_train.shape[1]))\n",
    "\n",
    "X_test = np.reshape(scaled_x_test, (scaled_x_test.shape[0], 1, scaled_x_test.shape[1]))"
   ]
  },
  {
   "cell_type": "code",
   "execution_count": 15,
   "id": "d1d67b61",
   "metadata": {},
   "outputs": [
    {
     "data": {
      "text/plain": [
       "(83071, 1, 22)"
      ]
     },
     "execution_count": 15,
     "metadata": {},
     "output_type": "execute_result"
    }
   ],
   "source": [
    "X_train.shape"
   ]
  },
  {
   "cell_type": "code",
   "execution_count": 16,
   "id": "b2947634",
   "metadata": {},
   "outputs": [
    {
     "data": {
      "text/plain": [
       "(20768, 1, 22)"
      ]
     },
     "execution_count": 16,
     "metadata": {},
     "output_type": "execute_result"
    }
   ],
   "source": [
    "X_test.shape"
   ]
  },
  {
   "cell_type": "markdown",
   "id": "b127a20e",
   "metadata": {},
   "source": [
    "# 建立模型"
   ]
  },
  {
   "cell_type": "code",
   "execution_count": 17,
   "id": "a1a2056e",
   "metadata": {},
   "outputs": [],
   "source": [
    "from keras.models import Sequential\n",
    "from keras.layers.core import Dense, Dropout, Activation\n",
    "from keras.layers.embeddings import Embedding\n",
    "from keras.layers.recurrent import SimpleRNN\n",
    "from keras.layers import Dense, LSTM, Bidirectional"
   ]
  },
  {
   "cell_type": "code",
   "execution_count": 18,
   "id": "bdf736a0",
   "metadata": {},
   "outputs": [],
   "source": [
    "model = Sequential()"
   ]
  },
  {
   "cell_type": "code",
   "execution_count": 19,
   "id": "14332d91",
   "metadata": {},
   "outputs": [],
   "source": [
    "model.add(LSTM(64,input_dim=22, return_sequences=True))"
   ]
  },
  {
   "cell_type": "code",
   "execution_count": 20,
   "id": "e7ca9a1c",
   "metadata": {},
   "outputs": [],
   "source": [
    "model.add(Dense(256,activation='relu'))"
   ]
  },
  {
   "cell_type": "code",
   "execution_count": 21,
   "id": "3460e6b7",
   "metadata": {},
   "outputs": [],
   "source": [
    "model.add(Dropout(0.35))"
   ]
  },
  {
   "cell_type": "code",
   "execution_count": 22,
   "id": "3947b77f",
   "metadata": {},
   "outputs": [],
   "source": [
    "model.add(Dense(1,activation='sigmoid'))"
   ]
  },
  {
   "cell_type": "code",
   "execution_count": 23,
   "id": "88c1a0b0",
   "metadata": {},
   "outputs": [
    {
     "name": "stdout",
     "output_type": "stream",
     "text": [
      "Model: \"sequential\"\n",
      "_________________________________________________________________\n",
      "Layer (type)                 Output Shape              Param #   \n",
      "=================================================================\n",
      "lstm (LSTM)                  (None, None, 64)          22272     \n",
      "_________________________________________________________________\n",
      "dense (Dense)                (None, None, 256)         16640     \n",
      "_________________________________________________________________\n",
      "dropout (Dropout)            (None, None, 256)         0         \n",
      "_________________________________________________________________\n",
      "dense_1 (Dense)              (None, None, 1)           257       \n",
      "=================================================================\n",
      "Total params: 39,169\n",
      "Trainable params: 39,169\n",
      "Non-trainable params: 0\n",
      "_________________________________________________________________\n"
     ]
    }
   ],
   "source": [
    "model.summary()"
   ]
  },
  {
   "cell_type": "code",
   "execution_count": 24,
   "id": "aa626b87",
   "metadata": {},
   "outputs": [],
   "source": [
    "model.compile(loss='binary_crossentropy',optimizer='adam',metrics=['accuracy'])"
   ]
  },
  {
   "cell_type": "code",
   "execution_count": 25,
   "id": "83d89acb",
   "metadata": {},
   "outputs": [
    {
     "name": "stdout",
     "output_type": "stream",
     "text": [
      "Epoch 1/200\n",
      "67/67 [==============================] - 5s 25ms/step - loss: 0.6189 - accuracy: 0.6199 - val_loss: 0.5499 - val_accuracy: 0.6778\n",
      "Epoch 2/200\n",
      "67/67 [==============================] - 1s 12ms/step - loss: 0.4793 - accuracy: 0.7242 - val_loss: 0.4042 - val_accuracy: 0.7907\n",
      "Epoch 3/200\n",
      "67/67 [==============================] - 1s 13ms/step - loss: 0.3480 - accuracy: 0.8301 - val_loss: 0.3074 - val_accuracy: 0.8639\n",
      "Epoch 4/200\n",
      "67/67 [==============================] - 1s 13ms/step - loss: 0.2807 - accuracy: 0.8793 - val_loss: 0.2535 - val_accuracy: 0.9035\n",
      "Epoch 5/200\n",
      "67/67 [==============================] - 1s 13ms/step - loss: 0.2369 - accuracy: 0.9052 - val_loss: 0.2165 - val_accuracy: 0.9114\n",
      "Epoch 6/200\n",
      "67/67 [==============================] - 1s 13ms/step - loss: 0.2097 - accuracy: 0.9163 - val_loss: 0.1922 - val_accuracy: 0.9259\n",
      "Epoch 7/200\n",
      "67/67 [==============================] - 1s 13ms/step - loss: 0.1861 - accuracy: 0.9260 - val_loss: 0.1749 - val_accuracy: 0.9332\n",
      "Epoch 8/200\n",
      "67/67 [==============================] - 1s 13ms/step - loss: 0.1710 - accuracy: 0.9317 - val_loss: 0.1643 - val_accuracy: 0.9390\n",
      "Epoch 9/200\n",
      "67/67 [==============================] - 1s 13ms/step - loss: 0.1580 - accuracy: 0.9360 - val_loss: 0.1556 - val_accuracy: 0.9393\n",
      "Epoch 10/200\n",
      "67/67 [==============================] - 1s 13ms/step - loss: 0.1490 - accuracy: 0.9395 - val_loss: 0.1388 - val_accuracy: 0.9471\n",
      "Epoch 11/200\n",
      "67/67 [==============================] - 1s 13ms/step - loss: 0.1393 - accuracy: 0.9433 - val_loss: 0.1336 - val_accuracy: 0.9471\n",
      "Epoch 12/200\n",
      "67/67 [==============================] - 1s 13ms/step - loss: 0.1321 - accuracy: 0.9459 - val_loss: 0.1319 - val_accuracy: 0.9428\n",
      "Epoch 13/200\n",
      "67/67 [==============================] - 1s 13ms/step - loss: 0.1279 - accuracy: 0.9461 - val_loss: 0.1211 - val_accuracy: 0.9510\n",
      "Epoch 14/200\n",
      "67/67 [==============================] - 1s 14ms/step - loss: 0.1231 - accuracy: 0.9485 - val_loss: 0.1177 - val_accuracy: 0.9509\n",
      "Epoch 15/200\n",
      "67/67 [==============================] - 1s 13ms/step - loss: 0.1185 - accuracy: 0.9504 - val_loss: 0.1167 - val_accuracy: 0.9501\n",
      "Epoch 16/200\n",
      "67/67 [==============================] - 1s 13ms/step - loss: 0.1159 - accuracy: 0.9512 - val_loss: 0.1107 - val_accuracy: 0.9537\n",
      "Epoch 17/200\n",
      "67/67 [==============================] - 1s 14ms/step - loss: 0.1110 - accuracy: 0.9542 - val_loss: 0.1100 - val_accuracy: 0.9517\n",
      "Epoch 18/200\n",
      "67/67 [==============================] - 1s 13ms/step - loss: 0.1098 - accuracy: 0.9539 - val_loss: 0.1055 - val_accuracy: 0.9568\n",
      "Epoch 19/200\n",
      "67/67 [==============================] - 1s 12ms/step - loss: 0.1067 - accuracy: 0.9557 - val_loss: 0.1097 - val_accuracy: 0.9551\n",
      "Epoch 20/200\n",
      "67/67 [==============================] - 1s 13ms/step - loss: 0.1048 - accuracy: 0.9563 - val_loss: 0.1010 - val_accuracy: 0.9586\n",
      "Epoch 21/200\n",
      "67/67 [==============================] - 1s 13ms/step - loss: 0.1015 - accuracy: 0.9581 - val_loss: 0.0985 - val_accuracy: 0.9576\n",
      "Epoch 22/200\n",
      "67/67 [==============================] - 1s 13ms/step - loss: 0.0989 - accuracy: 0.9587 - val_loss: 0.0960 - val_accuracy: 0.9600\n",
      "Epoch 23/200\n",
      "67/67 [==============================] - 1s 13ms/step - loss: 0.0970 - accuracy: 0.9594 - val_loss: 0.0949 - val_accuracy: 0.9603\n",
      "Epoch 24/200\n",
      "67/67 [==============================] - 1s 13ms/step - loss: 0.0940 - accuracy: 0.9609 - val_loss: 0.0926 - val_accuracy: 0.9626\n",
      "Epoch 25/200\n",
      "67/67 [==============================] - 1s 13ms/step - loss: 0.0921 - accuracy: 0.9621 - val_loss: 0.0932 - val_accuracy: 0.9598\n",
      "Epoch 26/200\n",
      "67/67 [==============================] - 1s 13ms/step - loss: 0.0921 - accuracy: 0.9620 - val_loss: 0.0906 - val_accuracy: 0.9635\n",
      "Epoch 27/200\n",
      "67/67 [==============================] - 1s 13ms/step - loss: 0.0903 - accuracy: 0.9631 - val_loss: 0.0885 - val_accuracy: 0.9638\n",
      "Epoch 28/200\n",
      "67/67 [==============================] - 1s 14ms/step - loss: 0.0880 - accuracy: 0.9642 - val_loss: 0.0884 - val_accuracy: 0.9641\n",
      "Epoch 29/200\n",
      "67/67 [==============================] - 1s 13ms/step - loss: 0.0863 - accuracy: 0.9647 - val_loss: 0.0848 - val_accuracy: 0.9654\n",
      "Epoch 30/200\n",
      "67/67 [==============================] - 1s 13ms/step - loss: 0.0848 - accuracy: 0.9647 - val_loss: 0.0840 - val_accuracy: 0.9664\n",
      "Epoch 31/200\n",
      "67/67 [==============================] - 1s 13ms/step - loss: 0.0828 - accuracy: 0.9662 - val_loss: 0.0830 - val_accuracy: 0.9655\n",
      "Epoch 32/200\n",
      "67/67 [==============================] - 1s 13ms/step - loss: 0.0824 - accuracy: 0.9665 - val_loss: 0.0813 - val_accuracy: 0.9679\n",
      "Epoch 33/200\n",
      "67/67 [==============================] - 1s 13ms/step - loss: 0.0804 - accuracy: 0.9674 - val_loss: 0.0801 - val_accuracy: 0.9671\n",
      "Epoch 34/200\n",
      "67/67 [==============================] - 1s 17ms/step - loss: 0.0795 - accuracy: 0.9672 - val_loss: 0.0777 - val_accuracy: 0.9694\n",
      "Epoch 35/200\n",
      "67/67 [==============================] - 1s 14ms/step - loss: 0.0783 - accuracy: 0.9677 - val_loss: 0.0789 - val_accuracy: 0.9680\n",
      "Epoch 36/200\n",
      "67/67 [==============================] - 1s 15ms/step - loss: 0.0770 - accuracy: 0.9688 - val_loss: 0.0781 - val_accuracy: 0.9670\n",
      "Epoch 37/200\n",
      "67/67 [==============================] - 1s 15ms/step - loss: 0.0778 - accuracy: 0.9689 - val_loss: 0.0768 - val_accuracy: 0.9687\n",
      "Epoch 38/200\n",
      "67/67 [==============================] - 1s 15ms/step - loss: 0.0768 - accuracy: 0.9697 - val_loss: 0.0795 - val_accuracy: 0.9672\n",
      "Epoch 39/200\n",
      "67/67 [==============================] - 1s 14ms/step - loss: 0.0747 - accuracy: 0.9698 - val_loss: 0.0746 - val_accuracy: 0.9702\n",
      "Epoch 40/200\n",
      "67/67 [==============================] - 1s 14ms/step - loss: 0.0735 - accuracy: 0.9708 - val_loss: 0.0731 - val_accuracy: 0.9697\n",
      "Epoch 41/200\n",
      "67/67 [==============================] - 1s 14ms/step - loss: 0.0729 - accuracy: 0.9703 - val_loss: 0.0750 - val_accuracy: 0.9700\n",
      "Epoch 42/200\n",
      "67/67 [==============================] - 1s 14ms/step - loss: 0.0721 - accuracy: 0.9712 - val_loss: 0.0700 - val_accuracy: 0.9726\n",
      "Epoch 43/200\n",
      "67/67 [==============================] - 1s 13ms/step - loss: 0.0703 - accuracy: 0.9719 - val_loss: 0.0701 - val_accuracy: 0.9729\n",
      "Epoch 44/200\n",
      "67/67 [==============================] - 1s 13ms/step - loss: 0.0703 - accuracy: 0.9723 - val_loss: 0.0689 - val_accuracy: 0.9732\n",
      "Epoch 45/200\n",
      "67/67 [==============================] - 1s 15ms/step - loss: 0.0690 - accuracy: 0.9729 - val_loss: 0.0687 - val_accuracy: 0.9743\n",
      "Epoch 46/200\n",
      "67/67 [==============================] - 1s 15ms/step - loss: 0.0690 - accuracy: 0.9723 - val_loss: 0.0683 - val_accuracy: 0.9714\n",
      "Epoch 47/200\n",
      "67/67 [==============================] - 1s 15ms/step - loss: 0.0692 - accuracy: 0.9719 - val_loss: 0.0681 - val_accuracy: 0.9731\n",
      "Epoch 48/200\n",
      "67/67 [==============================] - 1s 14ms/step - loss: 0.0671 - accuracy: 0.9730 - val_loss: 0.0656 - val_accuracy: 0.9747\n",
      "Epoch 49/200\n",
      "67/67 [==============================] - 1s 14ms/step - loss: 0.0670 - accuracy: 0.9732 - val_loss: 0.0647 - val_accuracy: 0.9753\n",
      "Epoch 50/200\n",
      "67/67 [==============================] - 1s 14ms/step - loss: 0.0655 - accuracy: 0.9736 - val_loss: 0.0656 - val_accuracy: 0.9745\n",
      "Epoch 51/200\n",
      "67/67 [==============================] - 1s 14ms/step - loss: 0.0649 - accuracy: 0.9739 - val_loss: 0.0637 - val_accuracy: 0.9755\n",
      "Epoch 52/200\n",
      "67/67 [==============================] - 1s 14ms/step - loss: 0.0648 - accuracy: 0.9743 - val_loss: 0.0632 - val_accuracy: 0.9762\n",
      "Epoch 53/200\n",
      "67/67 [==============================] - 1s 14ms/step - loss: 0.0636 - accuracy: 0.9749 - val_loss: 0.0623 - val_accuracy: 0.9747\n",
      "Epoch 54/200\n",
      "67/67 [==============================] - 1s 15ms/step - loss: 0.0618 - accuracy: 0.9746 - val_loss: 0.0616 - val_accuracy: 0.9757\n",
      "Epoch 55/200\n",
      "67/67 [==============================] - 1s 17ms/step - loss: 0.0623 - accuracy: 0.9749 - val_loss: 0.0616 - val_accuracy: 0.9751\n",
      "Epoch 56/200\n",
      "67/67 [==============================] - 1s 18ms/step - loss: 0.0615 - accuracy: 0.9755 - val_loss: 0.0600 - val_accuracy: 0.9763\n",
      "Epoch 57/200\n",
      "67/67 [==============================] - 1s 13ms/step - loss: 0.0611 - accuracy: 0.9751 - val_loss: 0.0606 - val_accuracy: 0.9764\n",
      "Epoch 58/200\n"
     ]
    },
    {
     "name": "stdout",
     "output_type": "stream",
     "text": [
      "67/67 [==============================] - 1s 13ms/step - loss: 0.0602 - accuracy: 0.9756 - val_loss: 0.0587 - val_accuracy: 0.9766\n",
      "Epoch 59/200\n",
      "67/67 [==============================] - 1s 13ms/step - loss: 0.0595 - accuracy: 0.9761 - val_loss: 0.0591 - val_accuracy: 0.9766\n",
      "Epoch 60/200\n",
      "67/67 [==============================] - 1s 13ms/step - loss: 0.0588 - accuracy: 0.9762 - val_loss: 0.0573 - val_accuracy: 0.9770\n",
      "Epoch 61/200\n",
      "67/67 [==============================] - 1s 13ms/step - loss: 0.0596 - accuracy: 0.9757 - val_loss: 0.0580 - val_accuracy: 0.9764\n",
      "Epoch 62/200\n",
      "67/67 [==============================] - 1s 12ms/step - loss: 0.0587 - accuracy: 0.9763 - val_loss: 0.0563 - val_accuracy: 0.9775\n",
      "Epoch 63/200\n",
      "67/67 [==============================] - 1s 12ms/step - loss: 0.0570 - accuracy: 0.9769 - val_loss: 0.0565 - val_accuracy: 0.9775\n",
      "Epoch 64/200\n",
      "67/67 [==============================] - 1s 12ms/step - loss: 0.0576 - accuracy: 0.9769 - val_loss: 0.0563 - val_accuracy: 0.9774\n",
      "Epoch 65/200\n",
      "67/67 [==============================] - 1s 13ms/step - loss: 0.0567 - accuracy: 0.9768 - val_loss: 0.0550 - val_accuracy: 0.9780\n",
      "Epoch 66/200\n",
      "67/67 [==============================] - 1s 13ms/step - loss: 0.0562 - accuracy: 0.9772 - val_loss: 0.0556 - val_accuracy: 0.9775\n",
      "Epoch 67/200\n",
      "67/67 [==============================] - 1s 13ms/step - loss: 0.0555 - accuracy: 0.9773 - val_loss: 0.0535 - val_accuracy: 0.9782\n",
      "Epoch 68/200\n",
      "67/67 [==============================] - 1s 13ms/step - loss: 0.0540 - accuracy: 0.9781 - val_loss: 0.0534 - val_accuracy: 0.9785\n",
      "Epoch 69/200\n",
      "67/67 [==============================] - 1s 12ms/step - loss: 0.0545 - accuracy: 0.9781 - val_loss: 0.0538 - val_accuracy: 0.9766\n",
      "Epoch 70/200\n",
      "67/67 [==============================] - 1s 13ms/step - loss: 0.0530 - accuracy: 0.9782 - val_loss: 0.0524 - val_accuracy: 0.9783\n",
      "Epoch 71/200\n",
      "67/67 [==============================] - 1s 13ms/step - loss: 0.0536 - accuracy: 0.9783 - val_loss: 0.0522 - val_accuracy: 0.9784\n",
      "Epoch 72/200\n",
      "67/67 [==============================] - 1s 13ms/step - loss: 0.0525 - accuracy: 0.9787 - val_loss: 0.0506 - val_accuracy: 0.9795\n",
      "Epoch 73/200\n",
      "67/67 [==============================] - 1s 12ms/step - loss: 0.0530 - accuracy: 0.9780 - val_loss: 0.0506 - val_accuracy: 0.9797\n",
      "Epoch 74/200\n",
      "67/67 [==============================] - 1s 12ms/step - loss: 0.0512 - accuracy: 0.9796 - val_loss: 0.0532 - val_accuracy: 0.9781\n",
      "Epoch 75/200\n",
      "67/67 [==============================] - 1s 12ms/step - loss: 0.0521 - accuracy: 0.9785 - val_loss: 0.0525 - val_accuracy: 0.9785\n",
      "Epoch 76/200\n",
      "67/67 [==============================] - 1s 13ms/step - loss: 0.0518 - accuracy: 0.9791 - val_loss: 0.0495 - val_accuracy: 0.9798\n",
      "Epoch 77/200\n",
      "67/67 [==============================] - 1s 13ms/step - loss: 0.0505 - accuracy: 0.9799 - val_loss: 0.0487 - val_accuracy: 0.9806\n",
      "Epoch 78/200\n",
      "67/67 [==============================] - 1s 13ms/step - loss: 0.0499 - accuracy: 0.9799 - val_loss: 0.0481 - val_accuracy: 0.9809\n",
      "Epoch 79/200\n",
      "67/67 [==============================] - ETA: 0s - loss: 0.0500 - accuracy: 0.97 - 1s 13ms/step - loss: 0.0500 - accuracy: 0.9794 - val_loss: 0.0488 - val_accuracy: 0.9808\n",
      "Epoch 80/200\n",
      "67/67 [==============================] - 1s 13ms/step - loss: 0.0505 - accuracy: 0.9797 - val_loss: 0.0484 - val_accuracy: 0.9810\n",
      "Epoch 81/200\n",
      "67/67 [==============================] - 1s 13ms/step - loss: 0.0491 - accuracy: 0.9801 - val_loss: 0.0473 - val_accuracy: 0.9812\n",
      "Epoch 82/200\n",
      "67/67 [==============================] - 1s 13ms/step - loss: 0.0494 - accuracy: 0.9796 - val_loss: 0.0474 - val_accuracy: 0.9810\n",
      "Epoch 83/200\n",
      "67/67 [==============================] - 1s 13ms/step - loss: 0.0494 - accuracy: 0.9802 - val_loss: 0.0498 - val_accuracy: 0.9782\n",
      "Epoch 84/200\n",
      "67/67 [==============================] - 1s 12ms/step - loss: 0.0494 - accuracy: 0.9804 - val_loss: 0.0466 - val_accuracy: 0.9816\n",
      "Epoch 85/200\n",
      "67/67 [==============================] - 1s 12ms/step - loss: 0.0469 - accuracy: 0.9813 - val_loss: 0.0459 - val_accuracy: 0.9819\n",
      "Epoch 86/200\n",
      "67/67 [==============================] - 1s 13ms/step - loss: 0.0490 - accuracy: 0.9800 - val_loss: 0.0467 - val_accuracy: 0.9812\n",
      "Epoch 87/200\n",
      "67/67 [==============================] - 1s 13ms/step - loss: 0.0465 - accuracy: 0.9813 - val_loss: 0.0465 - val_accuracy: 0.9809\n",
      "Epoch 88/200\n",
      "67/67 [==============================] - 1s 13ms/step - loss: 0.0470 - accuracy: 0.9812 - val_loss: 0.0456 - val_accuracy: 0.9824\n",
      "Epoch 89/200\n",
      "67/67 [==============================] - 1s 13ms/step - loss: 0.0472 - accuracy: 0.9808 - val_loss: 0.0488 - val_accuracy: 0.9788\n",
      "Epoch 90/200\n",
      "67/67 [==============================] - 1s 13ms/step - loss: 0.0460 - accuracy: 0.9815 - val_loss: 0.0453 - val_accuracy: 0.9825\n",
      "Epoch 91/200\n",
      "67/67 [==============================] - 1s 12ms/step - loss: 0.0460 - accuracy: 0.9816 - val_loss: 0.0445 - val_accuracy: 0.9827\n",
      "Epoch 92/200\n",
      "67/67 [==============================] - 1s 12ms/step - loss: 0.0454 - accuracy: 0.9819 - val_loss: 0.0444 - val_accuracy: 0.9817\n",
      "Epoch 93/200\n",
      "67/67 [==============================] - 1s 13ms/step - loss: 0.0460 - accuracy: 0.9809 - val_loss: 0.0448 - val_accuracy: 0.9818\n",
      "Epoch 94/200\n",
      "67/67 [==============================] - 1s 13ms/step - loss: 0.0465 - accuracy: 0.9807 - val_loss: 0.0437 - val_accuracy: 0.9824\n",
      "Epoch 95/200\n",
      "67/67 [==============================] - 1s 13ms/step - loss: 0.0457 - accuracy: 0.9813 - val_loss: 0.0455 - val_accuracy: 0.9810\n",
      "Epoch 96/200\n",
      "67/67 [==============================] - 1s 13ms/step - loss: 0.0450 - accuracy: 0.9822 - val_loss: 0.0440 - val_accuracy: 0.9822\n",
      "Epoch 97/200\n",
      "67/67 [==============================] - 1s 13ms/step - loss: 0.0443 - accuracy: 0.9822 - val_loss: 0.0439 - val_accuracy: 0.9821\n",
      "Epoch 98/200\n",
      "67/67 [==============================] - 1s 12ms/step - loss: 0.0444 - accuracy: 0.9820 - val_loss: 0.0437 - val_accuracy: 0.9821\n",
      "Epoch 99/200\n",
      "67/67 [==============================] - 1s 13ms/step - loss: 0.0451 - accuracy: 0.9822 - val_loss: 0.0434 - val_accuracy: 0.9813\n",
      "Epoch 100/200\n",
      "67/67 [==============================] - 1s 13ms/step - loss: 0.0436 - accuracy: 0.9822 - val_loss: 0.0425 - val_accuracy: 0.9831\n",
      "Epoch 101/200\n",
      "67/67 [==============================] - 1s 13ms/step - loss: 0.0435 - accuracy: 0.9821 - val_loss: 0.0433 - val_accuracy: 0.9819\n",
      "Epoch 102/200\n",
      "67/67 [==============================] - 1s 13ms/step - loss: 0.0437 - accuracy: 0.9821 - val_loss: 0.0427 - val_accuracy: 0.9831\n",
      "Epoch 103/200\n",
      "67/67 [==============================] - 1s 13ms/step - loss: 0.0442 - accuracy: 0.9819 - val_loss: 0.0409 - val_accuracy: 0.9839\n",
      "Epoch 104/200\n",
      "67/67 [==============================] - 1s 13ms/step - loss: 0.0428 - accuracy: 0.9827 - val_loss: 0.0435 - val_accuracy: 0.9816\n",
      "Epoch 105/200\n",
      "67/67 [==============================] - 1s 13ms/step - loss: 0.0429 - accuracy: 0.9830 - val_loss: 0.0415 - val_accuracy: 0.9839\n",
      "Epoch 106/200\n",
      "67/67 [==============================] - 1s 13ms/step - loss: 0.0433 - accuracy: 0.9829 - val_loss: 0.0409 - val_accuracy: 0.9844\n",
      "Epoch 107/200\n",
      "67/67 [==============================] - 1s 13ms/step - loss: 0.0412 - accuracy: 0.9835 - val_loss: 0.0407 - val_accuracy: 0.9842\n",
      "Epoch 108/200\n",
      "67/67 [==============================] - 1s 13ms/step - loss: 0.0426 - accuracy: 0.9823 - val_loss: 0.0430 - val_accuracy: 0.9819\n",
      "Epoch 109/200\n",
      "67/67 [==============================] - 1s 13ms/step - loss: 0.0416 - accuracy: 0.9834 - val_loss: 0.0448 - val_accuracy: 0.9806\n",
      "Epoch 110/200\n",
      "67/67 [==============================] - 1s 13ms/step - loss: 0.0423 - accuracy: 0.9828 - val_loss: 0.0400 - val_accuracy: 0.9842\n",
      "Epoch 111/200\n",
      "67/67 [==============================] - 1s 13ms/step - loss: 0.0404 - accuracy: 0.9835 - val_loss: 0.0404 - val_accuracy: 0.9840\n",
      "Epoch 112/200\n",
      "67/67 [==============================] - 1s 13ms/step - loss: 0.0417 - accuracy: 0.9838 - val_loss: 0.0409 - val_accuracy: 0.9833\n",
      "Epoch 113/200\n",
      "67/67 [==============================] - 1s 13ms/step - loss: 0.0409 - accuracy: 0.9838 - val_loss: 0.0395 - val_accuracy: 0.9841\n",
      "Epoch 114/200\n",
      "67/67 [==============================] - 1s 15ms/step - loss: 0.0404 - accuracy: 0.9838 - val_loss: 0.0397 - val_accuracy: 0.9838\n"
     ]
    },
    {
     "name": "stdout",
     "output_type": "stream",
     "text": [
      "Epoch 115/200\n",
      "67/67 [==============================] - 1s 12ms/step - loss: 0.0416 - accuracy: 0.9829 - val_loss: 0.0409 - val_accuracy: 0.9833\n",
      "Epoch 116/200\n",
      "67/67 [==============================] - 1s 13ms/step - loss: 0.0402 - accuracy: 0.9840 - val_loss: 0.0394 - val_accuracy: 0.9843\n",
      "Epoch 117/200\n",
      "67/67 [==============================] - 1s 13ms/step - loss: 0.0406 - accuracy: 0.9837 - val_loss: 0.0386 - val_accuracy: 0.9845\n",
      "Epoch 118/200\n",
      "67/67 [==============================] - 1s 13ms/step - loss: 0.0396 - accuracy: 0.9842 - val_loss: 0.0388 - val_accuracy: 0.9842\n",
      "Epoch 119/200\n",
      "67/67 [==============================] - 1s 13ms/step - loss: 0.0399 - accuracy: 0.9837 - val_loss: 0.0387 - val_accuracy: 0.9843\n",
      "Epoch 120/200\n",
      "67/67 [==============================] - 1s 12ms/step - loss: 0.0387 - accuracy: 0.9847 - val_loss: 0.0407 - val_accuracy: 0.9830\n",
      "Epoch 121/200\n",
      "67/67 [==============================] - 1s 12ms/step - loss: 0.0398 - accuracy: 0.9841 - val_loss: 0.0381 - val_accuracy: 0.9845\n",
      "Epoch 122/200\n",
      "67/67 [==============================] - 1s 13ms/step - loss: 0.0384 - accuracy: 0.9848 - val_loss: 0.0393 - val_accuracy: 0.9840\n",
      "Epoch 123/200\n",
      "67/67 [==============================] - 1s 13ms/step - loss: 0.0387 - accuracy: 0.9841 - val_loss: 0.0377 - val_accuracy: 0.9844\n",
      "Epoch 124/200\n",
      "67/67 [==============================] - 1s 13ms/step - loss: 0.0396 - accuracy: 0.9840 - val_loss: 0.0414 - val_accuracy: 0.9830\n",
      "Epoch 125/200\n",
      "67/67 [==============================] - 1s 13ms/step - loss: 0.0392 - accuracy: 0.9843 - val_loss: 0.0378 - val_accuracy: 0.9848\n",
      "Epoch 126/200\n",
      "67/67 [==============================] - 1s 13ms/step - loss: 0.0382 - accuracy: 0.9841 - val_loss: 0.0388 - val_accuracy: 0.9843\n",
      "Epoch 127/200\n",
      "67/67 [==============================] - 1s 13ms/step - loss: 0.0388 - accuracy: 0.9840 - val_loss: 0.0383 - val_accuracy: 0.9848\n",
      "Epoch 128/200\n",
      "67/67 [==============================] - 1s 12ms/step - loss: 0.0379 - accuracy: 0.9847 - val_loss: 0.0372 - val_accuracy: 0.9852\n",
      "Epoch 129/200\n",
      "67/67 [==============================] - 1s 13ms/step - loss: 0.0384 - accuracy: 0.9845 - val_loss: 0.0374 - val_accuracy: 0.9851\n",
      "Epoch 130/200\n",
      "67/67 [==============================] - 1s 12ms/step - loss: 0.0373 - accuracy: 0.9852 - val_loss: 0.0365 - val_accuracy: 0.9848\n",
      "Epoch 131/200\n",
      "67/67 [==============================] - 1s 13ms/step - loss: 0.0382 - accuracy: 0.9844 - val_loss: 0.0375 - val_accuracy: 0.9854\n",
      "Epoch 132/200\n",
      "67/67 [==============================] - 1s 12ms/step - loss: 0.0381 - accuracy: 0.9847 - val_loss: 0.0383 - val_accuracy: 0.9838\n",
      "Epoch 133/200\n",
      "67/67 [==============================] - 1s 12ms/step - loss: 0.0379 - accuracy: 0.9851 - val_loss: 0.0394 - val_accuracy: 0.9843\n",
      "Epoch 134/200\n",
      "67/67 [==============================] - 1s 12ms/step - loss: 0.0369 - accuracy: 0.9852 - val_loss: 0.0361 - val_accuracy: 0.9853\n",
      "Epoch 135/200\n",
      "67/67 [==============================] - 1s 13ms/step - loss: 0.0370 - accuracy: 0.9850 - val_loss: 0.0360 - val_accuracy: 0.9859\n",
      "Epoch 136/200\n",
      "67/67 [==============================] - 1s 13ms/step - loss: 0.0368 - accuracy: 0.9854 - val_loss: 0.0357 - val_accuracy: 0.9855\n",
      "Epoch 137/200\n",
      "67/67 [==============================] - 1s 14ms/step - loss: 0.0375 - accuracy: 0.9847 - val_loss: 0.0356 - val_accuracy: 0.9854\n",
      "Epoch 138/200\n",
      "67/67 [==============================] - 1s 13ms/step - loss: 0.0376 - accuracy: 0.9849 - val_loss: 0.0355 - val_accuracy: 0.9860\n",
      "Epoch 139/200\n",
      "67/67 [==============================] - 1s 14ms/step - loss: 0.0388 - accuracy: 0.9844 - val_loss: 0.0373 - val_accuracy: 0.9853\n",
      "Epoch 140/200\n",
      "67/67 [==============================] - 1s 13ms/step - loss: 0.0366 - accuracy: 0.9852 - val_loss: 0.0357 - val_accuracy: 0.9852\n",
      "Epoch 141/200\n",
      "67/67 [==============================] - 1s 13ms/step - loss: 0.0380 - accuracy: 0.9847 - val_loss: 0.0366 - val_accuracy: 0.9851\n",
      "Epoch 142/200\n",
      "67/67 [==============================] - 1s 13ms/step - loss: 0.0362 - accuracy: 0.9852 - val_loss: 0.0378 - val_accuracy: 0.9836\n",
      "Epoch 143/200\n",
      "67/67 [==============================] - 1s 13ms/step - loss: 0.0369 - accuracy: 0.9848 - val_loss: 0.0379 - val_accuracy: 0.9840\n",
      "Epoch 144/200\n",
      "67/67 [==============================] - 1s 13ms/step - loss: 0.0360 - accuracy: 0.9854 - val_loss: 0.0364 - val_accuracy: 0.9847\n",
      "Epoch 145/200\n",
      "67/67 [==============================] - 1s 13ms/step - loss: 0.0352 - accuracy: 0.9857 - val_loss: 0.0361 - val_accuracy: 0.9849\n",
      "Epoch 146/200\n",
      "67/67 [==============================] - 1s 12ms/step - loss: 0.0356 - accuracy: 0.9859 - val_loss: 0.0349 - val_accuracy: 0.9860\n",
      "Epoch 147/200\n",
      "67/67 [==============================] - 1s 12ms/step - loss: 0.0364 - accuracy: 0.9855 - val_loss: 0.0364 - val_accuracy: 0.9860\n",
      "Epoch 148/200\n",
      "67/67 [==============================] - 1s 13ms/step - loss: 0.0359 - accuracy: 0.9859 - val_loss: 0.0359 - val_accuracy: 0.9847\n",
      "Epoch 149/200\n",
      "67/67 [==============================] - 1s 13ms/step - loss: 0.0358 - accuracy: 0.9855 - val_loss: 0.0368 - val_accuracy: 0.9857\n",
      "Epoch 150/200\n",
      "67/67 [==============================] - 1s 13ms/step - loss: 0.0345 - accuracy: 0.9867 - val_loss: 0.0344 - val_accuracy: 0.9857\n",
      "Epoch 151/200\n",
      "67/67 [==============================] - 1s 13ms/step - loss: 0.0344 - accuracy: 0.9864 - val_loss: 0.0347 - val_accuracy: 0.9853\n",
      "Epoch 152/200\n",
      "67/67 [==============================] - 1s 13ms/step - loss: 0.0354 - accuracy: 0.9857 - val_loss: 0.0347 - val_accuracy: 0.9857\n",
      "Epoch 153/200\n",
      "67/67 [==============================] - 1s 15ms/step - loss: 0.0372 - accuracy: 0.9850 - val_loss: 0.0351 - val_accuracy: 0.9850\n",
      "Epoch 154/200\n",
      "67/67 [==============================] - 1s 14ms/step - loss: 0.0357 - accuracy: 0.9858 - val_loss: 0.0354 - val_accuracy: 0.9855\n",
      "Epoch 155/200\n",
      "67/67 [==============================] - 1s 13ms/step - loss: 0.0357 - accuracy: 0.9859 - val_loss: 0.0346 - val_accuracy: 0.9856\n",
      "Epoch 156/200\n",
      "67/67 [==============================] - 1s 14ms/step - loss: 0.0343 - accuracy: 0.9859 - val_loss: 0.0331 - val_accuracy: 0.9859\n",
      "Epoch 157/200\n",
      "67/67 [==============================] - 1s 14ms/step - loss: 0.0342 - accuracy: 0.9864 - val_loss: 0.0355 - val_accuracy: 0.9856\n",
      "Epoch 158/200\n",
      "67/67 [==============================] - 1s 14ms/step - loss: 0.0351 - accuracy: 0.9858 - val_loss: 0.0337 - val_accuracy: 0.9864\n",
      "Epoch 159/200\n",
      "67/67 [==============================] - 1s 13ms/step - loss: 0.0339 - accuracy: 0.9866 - val_loss: 0.0356 - val_accuracy: 0.9855\n",
      "Epoch 160/200\n",
      "67/67 [==============================] - 1s 13ms/step - loss: 0.0346 - accuracy: 0.9862 - val_loss: 0.0339 - val_accuracy: 0.9855\n",
      "Epoch 161/200\n",
      "67/67 [==============================] - 1s 13ms/step - loss: 0.0343 - accuracy: 0.9862 - val_loss: 0.0343 - val_accuracy: 0.9870\n",
      "Epoch 162/200\n",
      "67/67 [==============================] - 1s 13ms/step - loss: 0.0347 - accuracy: 0.9859 - val_loss: 0.0340 - val_accuracy: 0.9858\n",
      "Epoch 163/200\n",
      "67/67 [==============================] - 1s 13ms/step - loss: 0.0344 - accuracy: 0.9859 - val_loss: 0.0338 - val_accuracy: 0.9859\n",
      "Epoch 164/200\n",
      "67/67 [==============================] - 1s 13ms/step - loss: 0.0346 - accuracy: 0.9865 - val_loss: 0.0339 - val_accuracy: 0.9863\n",
      "Epoch 165/200\n",
      "67/67 [==============================] - 1s 13ms/step - loss: 0.0342 - accuracy: 0.9862 - val_loss: 0.0366 - val_accuracy: 0.9853\n",
      "Epoch 166/200\n",
      "67/67 [==============================] - 1s 13ms/step - loss: 0.0343 - accuracy: 0.9861 - val_loss: 0.0332 - val_accuracy: 0.9865\n",
      "Epoch 167/200\n",
      "67/67 [==============================] - 1s 13ms/step - loss: 0.0344 - accuracy: 0.9864 - val_loss: 0.0325 - val_accuracy: 0.9865\n",
      "Epoch 168/200\n",
      "67/67 [==============================] - 1s 13ms/step - loss: 0.0340 - accuracy: 0.9863 - val_loss: 0.0348 - val_accuracy: 0.9853\n",
      "Epoch 169/200\n",
      "67/67 [==============================] - 1s 14ms/step - loss: 0.0334 - accuracy: 0.9869 - val_loss: 0.0325 - val_accuracy: 0.9869\n",
      "Epoch 170/200\n",
      "67/67 [==============================] - 1s 13ms/step - loss: 0.0338 - accuracy: 0.9865 - val_loss: 0.0379 - val_accuracy: 0.9827\n",
      "Epoch 171/200\n",
      "67/67 [==============================] - 1s 13ms/step - loss: 0.0336 - accuracy: 0.9869 - val_loss: 0.0344 - val_accuracy: 0.9851\n"
     ]
    },
    {
     "name": "stdout",
     "output_type": "stream",
     "text": [
      "Epoch 172/200\n",
      "67/67 [==============================] - 1s 12ms/step - loss: 0.0327 - accuracy: 0.9871 - val_loss: 0.0330 - val_accuracy: 0.9865\n",
      "Epoch 173/200\n",
      "67/67 [==============================] - 1s 12ms/step - loss: 0.0324 - accuracy: 0.9872 - val_loss: 0.0346 - val_accuracy: 0.9850\n",
      "Epoch 174/200\n",
      "67/67 [==============================] - 1s 12ms/step - loss: 0.0340 - accuracy: 0.9867 - val_loss: 0.0331 - val_accuracy: 0.9859\n",
      "Epoch 175/200\n",
      "67/67 [==============================] - 1s 12ms/step - loss: 0.0333 - accuracy: 0.9866 - val_loss: 0.0332 - val_accuracy: 0.9869\n",
      "Epoch 176/200\n",
      "67/67 [==============================] - 1s 13ms/step - loss: 0.0340 - accuracy: 0.9866 - val_loss: 0.0335 - val_accuracy: 0.9864\n",
      "Epoch 177/200\n",
      "67/67 [==============================] - 1s 13ms/step - loss: 0.0342 - accuracy: 0.9862 - val_loss: 0.0341 - val_accuracy: 0.9863\n",
      "Epoch 178/200\n",
      "67/67 [==============================] - 1s 12ms/step - loss: 0.0323 - accuracy: 0.9872 - val_loss: 0.0317 - val_accuracy: 0.9870\n",
      "Epoch 179/200\n",
      "67/67 [==============================] - 1s 13ms/step - loss: 0.0317 - accuracy: 0.9875 - val_loss: 0.0319 - val_accuracy: 0.9868\n",
      "Epoch 180/200\n",
      "67/67 [==============================] - 1s 13ms/step - loss: 0.0329 - accuracy: 0.9869 - val_loss: 0.0318 - val_accuracy: 0.9873\n",
      "Epoch 181/200\n",
      "67/67 [==============================] - 1s 13ms/step - loss: 0.0328 - accuracy: 0.9867 - val_loss: 0.0322 - val_accuracy: 0.9874\n",
      "Epoch 182/200\n",
      "67/67 [==============================] - 1s 13ms/step - loss: 0.0323 - accuracy: 0.9871 - val_loss: 0.0319 - val_accuracy: 0.9864\n",
      "Epoch 183/200\n",
      "67/67 [==============================] - 1s 13ms/step - loss: 0.0324 - accuracy: 0.9865 - val_loss: 0.0321 - val_accuracy: 0.9867\n",
      "Epoch 184/200\n",
      "67/67 [==============================] - 1s 12ms/step - loss: 0.0325 - accuracy: 0.9873 - val_loss: 0.0313 - val_accuracy: 0.9880\n",
      "Epoch 185/200\n",
      "67/67 [==============================] - 1s 13ms/step - loss: 0.0324 - accuracy: 0.9872 - val_loss: 0.0340 - val_accuracy: 0.9862\n",
      "Epoch 186/200\n",
      "67/67 [==============================] - 1s 12ms/step - loss: 0.0351 - accuracy: 0.9860 - val_loss: 0.0412 - val_accuracy: 0.9812\n",
      "Epoch 187/200\n",
      "67/67 [==============================] - 1s 13ms/step - loss: 0.0337 - accuracy: 0.9862 - val_loss: 0.0317 - val_accuracy: 0.9875\n",
      "Epoch 188/200\n",
      "67/67 [==============================] - 1s 13ms/step - loss: 0.0324 - accuracy: 0.9870 - val_loss: 0.0312 - val_accuracy: 0.9880\n",
      "Epoch 189/200\n",
      "67/67 [==============================] - 1s 13ms/step - loss: 0.0315 - accuracy: 0.9878 - val_loss: 0.0326 - val_accuracy: 0.9863\n",
      "Epoch 190/200\n",
      "67/67 [==============================] - 1s 13ms/step - loss: 0.0315 - accuracy: 0.9878 - val_loss: 0.0329 - val_accuracy: 0.9862\n",
      "Epoch 191/200\n",
      "67/67 [==============================] - 1s 13ms/step - loss: 0.0316 - accuracy: 0.9873 - val_loss: 0.0310 - val_accuracy: 0.9881\n",
      "Epoch 192/200\n",
      "67/67 [==============================] - 1s 13ms/step - loss: 0.0317 - accuracy: 0.9873 - val_loss: 0.0303 - val_accuracy: 0.9880\n",
      "Epoch 193/200\n",
      "67/67 [==============================] - 1s 13ms/step - loss: 0.0310 - accuracy: 0.9877 - val_loss: 0.0343 - val_accuracy: 0.9854\n",
      "Epoch 194/200\n",
      "67/67 [==============================] - 1s 13ms/step - loss: 0.0319 - accuracy: 0.9873 - val_loss: 0.0335 - val_accuracy: 0.9863\n",
      "Epoch 195/200\n",
      "67/67 [==============================] - 1s 13ms/step - loss: 0.0320 - accuracy: 0.9870 - val_loss: 0.0306 - val_accuracy: 0.9875\n",
      "Epoch 196/200\n",
      "67/67 [==============================] - 1s 13ms/step - loss: 0.0332 - accuracy: 0.9867 - val_loss: 0.0357 - val_accuracy: 0.9843\n",
      "Epoch 197/200\n",
      "67/67 [==============================] - 1s 14ms/step - loss: 0.0315 - accuracy: 0.9872 - val_loss: 0.0327 - val_accuracy: 0.9871\n",
      "Epoch 198/200\n",
      "67/67 [==============================] - 1s 13ms/step - loss: 0.0304 - accuracy: 0.9879 - val_loss: 0.0309 - val_accuracy: 0.9877\n",
      "Epoch 199/200\n",
      "67/67 [==============================] - 1s 13ms/step - loss: 0.0303 - accuracy: 0.9877 - val_loss: 0.0298 - val_accuracy: 0.9886\n",
      "Epoch 200/200\n",
      "67/67 [==============================] - 1s 16ms/step - loss: 0.0322 - accuracy: 0.9868 - val_loss: 0.0313 - val_accuracy: 0.9874\n"
     ]
    }
   ],
   "source": [
    "start = process_time()\n",
    "history = model.fit(X_train, scaled_y_train, epochs = 200,validation_split=0.2, verbose = 1,batch_size=1000)\n",
    "stop = process_time()"
   ]
  },
  {
   "cell_type": "code",
   "execution_count": 26,
   "id": "a9ba27e7",
   "metadata": {},
   "outputs": [
    {
     "name": "stdout",
     "output_type": "stream",
     "text": [
      "Time(s): 463.203125\n"
     ]
    }
   ],
   "source": [
    "print(\"Time(s):\",stop-start)"
   ]
  },
  {
   "cell_type": "markdown",
   "id": "574a41de",
   "metadata": {},
   "source": [
    "# 效能評估"
   ]
  },
  {
   "cell_type": "code",
   "execution_count": 27,
   "id": "fba175e6",
   "metadata": {},
   "outputs": [],
   "source": [
    "import matplotlib.pyplot as plt\n",
    "def show_train_history(train_history,train,validation):\n",
    "    plt.plot(train_history.history[train])\n",
    "    plt.plot(train_history.history[validation])\n",
    "    plt.title('Train History')\n",
    "    plt.ylabel(train)\n",
    "    plt.xlabel('Epoch')\n",
    "    plt.legend(['train', 'validation'], loc='upper left')\n",
    "    plt.show()"
   ]
  },
  {
   "cell_type": "code",
   "execution_count": 28,
   "id": "c73ff1d5",
   "metadata": {},
   "outputs": [
    {
     "data": {
      "image/png": "[encoded data removed]",
      "text/plain": [
       "<Figure size 432x288 with 1 Axes>"
      ]
     },
     "metadata": {
      "needs_background": "light"
     },
     "output_type": "display_data"
    }
   ],
   "source": [
    "show_train_history(history,'accuracy','val_accuracy')"
   ]
  },
  {
   "cell_type": "code",
   "execution_count": 29,
   "id": "32540f2b",
   "metadata": {},
   "outputs": [
    {
     "data": {
      "image/png": "[encoded data removed]",
      "text/plain": [
       "<Figure size 432x288 with 1 Axes>"
      ]
     },
     "metadata": {
      "needs_background": "light"
     },
     "output_type": "display_data"
    }
   ],
   "source": [
    "show_train_history(history,'loss','val_loss')"
   ]
  },
  {
   "cell_type": "code",
   "execution_count": 30,
   "id": "3e4fd554",
   "metadata": {},
   "outputs": [
    {
     "name": "stdout",
     "output_type": "stream",
     "text": [
      "649/649 [==============================] - 3s 3ms/step - loss: 0.0287 - accuracy: 0.9885\n",
      "\n",
      "\t[Info] Accuracy of testing data = 98.9%\n"
     ]
    }
   ],
   "source": [
    "scores = model.evaluate(X_test, y_test)  \n",
    "print()  \n",
    "print(\"\\t[Info] Accuracy of testing data = {:2.1f}%\".format(scores[1]*100.0))"
   ]
  },
  {
   "cell_type": "code",
   "execution_count": null,
   "id": "6d5bde32",
   "metadata": {},
   "outputs": [],
   "source": []
  }
 ],
 "metadata": {
  "kernelspec": {
   "display_name": "Python 3",
   "language": "python",
   "name": "python3"
  },
  "language_info": {
   "codemirror_mode": {
    "name": "ipython",
    "version": 3
   },
   "file_extension": ".py",
   "mimetype": "text/x-python",
   "name": "python",
   "nbconvert_exporter": "python",
   "pygments_lexer": "ipython3",
   "version": "3.8.8"
  }
 },
 "nbformat": 4,
 "nbformat_minor": 5
}

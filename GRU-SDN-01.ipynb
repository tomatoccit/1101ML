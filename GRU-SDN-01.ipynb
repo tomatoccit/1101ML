{
 "cells": [
  {
   "cell_type": "code",
   "execution_count": 1,
   "id": "cd511dc2",
   "metadata": {},
   "outputs": [],
   "source": [
    "import pandas as pd\n",
    "import numpy as np\n",
    "import matplotlib.pyplot as plt\n",
    "from time import process_time\n",
    "import seaborn as sns\n",
    "\n",
    "from sklearn import model_selection\n",
    "from sklearn.model_selection import train_test_split\n",
    "from sklearn import ensemble, preprocessing, metrics\n",
    "from sklearn.metrics import classification_report, confusion_matrix\n",
    "\n",
    "from keras.utils import np_utils\n",
    "np.random.seed(10)\n",
    "import csv"
   ]
  },
  {
   "cell_type": "code",
   "execution_count": 2,
   "id": "da82dfc4",
   "metadata": {},
   "outputs": [
    {
     "name": "stdout",
     "output_type": "stream",
     "text": [
      "                  dt         switch       pktcount     bytecount  \\\n",
      "count  104345.000000  104345.000000  104345.000000  1.043450e+05   \n",
      "mean    17927.514169       4.214260   52860.954746  3.818660e+07   \n",
      "std     11977.642655       1.956327   52023.241460  4.877748e+07   \n",
      "min      2488.000000       1.000000       0.000000  0.000000e+00   \n",
      "25%      7098.000000       3.000000     808.000000  7.957600e+04   \n",
      "50%     11905.000000       4.000000   42828.000000  6.471930e+06   \n",
      "75%     29952.000000       5.000000   94796.000000  7.620354e+07   \n",
      "max     42935.000000      10.000000  260006.000000  1.471280e+08   \n",
      "\n",
      "                 dur      dur_nsec       tot_dur          flows  \\\n",
      "count  104345.000000  1.043450e+05  1.043450e+05  104345.000000   \n",
      "mean      321.497398  4.613880e+08  3.218865e+11       5.654234   \n",
      "std       283.518232  2.770019e+08  2.834029e+11       2.950036   \n",
      "min         0.000000  0.000000e+00  0.000000e+00       2.000000   \n",
      "25%       127.000000  2.340000e+08  1.270000e+11       3.000000   \n",
      "50%       251.000000  4.180000e+08  2.520000e+11       5.000000   \n",
      "75%       412.000000  7.030000e+08  4.130000e+11       7.000000   \n",
      "max      1881.000000  9.990000e+08  1.880000e+12      17.000000   \n",
      "\n",
      "           packetins     pktperflow   byteperflow        pktrate  \\\n",
      "count  104345.000000  104345.000000  1.043450e+05  104345.000000   \n",
      "mean     5200.383468    6381.715291  4.716150e+06     212.210676   \n",
      "std      5257.001450    7404.777808  7.560116e+06     246.855123   \n",
      "min         4.000000 -130933.000000 -1.464426e+08   -4365.000000   \n",
      "25%      1943.000000      29.000000  2.842000e+03       0.000000   \n",
      "50%      3024.000000    8305.000000  5.521680e+05     276.000000   \n",
      "75%      7462.000000   10017.000000  9.728112e+06     333.000000   \n",
      "max     25224.000000   19190.000000  1.495387e+07     639.000000   \n",
      "\n",
      "            Pairflow        port_no      tx_bytes      rx_bytes  \\\n",
      "count  104345.000000  104345.000000  1.043450e+05  1.043450e+05   \n",
      "mean        0.600987       2.331094  9.325264e+07  9.328039e+07   \n",
      "std         0.489698       1.084333  1.519380e+08  1.330004e+08   \n",
      "min         0.000000       1.000000  2.527000e+03  8.560000e+02   \n",
      "25%         0.000000       1.000000  4.743000e+03  3.539000e+03   \n",
      "50%         1.000000       2.000000  4.219610e+06  1.338339e+07   \n",
      "75%         1.000000       3.000000  1.356398e+08  1.439277e+08   \n",
      "max         1.000000       5.000000  1.269982e+09  9.905962e+08   \n",
      "\n",
      "             tx_kbps        rx_kbps       tot_kbps          label  \n",
      "count  104345.000000  103839.000000  103839.000000  104345.000000  \n",
      "mean      998.899756    1003.811420    2007.578742       0.390857  \n",
      "std      2423.471618    2054.887034    3144.437173       0.487945  \n",
      "min         0.000000       0.000000       0.000000       0.000000  \n",
      "25%         0.000000       0.000000       0.000000       0.000000  \n",
      "50%         0.000000       0.000000       4.000000       0.000000  \n",
      "75%       251.000000     557.000000    3838.000000       1.000000  \n",
      "max     20580.000000   16577.000000   20580.000000       1.000000  \n"
     ]
    }
   ],
   "source": [
    "SDNdata = pd.read_csv(\"C:\\pythonwork\\dataset_sdn.csv\")\n",
    "print(SDNdata.describe())"
   ]
  },
  {
   "cell_type": "markdown",
   "id": "74db0f70",
   "metadata": {},
   "source": [
    "# 資料前處理"
   ]
  },
  {
   "cell_type": "code",
   "execution_count": 3,
   "id": "7913492a",
   "metadata": {},
   "outputs": [
    {
     "data": {
      "text/plain": [
       "(103839, 23)"
      ]
     },
     "execution_count": 3,
     "metadata": {},
     "output_type": "execute_result"
    }
   ],
   "source": [
    "#先把NULL值的資料Drop掉\n",
    "SDNdata.dropna(inplace=True)\n",
    "SDNdata.shape"
   ]
  },
  {
   "cell_type": "code",
   "execution_count": 4,
   "id": "b71cef22",
   "metadata": {},
   "outputs": [],
   "source": [
    "fe=SDNdata.groupby('Protocol').size()/len(SDNdata)\n",
    "SDNdata.loc[:,'Protocol']=SDNdata['Protocol'].map(fe)"
   ]
  },
  {
   "cell_type": "code",
   "execution_count": 5,
   "id": "d89f2d6f",
   "metadata": {},
   "outputs": [],
   "source": [
    "fe=SDNdata.groupby('dst').size()/len(SDNdata)\n",
    "SDNdata.loc[:,'dst']=SDNdata['dst'].map(fe)"
   ]
  },
  {
   "cell_type": "code",
   "execution_count": 6,
   "id": "9b1e9899",
   "metadata": {},
   "outputs": [],
   "source": [
    "fe=SDNdata.groupby('src').size()/len(SDNdata)\n",
    "SDNdata.loc[:,'src']=SDNdata['src'].map(fe)"
   ]
  },
  {
   "cell_type": "code",
   "execution_count": 7,
   "id": "e3187ecb",
   "metadata": {},
   "outputs": [],
   "source": [
    "#把資料分為屬性和標籤，然後20%測試80%訓練\n",
    "x = SDNdata.drop('label', axis=1)\n",
    "y = SDNdata['label']\n",
    "x_train, x_test, y_train, y_test = train_test_split(x, y, test_size = 0.20,random_state=100)"
   ]
  },
  {
   "cell_type": "code",
   "execution_count": 8,
   "id": "46fa98dc",
   "metadata": {},
   "outputs": [],
   "source": [
    "#指定陣列\n",
    "df_x_train =pd.DataFrame(x_train)\n",
    "df_x_test =pd.DataFrame(x_test)\n",
    "df_y_train =pd.DataFrame(y_train)\n",
    "df_y_test =pd.DataFrame(y_test)"
   ]
  },
  {
   "cell_type": "code",
   "execution_count": 9,
   "id": "54c47875",
   "metadata": {},
   "outputs": [],
   "source": [
    "#標準化\n",
    "minmax_scale = preprocessing.MinMaxScaler(feature_range=(0, 1))\n",
    "scaled_x_train=minmax_scale.fit_transform(df_x_train)\n",
    "scaled_x_test=minmax_scale.fit_transform(df_x_test)\n",
    "scaled_y_train=minmax_scale.fit_transform(df_y_train)\n",
    "scaled_y_test=minmax_scale.fit_transform(df_y_test)"
   ]
  },
  {
   "cell_type": "code",
   "execution_count": 10,
   "id": "e6e7ca2c",
   "metadata": {},
   "outputs": [
    {
     "data": {
      "text/plain": [
       "(83071, 22)"
      ]
     },
     "execution_count": 10,
     "metadata": {},
     "output_type": "execute_result"
    }
   ],
   "source": [
    "scaled_x_train.shape"
   ]
  },
  {
   "cell_type": "code",
   "execution_count": 11,
   "id": "94dd4474",
   "metadata": {},
   "outputs": [
    {
     "data": {
      "text/plain": [
       "(83071, 1)"
      ]
     },
     "execution_count": 11,
     "metadata": {},
     "output_type": "execute_result"
    }
   ],
   "source": [
    "scaled_y_train.shape"
   ]
  },
  {
   "cell_type": "code",
   "execution_count": 12,
   "id": "9bd952d6",
   "metadata": {},
   "outputs": [
    {
     "data": {
      "text/plain": [
       "(20768, 22)"
      ]
     },
     "execution_count": 12,
     "metadata": {},
     "output_type": "execute_result"
    }
   ],
   "source": [
    "scaled_x_test.shape"
   ]
  },
  {
   "cell_type": "code",
   "execution_count": 13,
   "id": "526dc4fb",
   "metadata": {},
   "outputs": [
    {
     "data": {
      "text/plain": [
       "(20768, 1)"
      ]
     },
     "execution_count": 13,
     "metadata": {},
     "output_type": "execute_result"
    }
   ],
   "source": [
    "scaled_y_test.shape"
   ]
  },
  {
   "cell_type": "code",
   "execution_count": 14,
   "id": "649af3fb",
   "metadata": {},
   "outputs": [],
   "source": [
    "X_train = np.reshape(scaled_x_train, (scaled_x_train.shape[0], 1, scaled_x_train.shape[1]))\n",
    "\n",
    "X_test = np.reshape(scaled_x_test, (scaled_x_test.shape[0], 1, scaled_x_test.shape[1]))"
   ]
  },
  {
   "cell_type": "code",
   "execution_count": 15,
   "id": "7d270c06",
   "metadata": {},
   "outputs": [
    {
     "data": {
      "text/plain": [
       "(83071, 1, 22)"
      ]
     },
     "execution_count": 15,
     "metadata": {},
     "output_type": "execute_result"
    }
   ],
   "source": [
    "X_train.shape"
   ]
  },
  {
   "cell_type": "code",
   "execution_count": 16,
   "id": "91583617",
   "metadata": {},
   "outputs": [
    {
     "data": {
      "text/plain": [
       "(20768, 1, 22)"
      ]
     },
     "execution_count": 16,
     "metadata": {},
     "output_type": "execute_result"
    }
   ],
   "source": [
    "X_test.shape"
   ]
  },
  {
   "cell_type": "markdown",
   "id": "01ddd001",
   "metadata": {},
   "source": [
    "# 建立模型"
   ]
  },
  {
   "cell_type": "code",
   "execution_count": 17,
   "id": "0161d094",
   "metadata": {},
   "outputs": [],
   "source": [
    "from keras.models import Sequential\n",
    "from keras.layers.core import Dense, Dropout, Activation\n",
    "from keras.layers.embeddings import Embedding\n",
    "from keras.layers.recurrent import SimpleRNN\n",
    "from keras.layers import Dense, LSTM, Bidirectional,GRU\n"
   ]
  },
  {
   "cell_type": "code",
   "execution_count": 18,
   "id": "a6bbde3f",
   "metadata": {},
   "outputs": [],
   "source": [
    "model = Sequential()"
   ]
  },
  {
   "cell_type": "code",
   "execution_count": 19,
   "id": "3e6a3a55",
   "metadata": {},
   "outputs": [],
   "source": [
    "model.add(GRU(120,input_shape=(1, 22), return_sequences=True))"
   ]
  },
  {
   "cell_type": "code",
   "execution_count": 20,
   "id": "4888723d",
   "metadata": {},
   "outputs": [],
   "source": [
    "model.add(Dropout(0.2))"
   ]
  },
  {
   "cell_type": "code",
   "execution_count": 21,
   "id": "d6d93ede",
   "metadata": {},
   "outputs": [],
   "source": [
    "model.add(GRU(120, return_sequences=True))"
   ]
  },
  {
   "cell_type": "code",
   "execution_count": 22,
   "id": "609e3ac3",
   "metadata": {},
   "outputs": [],
   "source": [
    "model.add(Dropout(0.2))"
   ]
  },
  {
   "cell_type": "code",
   "execution_count": 23,
   "id": "6d1f5573",
   "metadata": {},
   "outputs": [],
   "source": [
    "model.add(GRU(120, return_sequences=False))"
   ]
  },
  {
   "cell_type": "code",
   "execution_count": 24,
   "id": "beb1ffa0",
   "metadata": {},
   "outputs": [],
   "source": [
    "model.add(Dropout(0.2))"
   ]
  },
  {
   "cell_type": "code",
   "execution_count": 25,
   "id": "303d455f",
   "metadata": {},
   "outputs": [],
   "source": [
    "model.add(Dense(1, activation=\"sigmoid\"))"
   ]
  },
  {
   "cell_type": "code",
   "execution_count": 26,
   "id": "be501e4f",
   "metadata": {},
   "outputs": [],
   "source": [
    "model.compile(loss=\"binary_crossentropy\", optimizer=\"adam\",metrics=['accuracy'])"
   ]
  },
  {
   "cell_type": "code",
   "execution_count": 27,
   "id": "e8eadd48",
   "metadata": {},
   "outputs": [
    {
     "name": "stdout",
     "output_type": "stream",
     "text": [
      "Model: \"sequential\"\n",
      "_________________________________________________________________\n",
      "Layer (type)                 Output Shape              Param #   \n",
      "=================================================================\n",
      "gru (GRU)                    (None, 1, 120)            51840     \n",
      "_________________________________________________________________\n",
      "dropout (Dropout)            (None, 1, 120)            0         \n",
      "_________________________________________________________________\n",
      "gru_1 (GRU)                  (None, 1, 120)            87120     \n",
      "_________________________________________________________________\n",
      "dropout_1 (Dropout)          (None, 1, 120)            0         \n",
      "_________________________________________________________________\n",
      "gru_2 (GRU)                  (None, 120)               87120     \n",
      "_________________________________________________________________\n",
      "dropout_2 (Dropout)          (None, 120)               0         \n",
      "_________________________________________________________________\n",
      "dense (Dense)                (None, 1)                 121       \n",
      "=================================================================\n",
      "Total params: 226,201\n",
      "Trainable params: 226,201\n",
      "Non-trainable params: 0\n",
      "_________________________________________________________________\n"
     ]
    }
   ],
   "source": [
    "model.summary()"
   ]
  },
  {
   "cell_type": "code",
   "execution_count": 29,
   "id": "5fee6414",
   "metadata": {},
   "outputs": [
    {
     "name": "stdout",
     "output_type": "stream",
     "text": [
      "Epoch 1/200\n",
      "75/75 [==============================] - 4s 54ms/step - loss: 0.1067 - accuracy: 0.9528 - val_loss: 0.0933 - val_accuracy: 0.9587\n",
      "Epoch 2/200\n",
      "75/75 [==============================] - 4s 52ms/step - loss: 0.1049 - accuracy: 0.9536 - val_loss: 0.0920 - val_accuracy: 0.9590\n",
      "Epoch 3/200\n",
      "75/75 [==============================] - 4s 53ms/step - loss: 0.1017 - accuracy: 0.9554 - val_loss: 0.0890 - val_accuracy: 0.9626\n",
      "Epoch 4/200\n",
      "75/75 [==============================] - 4s 54ms/step - loss: 0.1013 - accuracy: 0.9556 - val_loss: 0.0889 - val_accuracy: 0.9609\n",
      "Epoch 5/200\n",
      "75/75 [==============================] - 4s 52ms/step - loss: 0.0996 - accuracy: 0.9562 - val_loss: 0.0876 - val_accuracy: 0.9621\n",
      "Epoch 6/200\n",
      "75/75 [==============================] - 4s 54ms/step - loss: 0.0960 - accuracy: 0.9576 - val_loss: 0.0838 - val_accuracy: 0.9641\n",
      "Epoch 7/200\n",
      "75/75 [==============================] - 4s 53ms/step - loss: 0.0937 - accuracy: 0.9590 - val_loss: 0.0816 - val_accuracy: 0.9636\n",
      "Epoch 8/200\n",
      "75/75 [==============================] - 4s 52ms/step - loss: 0.0926 - accuracy: 0.9594 - val_loss: 0.0860 - val_accuracy: 0.9627\n",
      "Epoch 9/200\n",
      "75/75 [==============================] - 4s 54ms/step - loss: 0.0924 - accuracy: 0.9594 - val_loss: 0.0800 - val_accuracy: 0.9647\n",
      "Epoch 10/200\n",
      "75/75 [==============================] - 4s 53ms/step - loss: 0.0896 - accuracy: 0.9605 - val_loss: 0.0787 - val_accuracy: 0.9650\n",
      "Epoch 11/200\n",
      "75/75 [==============================] - 4s 51ms/step - loss: 0.0883 - accuracy: 0.9611 - val_loss: 0.0812 - val_accuracy: 0.9640\n",
      "Epoch 12/200\n",
      "75/75 [==============================] - 4s 53ms/step - loss: 0.0886 - accuracy: 0.9611 - val_loss: 0.0763 - val_accuracy: 0.9658\n",
      "Epoch 13/200\n",
      "75/75 [==============================] - 4s 53ms/step - loss: 0.0868 - accuracy: 0.9615 - val_loss: 0.0747 - val_accuracy: 0.9668\n",
      "Epoch 14/200\n",
      "75/75 [==============================] - 5s 64ms/step - loss: 0.0852 - accuracy: 0.9620 - val_loss: 0.0748 - val_accuracy: 0.9659\n",
      "Epoch 15/200\n",
      "75/75 [==============================] - 5s 71ms/step - loss: 0.0836 - accuracy: 0.9628 - val_loss: 0.0738 - val_accuracy: 0.9661\n",
      "Epoch 16/200\n",
      "75/75 [==============================] - 5s 70ms/step - loss: 0.0830 - accuracy: 0.9639 - val_loss: 0.0713 - val_accuracy: 0.9683\n",
      "Epoch 17/200\n",
      "75/75 [==============================] - 5s 70ms/step - loss: 0.0812 - accuracy: 0.9633 - val_loss: 0.0752 - val_accuracy: 0.9657\n",
      "Epoch 18/200\n",
      "75/75 [==============================] - 5s 65ms/step - loss: 0.0820 - accuracy: 0.9629 - val_loss: 0.0689 - val_accuracy: 0.9680\n",
      "Epoch 19/200\n",
      "75/75 [==============================] - 5s 68ms/step - loss: 0.0795 - accuracy: 0.9649 - val_loss: 0.0690 - val_accuracy: 0.9677loss: 0.0795 - \n",
      "Epoch 20/200\n",
      "75/75 [==============================] - 5s 65ms/step - loss: 0.0786 - accuracy: 0.9653 - val_loss: 0.0672 - val_accuracy: 0.9692\n",
      "Epoch 21/200\n",
      "75/75 [==============================] - 5s 61ms/step - loss: 0.0772 - accuracy: 0.9662 - val_loss: 0.0784 - val_accuracy: 0.9652\n",
      "Epoch 22/200\n",
      "75/75 [==============================] - 5s 62ms/step - loss: 0.0763 - accuracy: 0.9665 - val_loss: 0.0647 - val_accuracy: 0.9705\n",
      "Epoch 23/200\n",
      "75/75 [==============================] - 5s 67ms/step - loss: 0.0741 - accuracy: 0.9669 - val_loss: 0.0663 - val_accuracy: 0.9693\n",
      "Epoch 24/200\n",
      "75/75 [==============================] - ETA: 0s - loss: 0.0744 - accuracy: 0.96 - 5s 62ms/step - loss: 0.0745 - accuracy: 0.9662 - val_loss: 0.0648 - val_accuracy: 0.9717\n",
      "Epoch 25/200\n",
      "75/75 [==============================] - 5s 64ms/step - loss: 0.0740 - accuracy: 0.9666 - val_loss: 0.0635 - val_accuracy: 0.9704\n",
      "Epoch 26/200\n",
      "75/75 [==============================] - 5s 62ms/step - loss: 0.0724 - accuracy: 0.9683 - val_loss: 0.0619 - val_accuracy: 0.9722\n",
      "Epoch 27/200\n",
      "75/75 [==============================] - 5s 66ms/step - loss: 0.0703 - accuracy: 0.9684 - val_loss: 0.0605 - val_accuracy: 0.9727\n",
      "Epoch 28/200\n",
      "75/75 [==============================] - 5s 63ms/step - loss: 0.0724 - accuracy: 0.9678 - val_loss: 0.0639 - val_accuracy: 0.9705\n",
      "Epoch 29/200\n",
      "75/75 [==============================] - 5s 63ms/step - loss: 0.0717 - accuracy: 0.9688 - val_loss: 0.0623 - val_accuracy: 0.9709\n",
      "Epoch 30/200\n",
      "75/75 [==============================] - 5s 63ms/step - loss: 0.0694 - accuracy: 0.9691 - val_loss: 0.0587 - val_accuracy: 0.9735\n",
      "Epoch 31/200\n",
      "75/75 [==============================] - 5s 61ms/step - loss: 0.0686 - accuracy: 0.9689 - val_loss: 0.0603 - val_accuracy: 0.9711\n",
      "Epoch 32/200\n",
      "75/75 [==============================] - 5s 71ms/step - loss: 0.0686 - accuracy: 0.9696 - val_loss: 0.0606 - val_accuracy: 0.9716\n",
      "Epoch 33/200\n",
      "75/75 [==============================] - 4s 59ms/step - loss: 0.0697 - accuracy: 0.9688 - val_loss: 0.0575 - val_accuracy: 0.9735\n",
      "Epoch 34/200\n",
      "75/75 [==============================] - 4s 53ms/step - loss: 0.0668 - accuracy: 0.9702 - val_loss: 0.0581 - val_accuracy: 0.9753\n",
      "Epoch 35/200\n",
      "75/75 [==============================] - 5s 61ms/step - loss: 0.0672 - accuracy: 0.9695 - val_loss: 0.0567 - val_accuracy: 0.9760\n",
      "Epoch 36/200\n",
      "75/75 [==============================] - 4s 58ms/step - loss: 0.0659 - accuracy: 0.9711 - val_loss: 0.0549 - val_accuracy: 0.9748\n",
      "Epoch 37/200\n",
      "75/75 [==============================] - 4s 59ms/step - loss: 0.0651 - accuracy: 0.9709 - val_loss: 0.0543 - val_accuracy: 0.9758\n",
      "Epoch 38/200\n",
      "75/75 [==============================] - 5s 69ms/step - loss: 0.0652 - accuracy: 0.9714 - val_loss: 0.0554 - val_accuracy: 0.9746\n",
      "Epoch 39/200\n",
      "75/75 [==============================] - 4s 59ms/step - loss: 0.0670 - accuracy: 0.9706 - val_loss: 0.0588 - val_accuracy: 0.9758\n",
      "Epoch 40/200\n",
      "75/75 [==============================] - 4s 57ms/step - loss: 0.0634 - accuracy: 0.9717 - val_loss: 0.0538 - val_accuracy: 0.9756\n",
      "Epoch 41/200\n",
      "75/75 [==============================] - 4s 56ms/step - loss: 0.0628 - accuracy: 0.9722 - val_loss: 0.0536 - val_accuracy: 0.9760\n",
      "Epoch 42/200\n",
      "75/75 [==============================] - 6s 74ms/step - loss: 0.0613 - accuracy: 0.9728 - val_loss: 0.0512 - val_accuracy: 0.9774\n",
      "Epoch 43/200\n",
      "75/75 [==============================] - 4s 60ms/step - loss: 0.0616 - accuracy: 0.9726 - val_loss: 0.0556 - val_accuracy: 0.9760\n",
      "Epoch 44/200\n",
      "75/75 [==============================] - 4s 55ms/step - loss: 0.0596 - accuracy: 0.9738 - val_loss: 0.0518 - val_accuracy: 0.9769\n",
      "Epoch 45/200\n",
      "75/75 [==============================] - 4s 57ms/step - loss: 0.0595 - accuracy: 0.9736 - val_loss: 0.0503 - val_accuracy: 0.9783\n",
      "Epoch 46/200\n",
      "75/75 [==============================] - 6s 74ms/step - loss: 0.0611 - accuracy: 0.9736 - val_loss: 0.0504 - val_accuracy: 0.9786\n",
      "Epoch 47/200\n",
      "75/75 [==============================] - 5s 61ms/step - loss: 0.0597 - accuracy: 0.9738 - val_loss: 0.0510 - val_accuracy: 0.9765\n",
      "Epoch 48/200\n",
      "75/75 [==============================] - 4s 55ms/step - loss: 0.0608 - accuracy: 0.9734 - val_loss: 0.0517 - val_accuracy: 0.9780\n",
      "Epoch 49/200\n",
      "75/75 [==============================] - 4s 59ms/step - loss: 0.0609 - accuracy: 0.9736 - val_loss: 0.0496 - val_accuracy: 0.9786\n",
      "Epoch 50/200\n",
      "75/75 [==============================] - 6s 74ms/step - loss: 0.0572 - accuracy: 0.9749 - val_loss: 0.0479 - val_accuracy: 0.9798\n",
      "Epoch 51/200\n",
      "75/75 [==============================] - 5s 65ms/step - loss: 0.0572 - accuracy: 0.9749 - val_loss: 0.0483 - val_accuracy: 0.9798\n",
      "Epoch 52/200\n",
      "75/75 [==============================] - 5s 64ms/step - loss: 0.0559 - accuracy: 0.9752 - val_loss: 0.0477 - val_accuracy: 0.9798\n",
      "Epoch 53/200\n",
      "75/75 [==============================] - 5s 61ms/step - loss: 0.0550 - accuracy: 0.9763 - val_loss: 0.0475 - val_accuracy: 0.9793\n",
      "Epoch 54/200\n",
      "75/75 [==============================] - 4s 54ms/step - loss: 0.0561 - accuracy: 0.9756 - val_loss: 0.0457 - val_accuracy: 0.9804\n",
      "Epoch 55/200\n",
      "75/75 [==============================] - 4s 52ms/step - loss: 0.0553 - accuracy: 0.9763 - val_loss: 0.0465 - val_accuracy: 0.9797\n",
      "Epoch 56/200\n",
      "75/75 [==============================] - 4s 49ms/step - loss: 0.0547 - accuracy: 0.9761 - val_loss: 0.0442 - val_accuracy: 0.9813\n",
      "Epoch 57/200\n",
      "75/75 [==============================] - 4s 49ms/step - loss: 0.0552 - accuracy: 0.9761 - val_loss: 0.0523 - val_accuracy: 0.9777\n"
     ]
    },
    {
     "name": "stdout",
     "output_type": "stream",
     "text": [
      "Epoch 58/200\n",
      "75/75 [==============================] - 4s 50ms/step - loss: 0.0543 - accuracy: 0.9762 - val_loss: 0.0452 - val_accuracy: 0.9813\n",
      "Epoch 59/200\n",
      "75/75 [==============================] - 4s 52ms/step - loss: 0.0528 - accuracy: 0.9768 - val_loss: 0.0459 - val_accuracy: 0.9801\n",
      "Epoch 60/200\n",
      "75/75 [==============================] - 4s 52ms/step - loss: 0.0532 - accuracy: 0.9771 - val_loss: 0.0434 - val_accuracy: 0.9817\n",
      "Epoch 61/200\n",
      "75/75 [==============================] - 4s 49ms/step - loss: 0.0514 - accuracy: 0.9776 - val_loss: 0.0459 - val_accuracy: 0.9805\n",
      "Epoch 62/200\n",
      "75/75 [==============================] - 4s 51ms/step - loss: 0.0520 - accuracy: 0.9774 - val_loss: 0.0423 - val_accuracy: 0.9815\n",
      "Epoch 63/200\n",
      "75/75 [==============================] - 4s 52ms/step - loss: 0.0513 - accuracy: 0.9780 - val_loss: 0.0406 - val_accuracy: 0.9831\n",
      "Epoch 64/200\n",
      "75/75 [==============================] - 4s 55ms/step - loss: 0.0504 - accuracy: 0.9778 - val_loss: 0.0414 - val_accuracy: 0.9824\n",
      "Epoch 65/200\n",
      "75/75 [==============================] - 4s 50ms/step - loss: 0.0501 - accuracy: 0.9787 - val_loss: 0.0416 - val_accuracy: 0.9819\n",
      "Epoch 66/200\n",
      "75/75 [==============================] - 4s 55ms/step - loss: 0.0499 - accuracy: 0.9787 - val_loss: 0.0457 - val_accuracy: 0.9800\n",
      "Epoch 67/200\n",
      "75/75 [==============================] - 4s 51ms/step - loss: 0.0512 - accuracy: 0.9780 - val_loss: 0.0411 - val_accuracy: 0.9816\n",
      "Epoch 68/200\n",
      "75/75 [==============================] - 4s 52ms/step - loss: 0.0494 - accuracy: 0.9791 - val_loss: 0.0428 - val_accuracy: 0.9809\n",
      "Epoch 69/200\n",
      "75/75 [==============================] - 4s 53ms/step - loss: 0.0481 - accuracy: 0.9787 - val_loss: 0.0386 - val_accuracy: 0.9844\n",
      "Epoch 70/200\n",
      "75/75 [==============================] - 4s 50ms/step - loss: 0.0501 - accuracy: 0.9783 - val_loss: 0.0422 - val_accuracy: 0.9816\n",
      "Epoch 71/200\n",
      "75/75 [==============================] - 4s 48ms/step - loss: 0.0501 - accuracy: 0.9787 - val_loss: 0.0411 - val_accuracy: 0.9810\n",
      "Epoch 72/200\n",
      "75/75 [==============================] - 4s 50ms/step - loss: 0.0473 - accuracy: 0.9798 - val_loss: 0.0396 - val_accuracy: 0.9833loss: 0.0475 - accuracy: 0.\n",
      "Epoch 73/200\n",
      "75/75 [==============================] - 4s 52ms/step - loss: 0.0471 - accuracy: 0.9795 - val_loss: 0.0386 - val_accuracy: 0.9830\n",
      "Epoch 74/200\n",
      "75/75 [==============================] - 4s 52ms/step - loss: 0.0464 - accuracy: 0.9804 - val_loss: 0.0372 - val_accuracy: 0.9850\n",
      "Epoch 75/200\n",
      "75/75 [==============================] - 4s 49ms/step - loss: 0.0458 - accuracy: 0.9801 - val_loss: 0.0373 - val_accuracy: 0.9829\n",
      "Epoch 76/200\n",
      "75/75 [==============================] - 4s 54ms/step - loss: 0.0481 - accuracy: 0.9789 - val_loss: 0.0397 - val_accuracy: 0.9821\n",
      "Epoch 77/200\n",
      "75/75 [==============================] - 4s 59ms/step - loss: 0.0450 - accuracy: 0.9808 - val_loss: 0.0365 - val_accuracy: 0.9854\n",
      "Epoch 78/200\n",
      "75/75 [==============================] - 4s 51ms/step - loss: 0.0450 - accuracy: 0.9808 - val_loss: 0.0354 - val_accuracy: 0.9842\n",
      "Epoch 79/200\n",
      "75/75 [==============================] - 4s 53ms/step - loss: 0.0445 - accuracy: 0.9810 - val_loss: 0.0373 - val_accuracy: 0.9840\n",
      "Epoch 80/200\n",
      "75/75 [==============================] - 4s 50ms/step - loss: 0.0448 - accuracy: 0.9806 - val_loss: 0.0352 - val_accuracy: 0.9853\n",
      "Epoch 81/200\n",
      "75/75 [==============================] - 4s 49ms/step - loss: 0.0441 - accuracy: 0.9812 - val_loss: 0.0348 - val_accuracy: 0.9860\n",
      "Epoch 82/200\n",
      "75/75 [==============================] - 4s 50ms/step - loss: 0.0454 - accuracy: 0.9805 - val_loss: 0.0362 - val_accuracy: 0.9854\n",
      "Epoch 83/200\n",
      "75/75 [==============================] - 4s 50ms/step - loss: 0.0426 - accuracy: 0.9811 - val_loss: 0.0336 - val_accuracy: 0.9853\n",
      "Epoch 84/200\n",
      "75/75 [==============================] - 4s 49ms/step - loss: 0.0431 - accuracy: 0.9814 - val_loss: 0.0342 - val_accuracy: 0.9866\n",
      "Epoch 85/200\n",
      "75/75 [==============================] - 4s 52ms/step - loss: 0.0439 - accuracy: 0.9812 - val_loss: 0.0385 - val_accuracy: 0.9838\n",
      "Epoch 86/200\n",
      "75/75 [==============================] - 5s 71ms/step - loss: 0.0431 - accuracy: 0.9814 - val_loss: 0.0330 - val_accuracy: 0.9865\n",
      "Epoch 87/200\n",
      "75/75 [==============================] - 5s 62ms/step - loss: 0.0426 - accuracy: 0.9812 - val_loss: 0.0376 - val_accuracy: 0.9846s - loss: 0.0427 - accuracy: 0.\n",
      "Epoch 88/200\n",
      "75/75 [==============================] - 5s 72ms/step - loss: 0.0428 - accuracy: 0.9815 - val_loss: 0.0341 - val_accuracy: 0.9851\n",
      "Epoch 89/200\n",
      "75/75 [==============================] - 5s 71ms/step - loss: 0.0420 - accuracy: 0.9816 - val_loss: 0.0345 - val_accuracy: 0.9847\n",
      "Epoch 90/200\n",
      "75/75 [==============================] - 5s 61ms/step - loss: 0.0400 - accuracy: 0.9823 - val_loss: 0.0328 - val_accuracy: 0.9862\n",
      "Epoch 91/200\n",
      "75/75 [==============================] - 5s 73ms/step - loss: 0.0416 - accuracy: 0.9819 - val_loss: 0.0309 - val_accuracy: 0.9863\n",
      "Epoch 92/200\n",
      "75/75 [==============================] - 5s 68ms/step - loss: 0.0408 - accuracy: 0.9823 - val_loss: 0.0315 - val_accuracy: 0.9862\n",
      "Epoch 93/200\n",
      "75/75 [==============================] - 5s 68ms/step - loss: 0.0410 - accuracy: 0.9824 - val_loss: 0.0327 - val_accuracy: 0.9863\n",
      "Epoch 94/200\n",
      "75/75 [==============================] - 5s 71ms/step - loss: 0.0407 - accuracy: 0.9822 - val_loss: 0.0314 - val_accuracy: 0.9864\n",
      "Epoch 95/200\n",
      "75/75 [==============================] - 5s 72ms/step - loss: 0.0402 - accuracy: 0.9827 - val_loss: 0.0330 - val_accuracy: 0.9853\n",
      "Epoch 96/200\n",
      "75/75 [==============================] - 5s 72ms/step - loss: 0.0402 - accuracy: 0.9828 - val_loss: 0.0353 - val_accuracy: 0.9846\n",
      "Epoch 97/200\n",
      "75/75 [==============================] - 5s 72ms/step - loss: 0.0389 - accuracy: 0.9831 - val_loss: 0.0309 - val_accuracy: 0.9857\n",
      "Epoch 98/200\n",
      "75/75 [==============================] - 6s 74ms/step - loss: 0.0391 - accuracy: 0.9830 - val_loss: 0.0303 - val_accuracy: 0.9862\n",
      "Epoch 99/200\n",
      "75/75 [==============================] - 5s 67ms/step - loss: 0.0382 - accuracy: 0.9835 - val_loss: 0.0300 - val_accuracy: 0.9865\n",
      "Epoch 100/200\n",
      "75/75 [==============================] - 5s 68ms/step - loss: 0.0408 - accuracy: 0.9828 - val_loss: 0.0381 - val_accuracy: 0.9825\n",
      "Epoch 101/200\n",
      "75/75 [==============================] - 5s 72ms/step - loss: 0.0366 - accuracy: 0.9839 - val_loss: 0.0301 - val_accuracy: 0.9870\n",
      "Epoch 102/200\n",
      "75/75 [==============================] - 5s 66ms/step - loss: 0.0389 - accuracy: 0.9833 - val_loss: 0.0292 - val_accuracy: 0.9875\n",
      "Epoch 103/200\n",
      "75/75 [==============================] - 5s 64ms/step - loss: 0.0371 - accuracy: 0.9843 - val_loss: 0.0279 - val_accuracy: 0.9880\n",
      "Epoch 104/200\n",
      "75/75 [==============================] - 5s 65ms/step - loss: 0.0370 - accuracy: 0.9839 - val_loss: 0.0277 - val_accuracy: 0.9877\n",
      "Epoch 105/200\n",
      "75/75 [==============================] - 5s 63ms/step - loss: 0.0371 - accuracy: 0.9839 - val_loss: 0.0276 - val_accuracy: 0.9881\n",
      "Epoch 106/200\n",
      "75/75 [==============================] - 5s 70ms/step - loss: 0.0382 - accuracy: 0.9842 - val_loss: 0.0274 - val_accuracy: 0.9880\n",
      "Epoch 107/200\n",
      "75/75 [==============================] - 5s 63ms/step - loss: 0.0373 - accuracy: 0.9841 - val_loss: 0.0302 - val_accuracy: 0.9881\n",
      "Epoch 108/200\n",
      "75/75 [==============================] - 5s 66ms/step - loss: 0.0368 - accuracy: 0.9839 - val_loss: 0.0288 - val_accuracy: 0.9872\n",
      "Epoch 109/200\n",
      "75/75 [==============================] - 5s 62ms/step - loss: 0.0366 - accuracy: 0.9841 - val_loss: 0.0282 - val_accuracy: 0.9868\n",
      "Epoch 110/200\n",
      "75/75 [==============================] - 5s 66ms/step - loss: 0.0370 - accuracy: 0.9844 - val_loss: 0.0272 - val_accuracy: 0.9883\n",
      "Epoch 111/200\n",
      "75/75 [==============================] - 5s 65ms/step - loss: 0.0372 - accuracy: 0.9843 - val_loss: 0.0294 - val_accuracy: 0.9882\n",
      "Epoch 112/200\n",
      "75/75 [==============================] - 5s 62ms/step - loss: 0.0355 - accuracy: 0.9846 - val_loss: 0.0265 - val_accuracy: 0.9880\n",
      "Epoch 113/200\n",
      "75/75 [==============================] - 5s 64ms/step - loss: 0.0345 - accuracy: 0.9850 - val_loss: 0.0265 - val_accuracy: 0.9894\n",
      "Epoch 114/200\n"
     ]
    },
    {
     "name": "stdout",
     "output_type": "stream",
     "text": [
      "75/75 [==============================] - 5s 64ms/step - loss: 0.0375 - accuracy: 0.9835 - val_loss: 0.0270 - val_accuracy: 0.9876\n",
      "Epoch 115/200\n",
      "75/75 [==============================] - 5s 67ms/step - loss: 0.0343 - accuracy: 0.9854 - val_loss: 0.0265 - val_accuracy: 0.9890\n",
      "Epoch 116/200\n",
      "75/75 [==============================] - 5s 68ms/step - loss: 0.0340 - accuracy: 0.9853 - val_loss: 0.0270 - val_accuracy: 0.9875\n",
      "Epoch 117/200\n",
      "75/75 [==============================] - 5s 67ms/step - loss: 0.0367 - accuracy: 0.9844 - val_loss: 0.0310 - val_accuracy: 0.9869\n",
      "Epoch 118/200\n",
      "75/75 [==============================] - 5s 67ms/step - loss: 0.0345 - accuracy: 0.9851 - val_loss: 0.0264 - val_accuracy: 0.9878\n",
      "Epoch 119/200\n",
      "75/75 [==============================] - 5s 69ms/step - loss: 0.0350 - accuracy: 0.9849 - val_loss: 0.0267 - val_accuracy: 0.9889\n",
      "Epoch 120/200\n",
      "75/75 [==============================] - 5s 64ms/step - loss: 0.0341 - accuracy: 0.9848 - val_loss: 0.0259 - val_accuracy: 0.9889\n",
      "Epoch 121/200\n",
      "75/75 [==============================] - 5s 68ms/step - loss: 0.0324 - accuracy: 0.9858 - val_loss: 0.0249 - val_accuracy: 0.9893\n",
      "Epoch 122/200\n",
      "75/75 [==============================] - 5s 69ms/step - loss: 0.0342 - accuracy: 0.9852 - val_loss: 0.0253 - val_accuracy: 0.9880\n",
      "Epoch 123/200\n",
      "75/75 [==============================] - 5s 66ms/step - loss: 0.0333 - accuracy: 0.9856 - val_loss: 0.0244 - val_accuracy: 0.9888\n",
      "Epoch 124/200\n",
      "75/75 [==============================] - 5s 63ms/step - loss: 0.0331 - accuracy: 0.9856 - val_loss: 0.0244 - val_accuracy: 0.9889\n",
      "Epoch 125/200\n",
      "75/75 [==============================] - 5s 66ms/step - loss: 0.0338 - accuracy: 0.9853 - val_loss: 0.0245 - val_accuracy: 0.9907\n",
      "Epoch 126/200\n",
      "75/75 [==============================] - 5s 64ms/step - loss: 0.0330 - accuracy: 0.9858 - val_loss: 0.0251 - val_accuracy: 0.9892\n",
      "Epoch 127/200\n",
      "75/75 [==============================] - 4s 54ms/step - loss: 0.0331 - accuracy: 0.9855 - val_loss: 0.0245 - val_accuracy: 0.9893\n",
      "Epoch 128/200\n",
      "75/75 [==============================] - 5s 61ms/step - loss: 0.0324 - accuracy: 0.9859 - val_loss: 0.0331 - val_accuracy: 0.9856\n",
      "Epoch 129/200\n",
      "75/75 [==============================] - 5s 64ms/step - loss: 0.0325 - accuracy: 0.9857 - val_loss: 0.0242 - val_accuracy: 0.9900\n",
      "Epoch 130/200\n",
      "75/75 [==============================] - 5s 65ms/step - loss: 0.0315 - accuracy: 0.9860 - val_loss: 0.0231 - val_accuracy: 0.9906\n",
      "Epoch 131/200\n",
      "75/75 [==============================] - 5s 63ms/step - loss: 0.0339 - accuracy: 0.9850 - val_loss: 0.0303 - val_accuracy: 0.9872\n",
      "Epoch 132/200\n",
      "75/75 [==============================] - 5s 65ms/step - loss: 0.0334 - accuracy: 0.9855 - val_loss: 0.0256 - val_accuracy: 0.9899\n",
      "Epoch 133/200\n",
      "75/75 [==============================] - 5s 71ms/step - loss: 0.0317 - accuracy: 0.9862 - val_loss: 0.0268 - val_accuracy: 0.9883\n",
      "Epoch 134/200\n",
      "75/75 [==============================] - 5s 66ms/step - loss: 0.0311 - accuracy: 0.9864 - val_loss: 0.0248 - val_accuracy: 0.9877\n",
      "Epoch 135/200\n",
      "75/75 [==============================] - 5s 69ms/step - loss: 0.0315 - accuracy: 0.9865 - val_loss: 0.0253 - val_accuracy: 0.9893\n",
      "Epoch 136/200\n",
      "75/75 [==============================] - 4s 56ms/step - loss: 0.0300 - accuracy: 0.9869 - val_loss: 0.0234 - val_accuracy: 0.9903\n",
      "Epoch 137/200\n",
      "75/75 [==============================] - 4s 57ms/step - loss: 0.0359 - accuracy: 0.9849 - val_loss: 0.0233 - val_accuracy: 0.9895\n",
      "Epoch 138/200\n",
      "75/75 [==============================] - 4s 56ms/step - loss: 0.0310 - accuracy: 0.9864 - val_loss: 0.0279 - val_accuracy: 0.9883\n",
      "Epoch 139/200\n",
      "75/75 [==============================] - 4s 54ms/step - loss: 0.0336 - accuracy: 0.9854 - val_loss: 0.0252 - val_accuracy: 0.9892\n",
      "Epoch 140/200\n",
      "75/75 [==============================] - 6s 73ms/step - loss: 0.0298 - accuracy: 0.9869 - val_loss: 0.0235 - val_accuracy: 0.9901\n",
      "Epoch 141/200\n",
      "75/75 [==============================] - 5s 67ms/step - loss: 0.0324 - accuracy: 0.9857 - val_loss: 0.0298 - val_accuracy: 0.9859- - ETA: 1s\n",
      "Epoch 142/200\n",
      "75/75 [==============================] - 4s 52ms/step - loss: 0.0298 - accuracy: 0.9873 - val_loss: 0.0251 - val_accuracy: 0.9887\n",
      "Epoch 143/200\n",
      "75/75 [==============================] - 4s 53ms/step - loss: 0.0294 - accuracy: 0.9875 - val_loss: 0.0229 - val_accuracy: 0.9890\n",
      "Epoch 144/200\n",
      "75/75 [==============================] - 3s 47ms/step - loss: 0.0314 - accuracy: 0.9864 - val_loss: 0.0236 - val_accuracy: 0.9903\n",
      "Epoch 145/200\n",
      "75/75 [==============================] - 4s 50ms/step - loss: 0.0312 - accuracy: 0.9868 - val_loss: 0.0228 - val_accuracy: 0.9904\n",
      "Epoch 146/200\n",
      "75/75 [==============================] - 4s 51ms/step - loss: 0.0298 - accuracy: 0.9873 - val_loss: 0.0223 - val_accuracy: 0.9901\n",
      "Epoch 147/200\n",
      "75/75 [==============================] - 4s 50ms/step - loss: 0.0303 - accuracy: 0.9867 - val_loss: 0.0265 - val_accuracy: 0.9866\n",
      "Epoch 148/200\n",
      "75/75 [==============================] - 4s 51ms/step - loss: 0.0325 - accuracy: 0.9860 - val_loss: 0.0224 - val_accuracy: 0.9906\n",
      "Epoch 149/200\n",
      "75/75 [==============================] - 3s 46ms/step - loss: 0.0298 - accuracy: 0.9870 - val_loss: 0.0275 - val_accuracy: 0.9887\n",
      "Epoch 150/200\n",
      "75/75 [==============================] - 4s 48ms/step - loss: 0.0297 - accuracy: 0.9872 - val_loss: 0.0227 - val_accuracy: 0.9912\n",
      "Epoch 151/200\n",
      "75/75 [==============================] - 4s 47ms/step - loss: 0.0305 - accuracy: 0.9864 - val_loss: 0.0255 - val_accuracy: 0.9895\n",
      "Epoch 152/200\n",
      "75/75 [==============================] - 3s 45ms/step - loss: 0.0278 - accuracy: 0.9880 - val_loss: 0.0216 - val_accuracy: 0.9895\n",
      "Epoch 153/200\n",
      "75/75 [==============================] - 3s 45ms/step - loss: 0.0288 - accuracy: 0.9876 - val_loss: 0.0254 - val_accuracy: 0.9890\n",
      "Epoch 154/200\n",
      "75/75 [==============================] - 4s 49ms/step - loss: 0.0286 - accuracy: 0.9875 - val_loss: 0.0219 - val_accuracy: 0.9907\n",
      "Epoch 155/200\n",
      "75/75 [==============================] - 4s 52ms/step - loss: 0.0283 - accuracy: 0.9881 - val_loss: 0.0213 - val_accuracy: 0.9901\n",
      "Epoch 156/200\n",
      "75/75 [==============================] - 4s 47ms/step - loss: 0.0287 - accuracy: 0.9878 - val_loss: 0.0220 - val_accuracy: 0.9894\n",
      "Epoch 157/200\n",
      "75/75 [==============================] - 4s 48ms/step - loss: 0.0280 - accuracy: 0.9879 - val_loss: 0.0233 - val_accuracy: 0.9892\n",
      "Epoch 158/200\n",
      "75/75 [==============================] - 5s 66ms/step - loss: 0.0283 - accuracy: 0.9878 - val_loss: 0.0232 - val_accuracy: 0.9900\n",
      "Epoch 159/200\n",
      "75/75 [==============================] - 4s 57ms/step - loss: 0.0305 - accuracy: 0.9866 - val_loss: 0.0228 - val_accuracy: 0.9904\n",
      "Epoch 160/200\n",
      "75/75 [==============================] - 5s 65ms/step - loss: 0.0288 - accuracy: 0.9876 - val_loss: 0.0217 - val_accuracy: 0.9907\n",
      "Epoch 161/200\n",
      "75/75 [==============================] - 5s 60ms/step - loss: 0.0284 - accuracy: 0.9872 - val_loss: 0.0231 - val_accuracy: 0.9907\n",
      "Epoch 162/200\n",
      "75/75 [==============================] - 4s 54ms/step - loss: 0.0272 - accuracy: 0.9881 - val_loss: 0.0232 - val_accuracy: 0.9912\n",
      "Epoch 163/200\n",
      "75/75 [==============================] - 4s 49ms/step - loss: 0.0292 - accuracy: 0.9874 - val_loss: 0.0210 - val_accuracy: 0.9911\n",
      "Epoch 164/200\n",
      "75/75 [==============================] - 4s 48ms/step - loss: 0.0284 - accuracy: 0.9880 - val_loss: 0.0214 - val_accuracy: 0.9911\n",
      "Epoch 165/200\n",
      "75/75 [==============================] - 4s 49ms/step - loss: 0.0277 - accuracy: 0.9872 - val_loss: 0.0220 - val_accuracy: 0.9894\n",
      "Epoch 166/200\n",
      "75/75 [==============================] - 4s 47ms/step - loss: 0.0276 - accuracy: 0.9879 - val_loss: 0.0223 - val_accuracy: 0.9905\n",
      "Epoch 167/200\n",
      "75/75 [==============================] - 4s 49ms/step - loss: 0.0279 - accuracy: 0.9881 - val_loss: 0.0219 - val_accuracy: 0.9918\n",
      "Epoch 168/200\n",
      "75/75 [==============================] - 4s 47ms/step - loss: 0.0270 - accuracy: 0.9885 - val_loss: 0.0219 - val_accuracy: 0.9911\n",
      "Epoch 169/200\n",
      "75/75 [==============================] - 4s 48ms/step - loss: 0.0276 - accuracy: 0.9881 - val_loss: 0.0212 - val_accuracy: 0.9919\n",
      "Epoch 170/200\n",
      "75/75 [==============================] - 3s 47ms/step - loss: 0.0292 - accuracy: 0.9874 - val_loss: 0.0207 - val_accuracy: 0.9910\n"
     ]
    },
    {
     "name": "stdout",
     "output_type": "stream",
     "text": [
      "Epoch 171/200\n",
      "75/75 [==============================] - 3s 46ms/step - loss: 0.0311 - accuracy: 0.9861 - val_loss: 0.0210 - val_accuracy: 0.9912\n",
      "Epoch 172/200\n",
      "75/75 [==============================] - 4s 49ms/step - loss: 0.0268 - accuracy: 0.9880 - val_loss: 0.0207 - val_accuracy: 0.9904\n",
      "Epoch 173/200\n",
      "75/75 [==============================] - 4s 48ms/step - loss: 0.0262 - accuracy: 0.9888 - val_loss: 0.0197 - val_accuracy: 0.9922\n",
      "Epoch 174/200\n",
      "75/75 [==============================] - 3s 46ms/step - loss: 0.0269 - accuracy: 0.9884 - val_loss: 0.0205 - val_accuracy: 0.9899\n",
      "Epoch 175/200\n",
      "75/75 [==============================] - 3s 47ms/step - loss: 0.0293 - accuracy: 0.9875 - val_loss: 0.0209 - val_accuracy: 0.9910\n",
      "Epoch 176/200\n",
      "75/75 [==============================] - 4s 49ms/step - loss: 0.0277 - accuracy: 0.9887 - val_loss: 0.0207 - val_accuracy: 0.9921\n",
      "Epoch 177/200\n",
      "75/75 [==============================] - 3s 44ms/step - loss: 0.0266 - accuracy: 0.9887 - val_loss: 0.0212 - val_accuracy: 0.9905\n",
      "Epoch 178/200\n",
      "75/75 [==============================] - 3s 46ms/step - loss: 0.0256 - accuracy: 0.9890 - val_loss: 0.0199 - val_accuracy: 0.9912\n",
      "Epoch 179/200\n",
      "75/75 [==============================] - 4s 53ms/step - loss: 0.0264 - accuracy: 0.9887 - val_loss: 0.0229 - val_accuracy: 0.9911\n",
      "Epoch 180/200\n",
      "75/75 [==============================] - 4s 53ms/step - loss: 0.0277 - accuracy: 0.9882 - val_loss: 0.0206 - val_accuracy: 0.9904\n",
      "Epoch 181/200\n",
      "75/75 [==============================] - 4s 54ms/step - loss: 0.0259 - accuracy: 0.9890 - val_loss: 0.0194 - val_accuracy: 0.9916\n",
      "Epoch 182/200\n",
      "75/75 [==============================] - 4s 49ms/step - loss: 0.0254 - accuracy: 0.9889 - val_loss: 0.0199 - val_accuracy: 0.9904\n",
      "Epoch 183/200\n",
      "75/75 [==============================] - 3s 47ms/step - loss: 0.0263 - accuracy: 0.9882 - val_loss: 0.0186 - val_accuracy: 0.9923\n",
      "Epoch 184/200\n",
      "75/75 [==============================] - 4s 50ms/step - loss: 0.0252 - accuracy: 0.9891 - val_loss: 0.0184 - val_accuracy: 0.9917\n",
      "Epoch 185/200\n",
      "75/75 [==============================] - 4s 51ms/step - loss: 0.0253 - accuracy: 0.9891 - val_loss: 0.0205 - val_accuracy: 0.9910\n",
      "Epoch 186/200\n",
      "75/75 [==============================] - 4s 54ms/step - loss: 0.0496 - accuracy: 0.9820 - val_loss: 0.0217 - val_accuracy: 0.9899\n",
      "Epoch 187/200\n",
      "75/75 [==============================] - 4s 48ms/step - loss: 0.0261 - accuracy: 0.9888 - val_loss: 0.0195 - val_accuracy: 0.9907\n",
      "Epoch 188/200\n",
      "75/75 [==============================] - 4s 48ms/step - loss: 0.0246 - accuracy: 0.9896 - val_loss: 0.0189 - val_accuracy: 0.9921\n",
      "Epoch 189/200\n",
      "75/75 [==============================] - 3s 46ms/step - loss: 0.0238 - accuracy: 0.9897 - val_loss: 0.0207 - val_accuracy: 0.9912\n",
      "Epoch 190/200\n",
      "75/75 [==============================] - 4s 47ms/step - loss: 0.0250 - accuracy: 0.9892 - val_loss: 0.0199 - val_accuracy: 0.9916\n",
      "Epoch 191/200\n",
      "75/75 [==============================] - 3s 46ms/step - loss: 0.0249 - accuracy: 0.9892 - val_loss: 0.0190 - val_accuracy: 0.9916\n",
      "Epoch 192/200\n",
      "75/75 [==============================] - 3s 46ms/step - loss: 0.0245 - accuracy: 0.9896 - val_loss: 0.0197 - val_accuracy: 0.9912\n",
      "Epoch 193/200\n",
      "75/75 [==============================] - 4s 49ms/step - loss: 0.0243 - accuracy: 0.9896 - val_loss: 0.0210 - val_accuracy: 0.9909\n",
      "Epoch 194/200\n",
      "75/75 [==============================] - 4s 53ms/step - loss: 0.0243 - accuracy: 0.9893 - val_loss: 0.0205 - val_accuracy: 0.9917\n",
      "Epoch 195/200\n",
      "75/75 [==============================] - 4s 47ms/step - loss: 0.0238 - accuracy: 0.9894 - val_loss: 0.0179 - val_accuracy: 0.9922\n",
      "Epoch 196/200\n",
      "75/75 [==============================] - 4s 47ms/step - loss: 0.0243 - accuracy: 0.9892 - val_loss: 0.0189 - val_accuracy: 0.9918\n",
      "Epoch 197/200\n",
      "75/75 [==============================] - 3s 46ms/step - loss: 0.0263 - accuracy: 0.9887 - val_loss: 0.0178 - val_accuracy: 0.9918\n",
      "Epoch 198/200\n",
      "75/75 [==============================] - 3s 47ms/step - loss: 0.0247 - accuracy: 0.9892 - val_loss: 0.0183 - val_accuracy: 0.9923\n",
      "Epoch 199/200\n",
      "75/75 [==============================] - 3s 46ms/step - loss: 0.0236 - accuracy: 0.9896 - val_loss: 0.0179 - val_accuracy: 0.9917\n",
      "Epoch 200/200\n",
      "75/75 [==============================] - 3s 46ms/step - loss: 0.0242 - accuracy: 0.9892 - val_loss: 0.0200 - val_accuracy: 0.9900\n"
     ]
    }
   ],
   "source": [
    "# 開始訓練  \n",
    "start = process_time()\n",
    "train_history = model.fit(X_train, scaled_y_train, epochs=200, validation_split=0.1, batch_size=1000)\n",
    "stop = process_time()"
   ]
  },
  {
   "cell_type": "code",
   "execution_count": 30,
   "id": "e3520a0c",
   "metadata": {},
   "outputs": [
    {
     "name": "stdout",
     "output_type": "stream",
     "text": [
      "Time(s): 2281.921875\n"
     ]
    }
   ],
   "source": [
    "print(\"Time(s):\",stop-start)"
   ]
  },
  {
   "cell_type": "markdown",
   "id": "528707ab",
   "metadata": {},
   "source": [
    "# 效能評估"
   ]
  },
  {
   "cell_type": "code",
   "execution_count": 31,
   "id": "31fcd77d",
   "metadata": {},
   "outputs": [],
   "source": [
    "import matplotlib.pyplot as plt\n",
    "def show_train_history(train_history,train,validation):\n",
    "    plt.plot(train_history.history[train])\n",
    "    plt.plot(train_history.history[validation])\n",
    "    plt.title('Train History')\n",
    "    plt.ylabel(train)\n",
    "    plt.xlabel('Epoch')\n",
    "    plt.legend(['train', 'validation'], loc='upper left')\n",
    "    plt.show()"
   ]
  },
  {
   "cell_type": "code",
   "execution_count": 32,
   "id": "fd7b804e",
   "metadata": {},
   "outputs": [
    {
     "data": {
      "image/png": "[encoded data removed]",
      "text/plain": [
       "<Figure size 432x288 with 1 Axes>"
      ]
     },
     "metadata": {
      "needs_background": "light"
     },
     "output_type": "display_data"
    }
   ],
   "source": [
    "show_train_history(train_history,'accuracy','val_accuracy')"
   ]
  },
  {
   "cell_type": "code",
   "execution_count": 33,
   "id": "aac5d8b8",
   "metadata": {},
   "outputs": [
    {
     "data": {
      "image/png": "[encoded data removed]",
      "text/plain": [
       "<Figure size 432x288 with 1 Axes>"
      ]
     },
     "metadata": {
      "needs_background": "light"
     },
     "output_type": "display_data"
    }
   ],
   "source": [
    "show_train_history(train_history,'loss','val_loss')"
   ]
  },
  {
   "cell_type": "code",
   "execution_count": 34,
   "id": "e0dd5579",
   "metadata": {},
   "outputs": [
    {
     "name": "stdout",
     "output_type": "stream",
     "text": [
      "649/649 [==============================] - 2s 2ms/step - loss: 0.0189 - accuracy: 0.9917\n",
      "\n",
      "\t[Info] Accuracy of testing data = 99.2%\n"
     ]
    }
   ],
   "source": [
    "scores = model.evaluate(X_test, y_test)  \n",
    "print()  \n",
    "print(\"\\t[Info] Accuracy of testing data = {:2.1f}%\".format(scores[1]*100.0))"
   ]
  },
  {
   "cell_type": "code",
   "execution_count": null,
   "id": "81318782",
   "metadata": {},
   "outputs": [],
   "source": []
  }
 ],
 "metadata": {
  "kernelspec": {
   "display_name": "Python 3",
   "language": "python",
   "name": "python3"
  },
  "language_info": {
   "codemirror_mode": {
    "name": "ipython",
    "version": 3
   },
   "file_extension": ".py",
   "mimetype": "text/x-python",
   "name": "python",
   "nbconvert_exporter": "python",
   "pygments_lexer": "ipython3",
   "version": "3.8.8"
  }
 },
 "nbformat": 4,
 "nbformat_minor": 5
}

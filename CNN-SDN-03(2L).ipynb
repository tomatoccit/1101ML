{
 "cells": [
  {
   "cell_type": "code",
   "execution_count": 1,
   "id": "b397ba4f",
   "metadata": {},
   "outputs": [],
   "source": [
    "import pandas as pd\n",
    "import numpy as np\n",
    "import matplotlib.pyplot as plt\n",
    "from time import process_time\n",
    "import seaborn as sns\n",
    "\n",
    "from sklearn import model_selection\n",
    "from sklearn.model_selection import train_test_split\n",
    "from sklearn import ensemble, preprocessing, metrics\n",
    "from sklearn.metrics import classification_report, confusion_matrix\n",
    "from keras.utils import np_utils\n",
    "np.random.seed(10)\n",
    "import csv"
   ]
  },
  {
   "cell_type": "code",
   "execution_count": 2,
   "id": "f6a67994",
   "metadata": {},
   "outputs": [
    {
     "name": "stdout",
     "output_type": "stream",
     "text": [
      "                  dt         switch       pktcount     bytecount  \\\n",
      "count  104345.000000  104345.000000  104345.000000  1.043450e+05   \n",
      "mean    17927.514169       4.214260   52860.954746  3.818660e+07   \n",
      "std     11977.642655       1.956327   52023.241460  4.877748e+07   \n",
      "min      2488.000000       1.000000       0.000000  0.000000e+00   \n",
      "25%      7098.000000       3.000000     808.000000  7.957600e+04   \n",
      "50%     11905.000000       4.000000   42828.000000  6.471930e+06   \n",
      "75%     29952.000000       5.000000   94796.000000  7.620354e+07   \n",
      "max     42935.000000      10.000000  260006.000000  1.471280e+08   \n",
      "\n",
      "                 dur      dur_nsec       tot_dur          flows  \\\n",
      "count  104345.000000  1.043450e+05  1.043450e+05  104345.000000   \n",
      "mean      321.497398  4.613880e+08  3.218865e+11       5.654234   \n",
      "std       283.518232  2.770019e+08  2.834029e+11       2.950036   \n",
      "min         0.000000  0.000000e+00  0.000000e+00       2.000000   \n",
      "25%       127.000000  2.340000e+08  1.270000e+11       3.000000   \n",
      "50%       251.000000  4.180000e+08  2.520000e+11       5.000000   \n",
      "75%       412.000000  7.030000e+08  4.130000e+11       7.000000   \n",
      "max      1881.000000  9.990000e+08  1.880000e+12      17.000000   \n",
      "\n",
      "           packetins     pktperflow   byteperflow        pktrate  \\\n",
      "count  104345.000000  104345.000000  1.043450e+05  104345.000000   \n",
      "mean     5200.383468    6381.715291  4.716150e+06     212.210676   \n",
      "std      5257.001450    7404.777808  7.560116e+06     246.855123   \n",
      "min         4.000000 -130933.000000 -1.464426e+08   -4365.000000   \n",
      "25%      1943.000000      29.000000  2.842000e+03       0.000000   \n",
      "50%      3024.000000    8305.000000  5.521680e+05     276.000000   \n",
      "75%      7462.000000   10017.000000  9.728112e+06     333.000000   \n",
      "max     25224.000000   19190.000000  1.495387e+07     639.000000   \n",
      "\n",
      "            Pairflow        port_no      tx_bytes      rx_bytes  \\\n",
      "count  104345.000000  104345.000000  1.043450e+05  1.043450e+05   \n",
      "mean        0.600987       2.331094  9.325264e+07  9.328039e+07   \n",
      "std         0.489698       1.084333  1.519380e+08  1.330004e+08   \n",
      "min         0.000000       1.000000  2.527000e+03  8.560000e+02   \n",
      "25%         0.000000       1.000000  4.743000e+03  3.539000e+03   \n",
      "50%         1.000000       2.000000  4.219610e+06  1.338339e+07   \n",
      "75%         1.000000       3.000000  1.356398e+08  1.439277e+08   \n",
      "max         1.000000       5.000000  1.269982e+09  9.905962e+08   \n",
      "\n",
      "             tx_kbps        rx_kbps       tot_kbps          label  \n",
      "count  104345.000000  103839.000000  103839.000000  104345.000000  \n",
      "mean      998.899756    1003.811420    2007.578742       0.390857  \n",
      "std      2423.471618    2054.887034    3144.437173       0.487945  \n",
      "min         0.000000       0.000000       0.000000       0.000000  \n",
      "25%         0.000000       0.000000       0.000000       0.000000  \n",
      "50%         0.000000       0.000000       4.000000       0.000000  \n",
      "75%       251.000000     557.000000    3838.000000       1.000000  \n",
      "max     20580.000000   16577.000000   20580.000000       1.000000  \n"
     ]
    }
   ],
   "source": [
    "SDNdata = pd.read_csv(\"C:\\pythonwork\\dataset_sdn.csv\")\n",
    "print(SDNdata.describe())"
   ]
  },
  {
   "cell_type": "markdown",
   "id": "a6868518",
   "metadata": {},
   "source": [
    "# 資料前處理"
   ]
  },
  {
   "cell_type": "code",
   "execution_count": 3,
   "id": "599e2783",
   "metadata": {},
   "outputs": [
    {
     "data": {
      "text/plain": [
       "(103839, 23)"
      ]
     },
     "execution_count": 3,
     "metadata": {},
     "output_type": "execute_result"
    }
   ],
   "source": [
    "#先把NULL值的資料Drop掉\n",
    "SDNdata.dropna(inplace=True)\n",
    "SDNdata.shape"
   ]
  },
  {
   "cell_type": "code",
   "execution_count": 4,
   "id": "7eaf4ae5",
   "metadata": {},
   "outputs": [],
   "source": [
    "fe=SDNdata.groupby('Protocol').size()/len(SDNdata)\n",
    "SDNdata.loc[:,'Protocol']=SDNdata['Protocol'].map(fe)"
   ]
  },
  {
   "cell_type": "code",
   "execution_count": 5,
   "id": "c0955a30",
   "metadata": {},
   "outputs": [],
   "source": [
    "fe=SDNdata.groupby('dst').size()/len(SDNdata)\n",
    "SDNdata.loc[:,'dst']=SDNdata['dst'].map(fe)"
   ]
  },
  {
   "cell_type": "code",
   "execution_count": 6,
   "id": "1c049c80",
   "metadata": {},
   "outputs": [],
   "source": [
    "fe=SDNdata.groupby('src').size()/len(SDNdata)\n",
    "SDNdata.loc[:,'src']=SDNdata['src'].map(fe)"
   ]
  },
  {
   "cell_type": "code",
   "execution_count": 7,
   "id": "f68df428",
   "metadata": {},
   "outputs": [],
   "source": [
    "#把資料分為屬性和標籤，然後20%測試80%訓練\n",
    "x = SDNdata.drop('label', axis=1)\n",
    "y = SDNdata['label']\n",
    "x_train, x_test, y_train, y_test = train_test_split(x, y, test_size = 0.20,random_state=100)"
   ]
  },
  {
   "cell_type": "code",
   "execution_count": 8,
   "id": "66077e09",
   "metadata": {},
   "outputs": [],
   "source": [
    "#指定陣列\n",
    "df_x_train =pd.DataFrame(x_train)\n",
    "df_x_test =pd.DataFrame(x_test)\n",
    "df_y_train =pd.DataFrame(y_train)\n",
    "df_y_test =pd.DataFrame(y_test)"
   ]
  },
  {
   "cell_type": "code",
   "execution_count": 9,
   "id": "e6929aaf",
   "metadata": {},
   "outputs": [],
   "source": [
    "minmax_scale = preprocessing.MinMaxScaler(feature_range=(0, 1))\n",
    "scaled_x_train=minmax_scale.fit_transform(df_x_train)\n",
    "scaled_x_test=minmax_scale.fit_transform(df_x_test)\n",
    "scaled_y_train=minmax_scale.fit_transform(df_y_train)\n",
    "scaled_y_test=minmax_scale.fit_transform(df_y_test)"
   ]
  },
  {
   "cell_type": "code",
   "execution_count": 10,
   "id": "20d483c7",
   "metadata": {},
   "outputs": [
    {
     "data": {
      "text/plain": [
       "(83071, 22)"
      ]
     },
     "execution_count": 10,
     "metadata": {},
     "output_type": "execute_result"
    }
   ],
   "source": [
    "scaled_x_train.shape"
   ]
  },
  {
   "cell_type": "code",
   "execution_count": 11,
   "id": "8bec38ef",
   "metadata": {},
   "outputs": [
    {
     "data": {
      "text/plain": [
       "(20768, 22)"
      ]
     },
     "execution_count": 11,
     "metadata": {},
     "output_type": "execute_result"
    }
   ],
   "source": [
    "scaled_x_test.shape"
   ]
  },
  {
   "cell_type": "code",
   "execution_count": 12,
   "id": "01f20882",
   "metadata": {},
   "outputs": [
    {
     "data": {
      "text/plain": [
       "(83071, 1)"
      ]
     },
     "execution_count": 12,
     "metadata": {},
     "output_type": "execute_result"
    }
   ],
   "source": [
    "scaled_y_train.shape"
   ]
  },
  {
   "cell_type": "code",
   "execution_count": 13,
   "id": "ce29e303",
   "metadata": {},
   "outputs": [
    {
     "data": {
      "text/plain": [
       "(20768, 1)"
      ]
     },
     "execution_count": 13,
     "metadata": {},
     "output_type": "execute_result"
    }
   ],
   "source": [
    "scaled_y_test.shape"
   ]
  },
  {
   "cell_type": "code",
   "execution_count": 14,
   "id": "c6a03114",
   "metadata": {},
   "outputs": [],
   "source": [
    "X_train = np.reshape( scaled_x_train, ( scaled_x_train.shape[0], scaled_x_train.shape[1],1,1))\n",
    "X_test = np.reshape(scaled_x_test, (scaled_x_test.shape[0],scaled_x_test.shape[1],1,1))"
   ]
  },
  {
   "cell_type": "code",
   "execution_count": 15,
   "id": "2cf9555b",
   "metadata": {},
   "outputs": [
    {
     "data": {
      "text/plain": [
       "(83071, 22, 1, 1)"
      ]
     },
     "execution_count": 15,
     "metadata": {},
     "output_type": "execute_result"
    }
   ],
   "source": [
    "X_train.shape"
   ]
  },
  {
   "cell_type": "code",
   "execution_count": 16,
   "id": "6ab3ec79",
   "metadata": {},
   "outputs": [
    {
     "data": {
      "text/plain": [
       "(20768, 22, 1, 1)"
      ]
     },
     "execution_count": 16,
     "metadata": {},
     "output_type": "execute_result"
    }
   ],
   "source": [
    "X_test.shape"
   ]
  },
  {
   "cell_type": "markdown",
   "id": "284cc780",
   "metadata": {},
   "source": [
    "# 建立模型"
   ]
  },
  {
   "cell_type": "code",
   "execution_count": 17,
   "id": "0a506f9a",
   "metadata": {},
   "outputs": [],
   "source": [
    "from keras.models import Sequential\n",
    "from keras.layers import Dense, Dropout, Activation, Flatten\n",
    "from keras.layers import Conv2D, MaxPooling1D, ZeroPadding2D, Convolution1D"
   ]
  },
  {
   "cell_type": "code",
   "execution_count": 18,
   "id": "001d5086",
   "metadata": {},
   "outputs": [],
   "source": [
    "cnn = Sequential()"
   ]
  },
  {
   "cell_type": "code",
   "execution_count": 19,
   "id": "0e173d52",
   "metadata": {},
   "outputs": [],
   "source": [
    "cnn.add(Convolution1D(64, 3, padding='same',activation=\"relu\",input_shape=(22, 1)))"
   ]
  },
  {
   "cell_type": "code",
   "execution_count": 20,
   "id": "c249cbc8",
   "metadata": {},
   "outputs": [],
   "source": [
    "cnn.add(Convolution1D(64, 3, padding='same', activation=\"relu\"))"
   ]
  },
  {
   "cell_type": "code",
   "execution_count": 21,
   "id": "c000a174",
   "metadata": {},
   "outputs": [],
   "source": [
    "cnn.add(MaxPooling1D(pool_size=1))"
   ]
  },
  {
   "cell_type": "code",
   "execution_count": 22,
   "id": "4da756cb",
   "metadata": {},
   "outputs": [],
   "source": [
    "cnn.add(Flatten())"
   ]
  },
  {
   "cell_type": "code",
   "execution_count": 23,
   "id": "80d68c20",
   "metadata": {},
   "outputs": [],
   "source": [
    "cnn.add(Dense(128, activation=\"relu\"))"
   ]
  },
  {
   "cell_type": "code",
   "execution_count": 24,
   "id": "f7beabf9",
   "metadata": {},
   "outputs": [],
   "source": [
    "cnn.add(Dropout(0.5))"
   ]
  },
  {
   "cell_type": "code",
   "execution_count": 25,
   "id": "133a07bd",
   "metadata": {},
   "outputs": [],
   "source": [
    "cnn.add(Dense(1, activation=\"sigmoid\"))"
   ]
  },
  {
   "cell_type": "code",
   "execution_count": 26,
   "id": "daedb1e7",
   "metadata": {},
   "outputs": [],
   "source": [
    "cnn.compile(loss=\"binary_crossentropy\", optimizer=\"adam\",metrics=['accuracy'])"
   ]
  },
  {
   "cell_type": "code",
   "execution_count": 27,
   "id": "00e4d95c",
   "metadata": {},
   "outputs": [
    {
     "name": "stdout",
     "output_type": "stream",
     "text": [
      "Model: \"sequential\"\n",
      "_________________________________________________________________\n",
      "Layer (type)                 Output Shape              Param #   \n",
      "=================================================================\n",
      "conv1d (Conv1D)              (None, 22, 64)            256       \n",
      "_________________________________________________________________\n",
      "conv1d_1 (Conv1D)            (None, 22, 64)            12352     \n",
      "_________________________________________________________________\n",
      "max_pooling1d (MaxPooling1D) (None, 22, 64)            0         \n",
      "_________________________________________________________________\n",
      "flatten (Flatten)            (None, 1408)              0         \n",
      "_________________________________________________________________\n",
      "dense (Dense)                (None, 128)               180352    \n",
      "_________________________________________________________________\n",
      "dropout (Dropout)            (None, 128)               0         \n",
      "_________________________________________________________________\n",
      "dense_1 (Dense)              (None, 1)                 129       \n",
      "=================================================================\n",
      "Total params: 193,089\n",
      "Trainable params: 193,089\n",
      "Non-trainable params: 0\n",
      "_________________________________________________________________\n"
     ]
    }
   ],
   "source": [
    "cnn.summary()"
   ]
  },
  {
   "cell_type": "code",
   "execution_count": 28,
   "id": "0268d49b",
   "metadata": {},
   "outputs": [
    {
     "name": "stdout",
     "output_type": "stream",
     "text": [
      "Epoch 1/200\n",
      "75/75 [==============================] - 6s 73ms/step - loss: 0.5090 - accuracy: 0.7052 - val_loss: 0.3598 - val_accuracy: 0.8252\n",
      "Epoch 2/200\n",
      "75/75 [==============================] - 5s 69ms/step - loss: 0.3023 - accuracy: 0.8586 - val_loss: 0.2325 - val_accuracy: 0.8999\n",
      "Epoch 3/200\n",
      "75/75 [==============================] - 5s 69ms/step - loss: 0.2275 - accuracy: 0.9028 - val_loss: 0.1788 - val_accuracy: 0.9271\n",
      "Epoch 4/200\n",
      "75/75 [==============================] - 5s 69ms/step - loss: 0.1849 - accuracy: 0.9235 - val_loss: 0.1481 - val_accuracy: 0.9432\n",
      "Epoch 5/200\n",
      "75/75 [==============================] - 5s 69ms/step - loss: 0.1574 - accuracy: 0.9361 - val_loss: 0.1255 - val_accuracy: 0.9499\n",
      "Epoch 6/200\n",
      "75/75 [==============================] - 5s 69ms/step - loss: 0.1421 - accuracy: 0.9413 - val_loss: 0.1134 - val_accuracy: 0.9515\n",
      "Epoch 7/200\n",
      "75/75 [==============================] - 5s 70ms/step - loss: 0.1265 - accuracy: 0.9483 - val_loss: 0.1012 - val_accuracy: 0.9584\n",
      "Epoch 8/200\n",
      "75/75 [==============================] - 5s 69ms/step - loss: 0.1201 - accuracy: 0.9507 - val_loss: 0.0924 - val_accuracy: 0.9617\n",
      "Epoch 9/200\n",
      "75/75 [==============================] - 5s 69ms/step - loss: 0.1082 - accuracy: 0.9559 - val_loss: 0.0914 - val_accuracy: 0.9584\n",
      "Epoch 10/200\n",
      "75/75 [==============================] - 5s 69ms/step - loss: 0.1051 - accuracy: 0.9562 - val_loss: 0.0855 - val_accuracy: 0.9662\n",
      "Epoch 11/200\n",
      "75/75 [==============================] - 5s 69ms/step - loss: 0.0991 - accuracy: 0.9591 - val_loss: 0.0830 - val_accuracy: 0.9646\n",
      "Epoch 12/200\n",
      "75/75 [==============================] - 5s 69ms/step - loss: 0.0961 - accuracy: 0.9594 - val_loss: 0.0768 - val_accuracy: 0.9664\n",
      "Epoch 13/200\n",
      "75/75 [==============================] - 5s 70ms/step - loss: 0.0933 - accuracy: 0.9616 - val_loss: 0.0792 - val_accuracy: 0.9653\n",
      "Epoch 14/200\n",
      "75/75 [==============================] - 5s 70ms/step - loss: 0.0899 - accuracy: 0.9620 - val_loss: 0.0708 - val_accuracy: 0.9717\n",
      "Epoch 15/200\n",
      "75/75 [==============================] - 5s 69ms/step - loss: 0.0874 - accuracy: 0.9634 - val_loss: 0.0724 - val_accuracy: 0.9694\n",
      "Epoch 16/200\n",
      "75/75 [==============================] - 5s 69ms/step - loss: 0.0867 - accuracy: 0.9628 - val_loss: 0.0781 - val_accuracy: 0.9675\n",
      "Epoch 17/200\n",
      "75/75 [==============================] - 5s 69ms/step - loss: 0.0825 - accuracy: 0.9648 - val_loss: 0.0660 - val_accuracy: 0.9728\n",
      "Epoch 18/200\n",
      "75/75 [==============================] - 5s 69ms/step - loss: 0.0813 - accuracy: 0.9653 - val_loss: 0.0654 - val_accuracy: 0.9722\n",
      "Epoch 19/200\n",
      "75/75 [==============================] - 5s 69ms/step - loss: 0.0795 - accuracy: 0.9654 - val_loss: 0.0673 - val_accuracy: 0.9705\n",
      "Epoch 20/200\n",
      "75/75 [==============================] - 5s 70ms/step - loss: 0.0791 - accuracy: 0.9665 - val_loss: 0.0627 - val_accuracy: 0.9722\n",
      "Epoch 21/200\n",
      "75/75 [==============================] - 5s 69ms/step - loss: 0.0756 - accuracy: 0.9675 - val_loss: 0.0637 - val_accuracy: 0.9721\n",
      "Epoch 22/200\n",
      "75/75 [==============================] - 5s 70ms/step - loss: 0.0737 - accuracy: 0.9685 - val_loss: 0.0593 - val_accuracy: 0.9735\n",
      "Epoch 23/200\n",
      "75/75 [==============================] - 5s 69ms/step - loss: 0.0726 - accuracy: 0.9693 - val_loss: 0.0571 - val_accuracy: 0.9764\n",
      "Epoch 24/200\n",
      "75/75 [==============================] - 5s 69ms/step - loss: 0.0700 - accuracy: 0.9705 - val_loss: 0.0591 - val_accuracy: 0.9730\n",
      "Epoch 25/200\n",
      "75/75 [==============================] - 5s 69ms/step - loss: 0.0699 - accuracy: 0.9696 - val_loss: 0.0552 - val_accuracy: 0.9774\n",
      "Epoch 26/200\n",
      "75/75 [==============================] - 5s 71ms/step - loss: 0.0710 - accuracy: 0.9693 - val_loss: 0.0575 - val_accuracy: 0.9745- loss: 0.0707 - accura\n",
      "Epoch 27/200\n",
      "75/75 [==============================] - 5s 69ms/step - loss: 0.0676 - accuracy: 0.9712 - val_loss: 0.0530 - val_accuracy: 0.9763\n",
      "Epoch 28/200\n",
      "75/75 [==============================] - 5s 69ms/step - loss: 0.0736 - accuracy: 0.9684 - val_loss: 0.0576 - val_accuracy: 0.9756\n",
      "Epoch 29/200\n",
      "75/75 [==============================] - 5s 69ms/step - loss: 0.0651 - accuracy: 0.9715 - val_loss: 0.0547 - val_accuracy: 0.9762\n",
      "Epoch 30/200\n",
      "75/75 [==============================] - 5s 71ms/step - loss: 0.0660 - accuracy: 0.9711 - val_loss: 0.0542 - val_accuracy: 0.9765\n",
      "Epoch 31/200\n",
      "75/75 [==============================] - 5s 69ms/step - loss: 0.0631 - accuracy: 0.9731 - val_loss: 0.0490 - val_accuracy: 0.9792\n",
      "Epoch 32/200\n",
      "75/75 [==============================] - 5s 69ms/step - loss: 0.0637 - accuracy: 0.9725 - val_loss: 0.0513 - val_accuracy: 0.9776\n",
      "Epoch 33/200\n",
      "75/75 [==============================] - 5s 70ms/step - loss: 0.0665 - accuracy: 0.9703 - val_loss: 0.0513 - val_accuracy: 0.9775\n",
      "Epoch 34/200\n",
      "75/75 [==============================] - 5s 69ms/step - loss: 0.0647 - accuracy: 0.9723 - val_loss: 0.0538 - val_accuracy: 0.9763\n",
      "Epoch 35/200\n",
      "75/75 [==============================] - 5s 70ms/step - loss: 0.0630 - accuracy: 0.9726 - val_loss: 0.0483 - val_accuracy: 0.9797\n",
      "Epoch 36/200\n",
      "75/75 [==============================] - 5s 70ms/step - loss: 0.0613 - accuracy: 0.9741 - val_loss: 0.0486 - val_accuracy: 0.9789\n",
      "Epoch 37/200\n",
      "75/75 [==============================] - 5s 70ms/step - loss: 0.0598 - accuracy: 0.9741 - val_loss: 0.0524 - val_accuracy: 0.9745\n",
      "Epoch 38/200\n",
      "75/75 [==============================] - 5s 70ms/step - loss: 0.0626 - accuracy: 0.9731 - val_loss: 0.0496 - val_accuracy: 0.9768\n",
      "Epoch 39/200\n",
      "75/75 [==============================] - 5s 70ms/step - loss: 0.0602 - accuracy: 0.9744 - val_loss: 0.0487 - val_accuracy: 0.9794\n",
      "Epoch 40/200\n",
      "75/75 [==============================] - 5s 70ms/step - loss: 0.0593 - accuracy: 0.9741 - val_loss: 0.0471 - val_accuracy: 0.9816\n",
      "Epoch 41/200\n",
      "75/75 [==============================] - 5s 70ms/step - loss: 0.0579 - accuracy: 0.9746 - val_loss: 0.0454 - val_accuracy: 0.9817\n",
      "Epoch 42/200\n",
      "75/75 [==============================] - 5s 69ms/step - loss: 0.0594 - accuracy: 0.9748 - val_loss: 0.0496 - val_accuracy: 0.9807\n",
      "Epoch 43/200\n",
      "75/75 [==============================] - 5s 70ms/step - loss: 0.0591 - accuracy: 0.9745 - val_loss: 0.0439 - val_accuracy: 0.9805\n",
      "Epoch 44/200\n",
      "75/75 [==============================] - 5s 69ms/step - loss: 0.0569 - accuracy: 0.9752 - val_loss: 0.0441 - val_accuracy: 0.9819\n",
      "Epoch 45/200\n",
      "75/75 [==============================] - 6s 74ms/step - loss: 0.0581 - accuracy: 0.9745 - val_loss: 0.0427 - val_accuracy: 0.9828\n",
      "Epoch 46/200\n",
      "75/75 [==============================] - 5s 72ms/step - loss: 0.0553 - accuracy: 0.9757 - val_loss: 0.0435 - val_accuracy: 0.9799\n",
      "Epoch 47/200\n",
      "75/75 [==============================] - 5s 70ms/step - loss: 0.0602 - accuracy: 0.9730 - val_loss: 0.0478 - val_accuracy: 0.9798\n",
      "Epoch 48/200\n",
      "75/75 [==============================] - 5s 71ms/step - loss: 0.0567 - accuracy: 0.9750 - val_loss: 0.0419 - val_accuracy: 0.9817\n",
      "Epoch 49/200\n",
      "75/75 [==============================] - 5s 71ms/step - loss: 0.0564 - accuracy: 0.9749 - val_loss: 0.0435 - val_accuracy: 0.9806\n",
      "Epoch 50/200\n",
      "75/75 [==============================] - 6s 74ms/step - loss: 0.0546 - accuracy: 0.9760 - val_loss: 0.0422 - val_accuracy: 0.9822\n",
      "Epoch 51/200\n",
      "75/75 [==============================] - 5s 71ms/step - loss: 0.0523 - accuracy: 0.9772 - val_loss: 0.0430 - val_accuracy: 0.9810\n",
      "Epoch 52/200\n",
      "75/75 [==============================] - 6s 77ms/step - loss: 0.0547 - accuracy: 0.9755 - val_loss: 0.0418 - val_accuracy: 0.9817\n",
      "Epoch 53/200\n",
      "75/75 [==============================] - 6s 74ms/step - loss: 0.0531 - accuracy: 0.9762 - val_loss: 0.0423 - val_accuracy: 0.9813\n",
      "Epoch 54/200\n",
      "75/75 [==============================] - 5s 72ms/step - loss: 0.0529 - accuracy: 0.9771 - val_loss: 0.0451 - val_accuracy: 0.9807\n",
      "Epoch 55/200\n",
      "75/75 [==============================] - 6s 87ms/step - loss: 0.0517 - accuracy: 0.9773 - val_loss: 0.0399 - val_accuracy: 0.9823\n",
      "Epoch 56/200\n",
      "75/75 [==============================] - 6s 86ms/step - loss: 0.0528 - accuracy: 0.9770 - val_loss: 0.0402 - val_accuracy: 0.9813\n",
      "Epoch 57/200\n",
      "75/75 [==============================] - 6s 81ms/step - loss: 0.0539 - accuracy: 0.9769 - val_loss: 0.0390 - val_accuracy: 0.9842\n",
      "Epoch 58/200\n"
     ]
    },
    {
     "name": "stdout",
     "output_type": "stream",
     "text": [
      "75/75 [==============================] - 6s 80ms/step - loss: 0.0528 - accuracy: 0.9763 - val_loss: 0.0384 - val_accuracy: 0.9842\n",
      "Epoch 59/200\n",
      "75/75 [==============================] - 6s 85ms/step - loss: 0.0514 - accuracy: 0.9775 - val_loss: 0.0395 - val_accuracy: 0.9830\n",
      "Epoch 60/200\n",
      "75/75 [==============================] - 7s 88ms/step - loss: 0.0523 - accuracy: 0.9766 - val_loss: 0.0413 - val_accuracy: 0.9823\n",
      "Epoch 61/200\n",
      "75/75 [==============================] - 6s 86ms/step - loss: 0.0520 - accuracy: 0.9770 - val_loss: 0.0405 - val_accuracy: 0.9817\n",
      "Epoch 62/200\n",
      "75/75 [==============================] - 7s 89ms/step - loss: 0.0544 - accuracy: 0.9760 - val_loss: 0.0392 - val_accuracy: 0.9839\n",
      "Epoch 63/200\n",
      "75/75 [==============================] - 6s 80ms/step - loss: 0.0520 - accuracy: 0.9769 - val_loss: 0.0459 - val_accuracy: 0.9803\n",
      "Epoch 64/200\n",
      "75/75 [==============================] - 6s 79ms/step - loss: 0.0521 - accuracy: 0.9769 - val_loss: 0.0392 - val_accuracy: 0.9847\n",
      "Epoch 65/200\n",
      "75/75 [==============================] - 6s 85ms/step - loss: 0.0505 - accuracy: 0.9780 - val_loss: 0.0376 - val_accuracy: 0.9838\n",
      "Epoch 66/200\n",
      "75/75 [==============================] - 6s 80ms/step - loss: 0.0528 - accuracy: 0.9767 - val_loss: 0.0410 - val_accuracy: 0.9835\n",
      "Epoch 67/200\n",
      "75/75 [==============================] - 6s 79ms/step - loss: 0.0511 - accuracy: 0.9772 - val_loss: 0.0373 - val_accuracy: 0.9850\n",
      "Epoch 68/200\n",
      "75/75 [==============================] - 6s 84ms/step - loss: 0.0509 - accuracy: 0.9770 - val_loss: 0.0360 - val_accuracy: 0.9844\n",
      "Epoch 69/200\n",
      "75/75 [==============================] - 6s 81ms/step - loss: 0.0473 - accuracy: 0.9786 - val_loss: 0.0377 - val_accuracy: 0.9847\n",
      "Epoch 70/200\n",
      "75/75 [==============================] - 6s 81ms/step - loss: 0.0468 - accuracy: 0.9791 - val_loss: 0.0355 - val_accuracy: 0.9844\n",
      "Epoch 71/200\n",
      "75/75 [==============================] - 6s 86ms/step - loss: 0.0463 - accuracy: 0.9787 - val_loss: 0.0352 - val_accuracy: 0.9860\n",
      "Epoch 72/200\n",
      "75/75 [==============================] - 6s 83ms/step - loss: 0.0490 - accuracy: 0.9781 - val_loss: 0.0345 - val_accuracy: 0.9850\n",
      "Epoch 73/200\n",
      "75/75 [==============================] - 6s 87ms/step - loss: 0.0483 - accuracy: 0.9784 - val_loss: 0.0370 - val_accuracy: 0.9828\n",
      "Epoch 74/200\n",
      "75/75 [==============================] - 6s 77ms/step - loss: 0.0492 - accuracy: 0.9777 - val_loss: 0.0348 - val_accuracy: 0.9848\n",
      "Epoch 75/200\n",
      "75/75 [==============================] - 6s 82ms/step - loss: 0.0483 - accuracy: 0.9779 - val_loss: 0.0358 - val_accuracy: 0.9856\n",
      "Epoch 76/200\n",
      "75/75 [==============================] - 6s 73ms/step - loss: 0.0458 - accuracy: 0.9791 - val_loss: 0.0342 - val_accuracy: 0.9841\n",
      "Epoch 77/200\n",
      "75/75 [==============================] - 5s 70ms/step - loss: 0.0463 - accuracy: 0.9788 - val_loss: 0.0331 - val_accuracy: 0.9864\n",
      "Epoch 78/200\n",
      "75/75 [==============================] - 5s 70ms/step - loss: 0.0468 - accuracy: 0.9787 - val_loss: 0.0353 - val_accuracy: 0.9844\n",
      "Epoch 79/200\n",
      "75/75 [==============================] - 5s 71ms/step - loss: 0.0449 - accuracy: 0.9799 - val_loss: 0.0361 - val_accuracy: 0.9850\n",
      "Epoch 80/200\n",
      "75/75 [==============================] - 5s 73ms/step - loss: 0.0441 - accuracy: 0.9800 - val_loss: 0.0376 - val_accuracy: 0.9830\n",
      "Epoch 81/200\n",
      "75/75 [==============================] - 5s 72ms/step - loss: 0.0454 - accuracy: 0.9793 - val_loss: 0.0335 - val_accuracy: 0.9847\n",
      "Epoch 82/200\n",
      "75/75 [==============================] - 6s 84ms/step - loss: 0.0453 - accuracy: 0.9792 - val_loss: 0.0354 - val_accuracy: 0.9854\n",
      "Epoch 83/200\n",
      "75/75 [==============================] - 7s 89ms/step - loss: 0.0446 - accuracy: 0.9795 - val_loss: 0.0338 - val_accuracy: 0.9851\n",
      "Epoch 84/200\n",
      "75/75 [==============================] - 7s 87ms/step - loss: 0.0466 - accuracy: 0.9789 - val_loss: 0.0325 - val_accuracy: 0.9856\n",
      "Epoch 85/200\n",
      "75/75 [==============================] - 6s 86ms/step - loss: 0.0497 - accuracy: 0.9779 - val_loss: 0.0346 - val_accuracy: 0.9841\n",
      "Epoch 86/200\n",
      "75/75 [==============================] - 6s 82ms/step - loss: 0.0445 - accuracy: 0.9796 - val_loss: 0.0341 - val_accuracy: 0.9847\n",
      "Epoch 87/200\n",
      "75/75 [==============================] - 6s 84ms/step - loss: 0.0423 - accuracy: 0.9808 - val_loss: 0.0343 - val_accuracy: 0.9833\n",
      "Epoch 88/200\n",
      "75/75 [==============================] - 6s 82ms/step - loss: 0.0423 - accuracy: 0.9805 - val_loss: 0.0327 - val_accuracy: 0.9844\n",
      "Epoch 89/200\n",
      "75/75 [==============================] - 6s 81ms/step - loss: 0.0410 - accuracy: 0.9808 - val_loss: 0.0366 - val_accuracy: 0.9853\n",
      "Epoch 90/200\n",
      "75/75 [==============================] - 6s 87ms/step - loss: 0.0418 - accuracy: 0.9810 - val_loss: 0.0305 - val_accuracy: 0.9869\n",
      "Epoch 91/200\n",
      "75/75 [==============================] - 6s 82ms/step - loss: 0.0410 - accuracy: 0.9802 - val_loss: 0.0324 - val_accuracy: 0.9847\n",
      "Epoch 92/200\n",
      "75/75 [==============================] - 6s 83ms/step - loss: 0.0431 - accuracy: 0.9799 - val_loss: 0.0327 - val_accuracy: 0.9853\n",
      "Epoch 93/200\n",
      "75/75 [==============================] - 6s 82ms/step - loss: 0.0424 - accuracy: 0.9804 - val_loss: 0.0329 - val_accuracy: 0.9859\n",
      "Epoch 94/200\n",
      "75/75 [==============================] - 7s 89ms/step - loss: 0.0420 - accuracy: 0.9804 - val_loss: 0.0300 - val_accuracy: 0.9862\n",
      "Epoch 95/200\n",
      "75/75 [==============================] - 6s 82ms/step - loss: 0.0401 - accuracy: 0.9818 - val_loss: 0.0331 - val_accuracy: 0.9838\n",
      "Epoch 96/200\n",
      "75/75 [==============================] - 7s 95ms/step - loss: 0.0420 - accuracy: 0.9809 - val_loss: 0.0302 - val_accuracy: 0.9856\n",
      "Epoch 97/200\n",
      "75/75 [==============================] - 6s 84ms/step - loss: 0.0406 - accuracy: 0.9806 - val_loss: 0.0343 - val_accuracy: 0.9839\n",
      "Epoch 98/200\n",
      "75/75 [==============================] - 6s 81ms/step - loss: 0.0417 - accuracy: 0.9806 - val_loss: 0.0394 - val_accuracy: 0.9800\n",
      "Epoch 99/200\n",
      "75/75 [==============================] - 6s 86ms/step - loss: 0.0450 - accuracy: 0.9791 - val_loss: 0.0337 - val_accuracy: 0.9831\n",
      "Epoch 100/200\n",
      "75/75 [==============================] - 6s 79ms/step - loss: 0.0402 - accuracy: 0.9814 - val_loss: 0.0302 - val_accuracy: 0.9856\n",
      "Epoch 101/200\n",
      "75/75 [==============================] - 6s 81ms/step - loss: 0.0391 - accuracy: 0.9818 - val_loss: 0.0314 - val_accuracy: 0.9866\n",
      "Epoch 102/200\n",
      "75/75 [==============================] - 6s 79ms/step - loss: 0.0457 - accuracy: 0.9786 - val_loss: 0.0296 - val_accuracy: 0.9865\n",
      "Epoch 103/200\n",
      "75/75 [==============================] - 7s 90ms/step - loss: 0.0407 - accuracy: 0.9814 - val_loss: 0.0324 - val_accuracy: 0.9852\n",
      "Epoch 104/200\n",
      "75/75 [==============================] - 6s 83ms/step - loss: 0.0417 - accuracy: 0.9805 - val_loss: 0.0294 - val_accuracy: 0.9865\n",
      "Epoch 105/200\n",
      "75/75 [==============================] - 6s 85ms/step - loss: 0.0398 - accuracy: 0.9811 - val_loss: 0.0294 - val_accuracy: 0.9863\n",
      "Epoch 106/200\n",
      "75/75 [==============================] - 7s 88ms/step - loss: 0.0373 - accuracy: 0.9824 - val_loss: 0.0292 - val_accuracy: 0.9869\n",
      "Epoch 107/200\n",
      "75/75 [==============================] - 6s 82ms/step - loss: 0.0387 - accuracy: 0.9817 - val_loss: 0.0314 - val_accuracy: 0.9860\n",
      "Epoch 108/200\n",
      "75/75 [==============================] - 6s 81ms/step - loss: 0.0374 - accuracy: 0.9820 - val_loss: 0.0300 - val_accuracy: 0.9875\n",
      "Epoch 109/200\n",
      "75/75 [==============================] - 6s 86ms/step - loss: 0.0387 - accuracy: 0.9816 - val_loss: 0.0274 - val_accuracy: 0.9882\n",
      "Epoch 110/200\n",
      "75/75 [==============================] - 6s 79ms/step - loss: 0.0400 - accuracy: 0.9809 - val_loss: 0.0294 - val_accuracy: 0.9875\n",
      "Epoch 111/200\n",
      "75/75 [==============================] - 6s 83ms/step - loss: 0.0380 - accuracy: 0.9816 - val_loss: 0.0272 - val_accuracy: 0.9881\n",
      "Epoch 112/200\n",
      "75/75 [==============================] - 6s 79ms/step - loss: 0.0379 - accuracy: 0.9815 - val_loss: 0.0311 - val_accuracy: 0.9853\n",
      "Epoch 113/200\n",
      "75/75 [==============================] - 6s 84ms/step - loss: 0.0395 - accuracy: 0.9815 - val_loss: 0.0354 - val_accuracy: 0.9850\n",
      "Epoch 114/200\n",
      "75/75 [==============================] - 7s 87ms/step - loss: 0.0387 - accuracy: 0.9809 - val_loss: 0.0272 - val_accuracy: 0.9880\n",
      "Epoch 115/200\n"
     ]
    },
    {
     "name": "stdout",
     "output_type": "stream",
     "text": [
      "75/75 [==============================] - 6s 84ms/step - loss: 0.0360 - accuracy: 0.9831 - val_loss: 0.0265 - val_accuracy: 0.9876\n",
      "Epoch 116/200\n",
      "75/75 [==============================] - 6s 80ms/step - loss: 0.0350 - accuracy: 0.9839 - val_loss: 0.0269 - val_accuracy: 0.9872\n",
      "Epoch 117/200\n",
      "75/75 [==============================] - 6s 82ms/step - loss: 0.0339 - accuracy: 0.9842 - val_loss: 0.0258 - val_accuracy: 0.9880\n",
      "Epoch 118/200\n",
      "75/75 [==============================] - 6s 80ms/step - loss: 0.0392 - accuracy: 0.9821 - val_loss: 0.0287 - val_accuracy: 0.9869\n",
      "Epoch 119/200\n",
      "75/75 [==============================] - 6s 81ms/step - loss: 0.0366 - accuracy: 0.9830 - val_loss: 0.0276 - val_accuracy: 0.9874\n",
      "Epoch 120/200\n",
      "75/75 [==============================] - 6s 84ms/step - loss: 0.0364 - accuracy: 0.9833 - val_loss: 0.0266 - val_accuracy: 0.9886\n",
      "Epoch 121/200\n",
      "75/75 [==============================] - 7s 93ms/step - loss: 0.0342 - accuracy: 0.9848 - val_loss: 0.0286 - val_accuracy: 0.9865\n",
      "Epoch 122/200\n",
      "75/75 [==============================] - 6s 86ms/step - loss: 0.0354 - accuracy: 0.9840 - val_loss: 0.0274 - val_accuracy: 0.9871\n",
      "Epoch 123/200\n",
      "75/75 [==============================] - 7s 88ms/step - loss: 0.0352 - accuracy: 0.9841 - val_loss: 0.0287 - val_accuracy: 0.9866\n",
      "Epoch 124/200\n",
      "75/75 [==============================] - 6s 85ms/step - loss: 0.0350 - accuracy: 0.9839 - val_loss: 0.0264 - val_accuracy: 0.9888\n",
      "Epoch 125/200\n",
      "75/75 [==============================] - 6s 75ms/step - loss: 0.0390 - accuracy: 0.9818 - val_loss: 0.0277 - val_accuracy: 0.9872\n",
      "Epoch 126/200\n",
      "75/75 [==============================] - 5s 71ms/step - loss: 0.0361 - accuracy: 0.9831 - val_loss: 0.0302 - val_accuracy: 0.9866\n",
      "Epoch 127/200\n",
      "75/75 [==============================] - 6s 84ms/step - loss: 0.0379 - accuracy: 0.9827 - val_loss: 0.0273 - val_accuracy: 0.9875\n",
      "Epoch 128/200\n",
      "75/75 [==============================] - 5s 72ms/step - loss: 0.0361 - accuracy: 0.9832 - val_loss: 0.0264 - val_accuracy: 0.9883\n",
      "Epoch 129/200\n",
      "75/75 [==============================] - 5s 73ms/step - loss: 0.0356 - accuracy: 0.9835 - val_loss: 0.0255 - val_accuracy: 0.9888\n",
      "Epoch 130/200\n",
      "75/75 [==============================] - 5s 70ms/step - loss: 0.0355 - accuracy: 0.9838 - val_loss: 0.0255 - val_accuracy: 0.9880\n",
      "Epoch 131/200\n",
      "75/75 [==============================] - 5s 71ms/step - loss: 0.0341 - accuracy: 0.9845 - val_loss: 0.0270 - val_accuracy: 0.9868\n",
      "Epoch 132/200\n",
      "75/75 [==============================] - 6s 74ms/step - loss: 0.0343 - accuracy: 0.9846 - val_loss: 0.0280 - val_accuracy: 0.9876\n",
      "Epoch 133/200\n",
      "75/75 [==============================] - 5s 70ms/step - loss: 0.0331 - accuracy: 0.9849 - val_loss: 0.0248 - val_accuracy: 0.9887\n",
      "Epoch 134/200\n",
      "75/75 [==============================] - 5s 70ms/step - loss: 0.0327 - accuracy: 0.9846 - val_loss: 0.0270 - val_accuracy: 0.9875\n",
      "Epoch 135/200\n",
      "75/75 [==============================] - 5s 69ms/step - loss: 0.0344 - accuracy: 0.9843 - val_loss: 0.0248 - val_accuracy: 0.9887\n",
      "Epoch 136/200\n",
      "75/75 [==============================] - 5s 69ms/step - loss: 0.0324 - accuracy: 0.9851 - val_loss: 0.0254 - val_accuracy: 0.9883\n",
      "Epoch 137/200\n",
      "75/75 [==============================] - 5s 70ms/step - loss: 0.0317 - accuracy: 0.9850 - val_loss: 0.0252 - val_accuracy: 0.9877\n",
      "Epoch 138/200\n",
      "75/75 [==============================] - 5s 69ms/step - loss: 0.0331 - accuracy: 0.9848 - val_loss: 0.0241 - val_accuracy: 0.9895\n",
      "Epoch 139/200\n",
      "75/75 [==============================] - 5s 69ms/step - loss: 0.0338 - accuracy: 0.9844 - val_loss: 0.0244 - val_accuracy: 0.9893\n",
      "Epoch 140/200\n",
      "75/75 [==============================] - 5s 69ms/step - loss: 0.0328 - accuracy: 0.9852 - val_loss: 0.0239 - val_accuracy: 0.9890\n",
      "Epoch 141/200\n",
      "75/75 [==============================] - 5s 71ms/step - loss: 0.0328 - accuracy: 0.9842 - val_loss: 0.0260 - val_accuracy: 0.9876\n",
      "Epoch 142/200\n",
      "75/75 [==============================] - 5s 69ms/step - loss: 0.0353 - accuracy: 0.9840 - val_loss: 0.0247 - val_accuracy: 0.9890\n",
      "Epoch 143/200\n",
      "75/75 [==============================] - 5s 69ms/step - loss: 0.0362 - accuracy: 0.9833 - val_loss: 0.0254 - val_accuracy: 0.9887\n",
      "Epoch 144/200\n",
      "75/75 [==============================] - 5s 70ms/step - loss: 0.0345 - accuracy: 0.9843 - val_loss: 0.0254 - val_accuracy: 0.9886\n",
      "Epoch 145/200\n",
      "75/75 [==============================] - 5s 69ms/step - loss: 0.0323 - accuracy: 0.9849 - val_loss: 0.0257 - val_accuracy: 0.9886\n",
      "Epoch 146/200\n",
      "75/75 [==============================] - 5s 72ms/step - loss: 0.0372 - accuracy: 0.9827 - val_loss: 0.0245 - val_accuracy: 0.9890\n",
      "Epoch 147/200\n",
      "75/75 [==============================] - 5s 72ms/step - loss: 0.0334 - accuracy: 0.9847 - val_loss: 0.0270 - val_accuracy: 0.9876\n",
      "Epoch 148/200\n",
      "75/75 [==============================] - 5s 73ms/step - loss: 0.0322 - accuracy: 0.9847 - val_loss: 0.0277 - val_accuracy: 0.9870\n",
      "Epoch 149/200\n",
      "75/75 [==============================] - 5s 71ms/step - loss: 0.0322 - accuracy: 0.9856 - val_loss: 0.0235 - val_accuracy: 0.9895\n",
      "Epoch 150/200\n",
      "75/75 [==============================] - 5s 69ms/step - loss: 0.0311 - accuracy: 0.9854 - val_loss: 0.0273 - val_accuracy: 0.9854\n",
      "Epoch 151/200\n",
      "75/75 [==============================] - 5s 70ms/step - loss: 0.0327 - accuracy: 0.9845 - val_loss: 0.0261 - val_accuracy: 0.9893\n",
      "Epoch 152/200\n",
      "75/75 [==============================] - 5s 70ms/step - loss: 0.0336 - accuracy: 0.9843 - val_loss: 0.0229 - val_accuracy: 0.9887\n",
      "Epoch 153/200\n",
      "75/75 [==============================] - 5s 70ms/step - loss: 0.0317 - accuracy: 0.9848 - val_loss: 0.0240 - val_accuracy: 0.9895\n",
      "Epoch 154/200\n",
      "75/75 [==============================] - 5s 71ms/step - loss: 0.0310 - accuracy: 0.9856 - val_loss: 0.0227 - val_accuracy: 0.9894\n",
      "Epoch 155/200\n",
      "75/75 [==============================] - 5s 70ms/step - loss: 0.0293 - accuracy: 0.9869 - val_loss: 0.0219 - val_accuracy: 0.9895\n",
      "Epoch 156/200\n",
      "75/75 [==============================] - 5s 69ms/step - loss: 0.0304 - accuracy: 0.9863 - val_loss: 0.0233 - val_accuracy: 0.9888\n",
      "Epoch 157/200\n",
      "75/75 [==============================] - 5s 70ms/step - loss: 0.0309 - accuracy: 0.9859 - val_loss: 0.0234 - val_accuracy: 0.9887\n",
      "Epoch 158/200\n",
      "75/75 [==============================] - ETA: 0s - loss: 0.0311 - accuracy: 0.98 - 5s 70ms/step - loss: 0.0311 - accuracy: 0.9859 - val_loss: 0.0221 - val_accuracy: 0.9899\n",
      "Epoch 159/200\n",
      "75/75 [==============================] - 5s 71ms/step - loss: 0.0301 - accuracy: 0.9866 - val_loss: 0.0231 - val_accuracy: 0.9901\n",
      "Epoch 160/200\n",
      "75/75 [==============================] - 5s 70ms/step - loss: 0.0321 - accuracy: 0.9855 - val_loss: 0.0234 - val_accuracy: 0.9905\n",
      "Epoch 161/200\n",
      "75/75 [==============================] - 5s 70ms/step - loss: 0.0311 - accuracy: 0.9851 - val_loss: 0.0225 - val_accuracy: 0.9882\n",
      "Epoch 162/200\n",
      "75/75 [==============================] - 5s 70ms/step - loss: 0.0312 - accuracy: 0.9857 - val_loss: 0.0236 - val_accuracy: 0.9884\n",
      "Epoch 163/200\n",
      "75/75 [==============================] - 5s 71ms/step - loss: 0.0291 - accuracy: 0.9865 - val_loss: 0.0221 - val_accuracy: 0.9903\n",
      "Epoch 164/200\n",
      "75/75 [==============================] - 5s 69ms/step - loss: 0.0325 - accuracy: 0.9846 - val_loss: 0.0238 - val_accuracy: 0.9890\n",
      "Epoch 165/200\n",
      "75/75 [==============================] - 5s 70ms/step - loss: 0.0330 - accuracy: 0.9852 - val_loss: 0.0238 - val_accuracy: 0.9882\n",
      "Epoch 166/200\n",
      "75/75 [==============================] - 5s 70ms/step - loss: 0.0276 - accuracy: 0.9871 - val_loss: 0.0214 - val_accuracy: 0.9890\n",
      "Epoch 167/200\n",
      "75/75 [==============================] - 5s 71ms/step - loss: 0.0280 - accuracy: 0.9874 - val_loss: 0.0213 - val_accuracy: 0.9905\n",
      "Epoch 168/200\n",
      "75/75 [==============================] - 5s 71ms/step - loss: 0.0292 - accuracy: 0.9867 - val_loss: 0.0217 - val_accuracy: 0.9901\n",
      "Epoch 169/200\n",
      "75/75 [==============================] - 5s 70ms/step - loss: 0.0275 - accuracy: 0.9872 - val_loss: 0.0203 - val_accuracy: 0.9910\n",
      "Epoch 170/200\n",
      "75/75 [==============================] - 5s 71ms/step - loss: 0.0283 - accuracy: 0.9871 - val_loss: 0.0209 - val_accuracy: 0.9904\n",
      "Epoch 171/200\n",
      "75/75 [==============================] - 5s 70ms/step - loss: 0.0279 - accuracy: 0.9879 - val_loss: 0.0238 - val_accuracy: 0.9889\n"
     ]
    },
    {
     "name": "stdout",
     "output_type": "stream",
     "text": [
      "Epoch 172/200\n",
      "75/75 [==============================] - 5s 68ms/step - loss: 0.0296 - accuracy: 0.9862 - val_loss: 0.0228 - val_accuracy: 0.9894\n",
      "Epoch 173/200\n",
      "75/75 [==============================] - 5s 68ms/step - loss: 0.0293 - accuracy: 0.9863 - val_loss: 0.0241 - val_accuracy: 0.9890\n",
      "Epoch 174/200\n",
      "75/75 [==============================] - 5s 68ms/step - loss: 0.0293 - accuracy: 0.9868 - val_loss: 0.0246 - val_accuracy: 0.9884\n",
      "Epoch 175/200\n",
      "75/75 [==============================] - 5s 67ms/step - loss: 0.0282 - accuracy: 0.9866 - val_loss: 0.0218 - val_accuracy: 0.9900\n",
      "Epoch 176/200\n",
      "75/75 [==============================] - 5s 68ms/step - loss: 0.0272 - accuracy: 0.9873 - val_loss: 0.0229 - val_accuracy: 0.9893\n",
      "Epoch 177/200\n",
      "75/75 [==============================] - 5s 68ms/step - loss: 0.0285 - accuracy: 0.9866 - val_loss: 0.0196 - val_accuracy: 0.9913\n",
      "Epoch 178/200\n",
      "75/75 [==============================] - 6s 77ms/step - loss: 0.0287 - accuracy: 0.9866 - val_loss: 0.0204 - val_accuracy: 0.9915\n",
      "Epoch 179/200\n",
      "75/75 [==============================] - 5s 67ms/step - loss: 0.0298 - accuracy: 0.9862 - val_loss: 0.0233 - val_accuracy: 0.9890\n",
      "Epoch 180/200\n",
      "75/75 [==============================] - 6s 77ms/step - loss: 0.0301 - accuracy: 0.9867 - val_loss: 0.0214 - val_accuracy: 0.9901\n",
      "Epoch 181/200\n",
      "75/75 [==============================] - 5s 71ms/step - loss: 0.0285 - accuracy: 0.9870 - val_loss: 0.0204 - val_accuracy: 0.9913\n",
      "Epoch 182/200\n",
      "75/75 [==============================] - 5s 69ms/step - loss: 0.0277 - accuracy: 0.9873 - val_loss: 0.0212 - val_accuracy: 0.9904\n",
      "Epoch 183/200\n",
      "75/75 [==============================] - 5s 69ms/step - loss: 0.0288 - accuracy: 0.9866 - val_loss: 0.0214 - val_accuracy: 0.9904\n",
      "Epoch 184/200\n",
      "75/75 [==============================] - 5s 70ms/step - loss: 0.0271 - accuracy: 0.9877 - val_loss: 0.0205 - val_accuracy: 0.9907\n",
      "Epoch 185/200\n",
      "75/75 [==============================] - 5s 70ms/step - loss: 0.0263 - accuracy: 0.9885 - val_loss: 0.0272 - val_accuracy: 0.9872\n",
      "Epoch 186/200\n",
      "75/75 [==============================] - 5s 70ms/step - loss: 0.0309 - accuracy: 0.9863 - val_loss: 0.0216 - val_accuracy: 0.9900\n",
      "Epoch 187/200\n",
      "75/75 [==============================] - 5s 69ms/step - loss: 0.0293 - accuracy: 0.9868 - val_loss: 0.0215 - val_accuracy: 0.9896\n",
      "Epoch 188/200\n",
      "75/75 [==============================] - 5s 70ms/step - loss: 0.0276 - accuracy: 0.9874 - val_loss: 0.0199 - val_accuracy: 0.9907\n",
      "Epoch 189/200\n",
      "75/75 [==============================] - 5s 70ms/step - loss: 0.0257 - accuracy: 0.9880 - val_loss: 0.0212 - val_accuracy: 0.9909\n",
      "Epoch 190/200\n",
      "75/75 [==============================] - 5s 69ms/step - loss: 0.0255 - accuracy: 0.9887 - val_loss: 0.0190 - val_accuracy: 0.9918\n",
      "Epoch 191/200\n",
      "75/75 [==============================] - 5s 70ms/step - loss: 0.0262 - accuracy: 0.9877 - val_loss: 0.0208 - val_accuracy: 0.9911\n",
      "Epoch 192/200\n",
      "75/75 [==============================] - 5s 69ms/step - loss: 0.0254 - accuracy: 0.9884 - val_loss: 0.0199 - val_accuracy: 0.9904\n",
      "Epoch 193/200\n",
      "75/75 [==============================] - 5s 71ms/step - loss: 0.0270 - accuracy: 0.9877 - val_loss: 0.0210 - val_accuracy: 0.9898\n",
      "Epoch 194/200\n",
      "75/75 [==============================] - 5s 72ms/step - loss: 0.0258 - accuracy: 0.9884 - val_loss: 0.0218 - val_accuracy: 0.9889\n",
      "Epoch 195/200\n",
      "75/75 [==============================] - 5s 70ms/step - loss: 0.0285 - accuracy: 0.9871 - val_loss: 0.0222 - val_accuracy: 0.9900\n",
      "Epoch 196/200\n",
      "75/75 [==============================] - 5s 70ms/step - loss: 0.0260 - accuracy: 0.9880 - val_loss: 0.0208 - val_accuracy: 0.9909\n",
      "Epoch 197/200\n",
      "75/75 [==============================] - 5s 71ms/step - loss: 0.0261 - accuracy: 0.9881 - val_loss: 0.0187 - val_accuracy: 0.9913\n",
      "Epoch 198/200\n",
      "75/75 [==============================] - 5s 70ms/step - loss: 0.0277 - accuracy: 0.9875 - val_loss: 0.0190 - val_accuracy: 0.9921\n",
      "Epoch 199/200\n",
      "75/75 [==============================] - 5s 70ms/step - loss: 0.0251 - accuracy: 0.9887 - val_loss: 0.0194 - val_accuracy: 0.9906\n",
      "Epoch 200/200\n",
      "75/75 [==============================] - 5s 72ms/step - loss: 0.0272 - accuracy: 0.9874 - val_loss: 0.0203 - val_accuracy: 0.9911\n"
     ]
    }
   ],
   "source": [
    "# 開始訓練  \n",
    "start = process_time()\n",
    "train_history = cnn.fit(X_train, scaled_y_train, epochs=200, validation_split=0.1, batch_size=1000)\n",
    "stop = process_time()"
   ]
  },
  {
   "cell_type": "code",
   "execution_count": 29,
   "id": "8e74c949",
   "metadata": {},
   "outputs": [
    {
     "name": "stdout",
     "output_type": "stream",
     "text": [
      "Time(s): 3116.09375\n"
     ]
    }
   ],
   "source": [
    "print(\"Time(s):\",stop-start)"
   ]
  },
  {
   "cell_type": "markdown",
   "id": "e937512e",
   "metadata": {},
   "source": [
    "# 效能評估"
   ]
  },
  {
   "cell_type": "code",
   "execution_count": 30,
   "id": "a043b81b",
   "metadata": {},
   "outputs": [],
   "source": [
    "import matplotlib.pyplot as plt\n",
    "def show_train_history(train_history,train,validation):\n",
    "    plt.plot(train_history.history[train])\n",
    "    plt.plot(train_history.history[validation])\n",
    "    plt.title('Train History')\n",
    "    plt.ylabel(train)\n",
    "    plt.xlabel('Epoch')\n",
    "    plt.legend(['train', 'validation'], loc='upper left')\n",
    "    plt.show()"
   ]
  },
  {
   "cell_type": "code",
   "execution_count": 31,
   "id": "392ffeea",
   "metadata": {},
   "outputs": [
    {
     "data": {
      "image/png": "[encoded data removed]",
      "text/plain": [
       "<Figure size 432x288 with 1 Axes>"
      ]
     },
     "metadata": {
      "needs_background": "light"
     },
     "output_type": "display_data"
    }
   ],
   "source": [
    "show_train_history(train_history,'accuracy','val_accuracy')"
   ]
  },
  {
   "cell_type": "code",
   "execution_count": 32,
   "id": "bf75a30a",
   "metadata": {},
   "outputs": [
    {
     "data": {
      "image/png": "[encoded data removed]",
      "text/plain": [
       "<Figure size 432x288 with 1 Axes>"
      ]
     },
     "metadata": {
      "needs_background": "light"
     },
     "output_type": "display_data"
    }
   ],
   "source": [
    "show_train_history(train_history,'loss','val_loss')"
   ]
  },
  {
   "cell_type": "code",
   "execution_count": 33,
   "id": "ce7649b5",
   "metadata": {},
   "outputs": [
    {
     "name": "stdout",
     "output_type": "stream",
     "text": [
      "649/649 [==============================] - 2s 3ms/step - loss: 0.0199 - accuracy: 0.9911\n",
      "\n",
      "\t[Info] Accuracy of testing data = 99.1%\n"
     ]
    }
   ],
   "source": [
    "scores = cnn.evaluate(X_test, y_test)  \n",
    "print()  \n",
    "print(\"\\t[Info] Accuracy of testing data = {:2.1f}%\".format(scores[1]*100.0))"
   ]
  },
  {
   "cell_type": "code",
   "execution_count": null,
   "id": "94ec2997",
   "metadata": {},
   "outputs": [],
   "source": []
  }
 ],
 "metadata": {
  "kernelspec": {
   "display_name": "Python 3",
   "language": "python",
   "name": "python3"
  },
  "language_info": {
   "codemirror_mode": {
    "name": "ipython",
    "version": 3
   },
   "file_extension": ".py",
   "mimetype": "text/x-python",
   "name": "python",
   "nbconvert_exporter": "python",
   "pygments_lexer": "ipython3",
   "version": "3.8.8"
  }
 },
 "nbformat": 4,
 "nbformat_minor": 5
}

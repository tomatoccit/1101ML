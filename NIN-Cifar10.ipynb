{
 "cells": [
  {
   "cell_type": "code",
   "execution_count": 19,
   "id": "0d1aeb6d",
   "metadata": {},
   "outputs": [],
   "source": [
    "import keras\n",
    "import numpy as np\n",
    "from keras.datasets import cifar10\n",
    "from keras.preprocessing.image import ImageDataGenerator\n",
    "from keras.models import Sequential\n",
    "from keras.layers import Dense, Dropout, Activation, Flatten\n",
    "from keras.layers import Conv2D, MaxPooling2D, GlobalAveragePooling2D, AveragePooling2D\n",
    "from keras.initializers import RandomNormal  \n",
    "from keras import optimizers\n",
    "from keras.callbacks import LearningRateScheduler, TensorBoard\n",
    "from tensorflow.keras.layers import BatchNormalization\n",
    "from keras.utils import np_utils\n",
    "from tensorflow.keras import optimizers"
   ]
  },
  {
   "cell_type": "code",
   "execution_count": 20,
   "id": "85f1d366",
   "metadata": {},
   "outputs": [],
   "source": [
    "batch_size    = 128\n",
    "#epochs        = 164\n",
    "epochs        = 5\n",
    "iterations    = 391\n",
    "num_classes   = 10\n",
    "dropout       = 0.5\n",
    "log_filepath  = './nin'"
   ]
  },
  {
   "cell_type": "code",
   "execution_count": 21,
   "id": "414e3596",
   "metadata": {},
   "outputs": [],
   "source": [
    "def color_preprocessing(x_train,x_test):\n",
    "    x_train = x_train.astype('float32')\n",
    "    x_test = x_test.astype('float32')\n",
    "    mean = [125.307, 122.95, 113.865]\n",
    "    std  = [62.9932, 62.0887, 66.7048]\n",
    "    for i in range(3):\n",
    "        x_train[:,:,:,i] = (x_train[:,:,:,i] - mean[i]) / std[i]\n",
    "        x_test[:,:,:,i] = (x_test[:,:,:,i] - mean[i]) / std[i]\n",
    "\n",
    "    return x_train, x_test"
   ]
  },
  {
   "cell_type": "code",
   "execution_count": 22,
   "id": "f83e4b0d",
   "metadata": {},
   "outputs": [],
   "source": [
    "def scheduler(epoch):\n",
    "  learning_rate_init = 0.08\n",
    "  if epoch >= 81:\n",
    "    learning_rate_init = 0.01\n",
    "  if epoch >= 122:\n",
    "    learning_rate_init = 0.001\n",
    "  return learning_rate_init\n",
    "\n",
    "def build_model():\n",
    "  model = Sequential()"
   ]
  },
  {
   "cell_type": "code",
   "execution_count": 23,
   "id": "d07a3453",
   "metadata": {},
   "outputs": [],
   "source": [
    "def build_model():\n",
    "  model = Sequential()\n",
    "\n",
    "  model.add(Conv2D(192, (5, 5), padding='same', kernel_regularizer=keras.regularizers.l2(0.0001), kernel_initializer=RandomNormal(stddev = 0.01), input_shape=x_train.shape[1:]))\n",
    "  model.add(Activation('relu'))\n",
    "  model.add(Conv2D(160, (1, 1), padding='same', kernel_regularizer=keras.regularizers.l2(0.0001), kernel_initializer=RandomNormal(stddev = 0.05)))\n",
    "  model.add(Activation('relu'))\n",
    "  model.add(Conv2D(96, (1, 1), padding='same', kernel_regularizer=keras.regularizers.l2(0.0001), kernel_initializer=RandomNormal(stddev = 0.05)))\n",
    "  model.add(Activation('relu'))\n",
    "  model.add(MaxPooling2D(pool_size=(3, 3),strides=(2,2),padding = 'same'))\n",
    "\n",
    "  model.add(Dropout(dropout))\n",
    "\n",
    "  model.add(Conv2D(192, (5, 5), padding='same', kernel_regularizer=keras.regularizers.l2(0.0001), kernel_initializer=RandomNormal(stddev = 0.05)))\n",
    "  model.add(Activation('relu'))\n",
    "  model.add(Conv2D(192, (1, 1),padding='same', kernel_regularizer=keras.regularizers.l2(0.0001), kernel_initializer=RandomNormal(stddev = 0.05)))\n",
    "  model.add(Activation('relu'))\n",
    "  model.add(Conv2D(192, (1, 1),padding='same', kernel_regularizer=keras.regularizers.l2(0.0001), kernel_initializer=RandomNormal(stddev = 0.05)))\n",
    "  model.add(Activation('relu'))\n",
    "  model.add(MaxPooling2D(pool_size=(3, 3),strides=(2,2),padding = 'same'))\n",
    "\n",
    "  model.add(Dropout(dropout))\n",
    "\n",
    "  model.add(Conv2D(192, (3, 3), padding='same', kernel_regularizer=keras.regularizers.l2(0.0001), kernel_initializer=RandomNormal(stddev = 0.05)))\n",
    "  model.add(Activation('relu'))\n",
    "  model.add(Conv2D(192, (1, 1), padding='same', kernel_regularizer=keras.regularizers.l2(0.0001), kernel_initializer=RandomNormal(stddev = 0.05)))\n",
    "  model.add(Activation('relu'))\n",
    "  model.add(Conv2D(10, (1, 1), padding='same', kernel_regularizer=keras.regularizers.l2(0.0001), kernel_initializer=RandomNormal(stddev = 0.05)))\n",
    "  model.add(Activation('relu'))\n",
    "\n",
    "  model.add(GlobalAveragePooling2D())\n",
    "  model.add(Activation('softmax'))\n",
    "\n",
    "  sgd = optimizers.SGD(learning_rate=.1, momentum=0.9, nesterov=True)\n",
    "  model.compile(loss='categorical_crossentropy', optimizer=sgd, metrics=['accuracy'])\n",
    "  return model"
   ]
  },
  {
   "cell_type": "code",
   "execution_count": 24,
   "id": "99a0c632",
   "metadata": {},
   "outputs": [
    {
     "name": "stdout",
     "output_type": "stream",
     "text": [
      "Model: \"sequential_2\"\n",
      "_________________________________________________________________\n",
      "Layer (type)                 Output Shape              Param #   \n",
      "=================================================================\n",
      "conv2d_18 (Conv2D)           (None, 32, 32, 192)       14592     \n",
      "_________________________________________________________________\n",
      "activation_20 (Activation)   (None, 32, 32, 192)       0         \n",
      "_________________________________________________________________\n",
      "conv2d_19 (Conv2D)           (None, 32, 32, 160)       30880     \n",
      "_________________________________________________________________\n",
      "activation_21 (Activation)   (None, 32, 32, 160)       0         \n",
      "_________________________________________________________________\n",
      "conv2d_20 (Conv2D)           (None, 32, 32, 96)        15456     \n",
      "_________________________________________________________________\n",
      "activation_22 (Activation)   (None, 32, 32, 96)        0         \n",
      "_________________________________________________________________\n",
      "max_pooling2d_4 (MaxPooling2 (None, 16, 16, 96)        0         \n",
      "_________________________________________________________________\n",
      "dropout_4 (Dropout)          (None, 16, 16, 96)        0         \n",
      "_________________________________________________________________\n",
      "conv2d_21 (Conv2D)           (None, 16, 16, 192)       460992    \n",
      "_________________________________________________________________\n",
      "activation_23 (Activation)   (None, 16, 16, 192)       0         \n",
      "_________________________________________________________________\n",
      "conv2d_22 (Conv2D)           (None, 16, 16, 192)       37056     \n",
      "_________________________________________________________________\n",
      "activation_24 (Activation)   (None, 16, 16, 192)       0         \n",
      "_________________________________________________________________\n",
      "conv2d_23 (Conv2D)           (None, 16, 16, 192)       37056     \n",
      "_________________________________________________________________\n",
      "activation_25 (Activation)   (None, 16, 16, 192)       0         \n",
      "_________________________________________________________________\n",
      "max_pooling2d_5 (MaxPooling2 (None, 8, 8, 192)         0         \n",
      "_________________________________________________________________\n",
      "dropout_5 (Dropout)          (None, 8, 8, 192)         0         \n",
      "_________________________________________________________________\n",
      "conv2d_24 (Conv2D)           (None, 8, 8, 192)         331968    \n",
      "_________________________________________________________________\n",
      "activation_26 (Activation)   (None, 8, 8, 192)         0         \n",
      "_________________________________________________________________\n",
      "conv2d_25 (Conv2D)           (None, 8, 8, 192)         37056     \n",
      "_________________________________________________________________\n",
      "activation_27 (Activation)   (None, 8, 8, 192)         0         \n",
      "_________________________________________________________________\n",
      "conv2d_26 (Conv2D)           (None, 8, 8, 10)          1930      \n",
      "_________________________________________________________________\n",
      "activation_28 (Activation)   (None, 8, 8, 10)          0         \n",
      "_________________________________________________________________\n",
      "global_average_pooling2d_2 ( (None, 10)                0         \n",
      "_________________________________________________________________\n",
      "activation_29 (Activation)   (None, 10)                0         \n",
      "=================================================================\n",
      "Total params: 966,986\n",
      "Trainable params: 966,986\n",
      "Non-trainable params: 0\n",
      "_________________________________________________________________\n",
      "None\n",
      "Using real-time data augmentation.\n",
      "Epoch 1/5\n",
      "391/391 [==============================] - 1100s 3s/step - loss: 2.4488 - accuracy: 0.1398 - val_loss: 2.3601 - val_accuracy: 0.1693\n",
      "Epoch 2/5\n",
      "391/391 [==============================] - 1054s 3s/step - loss: 2.2064 - accuracy: 0.2360 - val_loss: 2.2068 - val_accuracy: 0.2665\n",
      "Epoch 3/5\n",
      "391/391 [==============================] - 1043s 3s/step - loss: 1.9346 - accuracy: 0.3236 - val_loss: 1.6909 - val_accuracy: 0.4311\n",
      "Epoch 4/5\n",
      "391/391 [==============================] - 982s 3s/step - loss: 1.7146 - accuracy: 0.4268 - val_loss: 1.6868 - val_accuracy: 0.4593\n",
      "Epoch 5/5\n",
      "391/391 [==============================] - 980s 3s/step - loss: 1.5377 - accuracy: 0.4997 - val_loss: 1.4932 - val_accuracy: 0.5114\n"
     ]
    }
   ],
   "source": [
    "if __name__ == '__main__':\n",
    "\n",
    "    # load data\n",
    "    (x_train, y_train), (x_test, y_test) = cifar10.load_data()\n",
    "    y_train = np_utils.to_categorical(y_train, num_classes)\n",
    "    y_test = np_utils.to_categorical(y_test, num_classes)\n",
    "\n",
    "    x_train, x_test = color_preprocessing(x_train, x_test)\n",
    "\n",
    "    # build network\n",
    "    model = build_model()\n",
    "    print(model.summary())\n",
    "\n",
    "    # set callback\n",
    "    tb_cb = TensorBoard(log_dir=log_filepath, histogram_freq=0)\n",
    "    change_lr = LearningRateScheduler(scheduler)\n",
    "    cbks = [change_lr,tb_cb]\n",
    "\n",
    "    # set data augmentation\n",
    "    print('Using real-time data augmentation.')\n",
    "    datagen = ImageDataGenerator(horizontal_flip=True,width_shift_range=0.125,height_shift_range=0.125,fill_mode='constant',cval=0.)\n",
    "    datagen.fit(x_train)\n",
    "\n",
    "    # start training\n",
    "    train_history=model.fit_generator(datagen.flow(x_train, y_train,batch_size=batch_size),steps_per_epoch=iterations,epochs=epochs,callbacks=cbks,validation_data=(x_test, y_test))\n",
    "    #model.fit_generator(datagen.flow(x_train, y_train,batch_size=batch_size),steps_per_epoch=iterations,epochs=epochs,callbacks=cbks,validation_data=(x_test, y_test))\n",
    "    model.save('nin.h5')"
   ]
  },
  {
   "cell_type": "code",
   "execution_count": 26,
   "id": "bdab03de",
   "metadata": {},
   "outputs": [],
   "source": [
    "#建立show_train_history顯示訓練過程\n",
    "import matplotlib.pyplot as plt\n",
    "def show_train_history(train_history,train,validation):#之前訓練過程產生的train_history,訓練資料的執行結果，驗證資料的執行結果\n",
    "    plt.plot(train_history.history[train])\n",
    "    plt.plot(train_history.history[validation])\n",
    "    plt.title('Train History')\n",
    "    plt.ylabel(train)\n",
    "    plt.xlabel('Epoch')\n",
    "    plt.legend(['train', 'validation'], loc='upper left')\n",
    "    plt.show()"
   ]
  },
  {
   "cell_type": "code",
   "execution_count": 27,
   "id": "b22d694c",
   "metadata": {},
   "outputs": [
    {
     "data": {
      "image/png": "[encoded data removed]",
      "text/plain": [
       "<Figure size 432x288 with 1 Axes>"
      ]
     },
     "metadata": {
      "needs_background": "light"
     },
     "output_type": "display_data"
    }
   ],
   "source": [
    "show_train_history(train_history,'accuracy','val_accuracy')#訓練的準確率比驗證的高->如果訓練的準確率一直增加，但是驗證的準確率卻沒有增加，則可能是overfitting"
   ]
  },
  {
   "cell_type": "code",
   "execution_count": 28,
   "id": "f7094d09",
   "metadata": {},
   "outputs": [
    {
     "data": {
      "image/png": "[encoded data removed]",
      "text/plain": [
       "<Figure size 432x288 with 1 Axes>"
      ]
     },
     "metadata": {
      "needs_background": "light"
     },
     "output_type": "display_data"
    }
   ],
   "source": [
    "show_train_history(train_history,'loss','val_loss')#畫出誤差結果"
   ]
  },
  {
   "cell_type": "code",
   "execution_count": null,
   "id": "4015c632",
   "metadata": {},
   "outputs": [],
   "source": []
  }
 ],
 "metadata": {
  "kernelspec": {
   "display_name": "Python 3",
   "language": "python",
   "name": "python3"
  },
  "language_info": {
   "codemirror_mode": {
    "name": "ipython",
    "version": 3
   },
   "file_extension": ".py",
   "mimetype": "text/x-python",
   "name": "python",
   "nbconvert_exporter": "python",
   "pygments_lexer": "ipython3",
   "version": "3.8.8"
  }
 },
 "nbformat": 4,
 "nbformat_minor": 5
}

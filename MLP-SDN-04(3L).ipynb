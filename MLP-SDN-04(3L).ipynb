{
 "cells": [
  {
   "cell_type": "code",
   "execution_count": 1,
   "id": "a13cc311",
   "metadata": {},
   "outputs": [],
   "source": [
    "import pandas as pd\n",
    "import numpy as np\n",
    "import matplotlib.pyplot as plt\n",
    "from time import process_time\n",
    "import seaborn as sns\n",
    "\n",
    "from sklearn import model_selection\n",
    "from sklearn.model_selection import train_test_split\n",
    "from sklearn import ensemble, preprocessing, metrics\n",
    "from sklearn.metrics import classification_report, confusion_matrix\n",
    "\n",
    "from keras.utils import np_utils\n",
    "np.random.seed(10)\n",
    "import csv"
   ]
  },
  {
   "cell_type": "code",
   "execution_count": 2,
   "id": "4ba99bc1",
   "metadata": {},
   "outputs": [
    {
     "name": "stdout",
     "output_type": "stream",
     "text": [
      "                  dt         switch       pktcount     bytecount  \\\n",
      "count  104345.000000  104345.000000  104345.000000  1.043450e+05   \n",
      "mean    17927.514169       4.214260   52860.954746  3.818660e+07   \n",
      "std     11977.642655       1.956327   52023.241460  4.877748e+07   \n",
      "min      2488.000000       1.000000       0.000000  0.000000e+00   \n",
      "25%      7098.000000       3.000000     808.000000  7.957600e+04   \n",
      "50%     11905.000000       4.000000   42828.000000  6.471930e+06   \n",
      "75%     29952.000000       5.000000   94796.000000  7.620354e+07   \n",
      "max     42935.000000      10.000000  260006.000000  1.471280e+08   \n",
      "\n",
      "                 dur      dur_nsec       tot_dur          flows  \\\n",
      "count  104345.000000  1.043450e+05  1.043450e+05  104345.000000   \n",
      "mean      321.497398  4.613880e+08  3.218865e+11       5.654234   \n",
      "std       283.518232  2.770019e+08  2.834029e+11       2.950036   \n",
      "min         0.000000  0.000000e+00  0.000000e+00       2.000000   \n",
      "25%       127.000000  2.340000e+08  1.270000e+11       3.000000   \n",
      "50%       251.000000  4.180000e+08  2.520000e+11       5.000000   \n",
      "75%       412.000000  7.030000e+08  4.130000e+11       7.000000   \n",
      "max      1881.000000  9.990000e+08  1.880000e+12      17.000000   \n",
      "\n",
      "           packetins     pktperflow   byteperflow        pktrate  \\\n",
      "count  104345.000000  104345.000000  1.043450e+05  104345.000000   \n",
      "mean     5200.383468    6381.715291  4.716150e+06     212.210676   \n",
      "std      5257.001450    7404.777808  7.560116e+06     246.855123   \n",
      "min         4.000000 -130933.000000 -1.464426e+08   -4365.000000   \n",
      "25%      1943.000000      29.000000  2.842000e+03       0.000000   \n",
      "50%      3024.000000    8305.000000  5.521680e+05     276.000000   \n",
      "75%      7462.000000   10017.000000  9.728112e+06     333.000000   \n",
      "max     25224.000000   19190.000000  1.495387e+07     639.000000   \n",
      "\n",
      "            Pairflow        port_no      tx_bytes      rx_bytes  \\\n",
      "count  104345.000000  104345.000000  1.043450e+05  1.043450e+05   \n",
      "mean        0.600987       2.331094  9.325264e+07  9.328039e+07   \n",
      "std         0.489698       1.084333  1.519380e+08  1.330004e+08   \n",
      "min         0.000000       1.000000  2.527000e+03  8.560000e+02   \n",
      "25%         0.000000       1.000000  4.743000e+03  3.539000e+03   \n",
      "50%         1.000000       2.000000  4.219610e+06  1.338339e+07   \n",
      "75%         1.000000       3.000000  1.356398e+08  1.439277e+08   \n",
      "max         1.000000       5.000000  1.269982e+09  9.905962e+08   \n",
      "\n",
      "             tx_kbps        rx_kbps       tot_kbps          label  \n",
      "count  104345.000000  103839.000000  103839.000000  104345.000000  \n",
      "mean      998.899756    1003.811420    2007.578742       0.390857  \n",
      "std      2423.471618    2054.887034    3144.437173       0.487945  \n",
      "min         0.000000       0.000000       0.000000       0.000000  \n",
      "25%         0.000000       0.000000       0.000000       0.000000  \n",
      "50%         0.000000       0.000000       4.000000       0.000000  \n",
      "75%       251.000000     557.000000    3838.000000       1.000000  \n",
      "max     20580.000000   16577.000000   20580.000000       1.000000  \n"
     ]
    }
   ],
   "source": [
    "SDNdata = pd.read_csv(\"C:\\pythonwork\\dataset_sdn.csv\")\n",
    "print(SDNdata.describe())"
   ]
  },
  {
   "cell_type": "markdown",
   "id": "970574fe",
   "metadata": {},
   "source": [
    "# 資料前處理"
   ]
  },
  {
   "cell_type": "code",
   "execution_count": 3,
   "id": "f415bcec",
   "metadata": {},
   "outputs": [
    {
     "data": {
      "text/plain": [
       "(104345, 23)"
      ]
     },
     "execution_count": 3,
     "metadata": {},
     "output_type": "execute_result"
    }
   ],
   "source": [
    "SDNdata.shape"
   ]
  },
  {
   "cell_type": "code",
   "execution_count": 4,
   "id": "804e0cf1",
   "metadata": {},
   "outputs": [
    {
     "data": {
      "text/plain": [
       "(103839, 23)"
      ]
     },
     "execution_count": 4,
     "metadata": {},
     "output_type": "execute_result"
    }
   ],
   "source": [
    "#先把NULL值的資料Drop掉\n",
    "SDNdata.dropna(inplace=True)\n",
    "SDNdata.shape"
   ]
  },
  {
   "cell_type": "code",
   "execution_count": 5,
   "id": "f9d3f8bc",
   "metadata": {},
   "outputs": [
    {
     "data": {
      "text/plain": [
       "dt             0\n",
       "switch         0\n",
       "src            0\n",
       "dst            0\n",
       "pktcount       0\n",
       "bytecount      0\n",
       "dur            0\n",
       "dur_nsec       0\n",
       "tot_dur        0\n",
       "flows          0\n",
       "packetins      0\n",
       "pktperflow     0\n",
       "byteperflow    0\n",
       "pktrate        0\n",
       "Pairflow       0\n",
       "Protocol       0\n",
       "port_no        0\n",
       "tx_bytes       0\n",
       "rx_bytes       0\n",
       "tx_kbps        0\n",
       "rx_kbps        0\n",
       "tot_kbps       0\n",
       "label          0\n",
       "dtype: int64"
      ]
     },
     "execution_count": 5,
     "metadata": {},
     "output_type": "execute_result"
    }
   ],
   "source": [
    "#檢查還有沒有NULL\n",
    "SDNdata.isnull().sum()"
   ]
  },
  {
   "cell_type": "code",
   "execution_count": 6,
   "id": "f0829794",
   "metadata": {},
   "outputs": [
    {
     "data": {
      "text/plain": [
       "10.0.0.3     11395\n",
       "10.0.0.7     10291\n",
       "10.0.0.10     9593\n",
       "10.0.0.1      8627\n",
       "10.0.0.12     8081\n",
       "10.0.0.2      8010\n",
       "10.0.0.5      7291\n",
       "10.0.0.9      7165\n",
       "10.0.0.11     6383\n",
       "10.0.0.4      5973\n",
       "10.0.0.8      5210\n",
       "10.0.0.6      2740\n",
       "10.0.0.18     2590\n",
       "10.0.0.13     2484\n",
       "10.0.0.14     2265\n",
       "10.0.0.15     1858\n",
       "10.0.0.16     1789\n",
       "10.0.0.20     1114\n",
       "10.0.0.17      980\n",
       "Name: src, dtype: int64"
      ]
     },
     "execution_count": 6,
     "metadata": {},
     "output_type": "execute_result"
    }
   ],
   "source": [
    "SDNdata['src'].value_counts()"
   ]
  },
  {
   "cell_type": "code",
   "execution_count": 7,
   "id": "a02decd4",
   "metadata": {},
   "outputs": [
    {
     "data": {
      "text/plain": [
       "10.0.0.7     18020\n",
       "10.0.0.8     15587\n",
       "10.0.0.5     14876\n",
       "10.0.0.3     12855\n",
       "10.0.0.9      6318\n",
       "10.0.0.12     5635\n",
       "10.0.0.2      4990\n",
       "10.0.0.1      4645\n",
       "10.0.0.4      3963\n",
       "10.0.0.10     3924\n",
       "10.0.0.11     3370\n",
       "10.0.0.14     2007\n",
       "10.0.0.15     1765\n",
       "10.0.0.16     1684\n",
       "10.0.0.6      1590\n",
       "10.0.0.13     1076\n",
       "10.0.0.18      790\n",
       "10.0.0.17      744\n",
       "Name: dst, dtype: int64"
      ]
     },
     "execution_count": 7,
     "metadata": {},
     "output_type": "execute_result"
    }
   ],
   "source": [
    "SDNdata['dst'].value_counts()"
   ]
  },
  {
   "cell_type": "code",
   "execution_count": 8,
   "id": "850ffc3a",
   "metadata": {},
   "outputs": [
    {
     "data": {
      "text/plain": [
       "ICMP    41321\n",
       "UDP     33082\n",
       "TCP     29436\n",
       "Name: Protocol, dtype: int64"
      ]
     },
     "execution_count": 8,
     "metadata": {},
     "output_type": "execute_result"
    }
   ],
   "source": [
    "SDNdata['Protocol'].value_counts()"
   ]
  },
  {
   "cell_type": "code",
   "execution_count": 9,
   "id": "2c0395f0",
   "metadata": {},
   "outputs": [
    {
     "data": {
      "text/plain": [
       "103839"
      ]
     },
     "execution_count": 9,
     "metadata": {},
     "output_type": "execute_result"
    }
   ],
   "source": [
    "len(SDNdata)"
   ]
  },
  {
   "cell_type": "code",
   "execution_count": 10,
   "id": "882a069f",
   "metadata": {},
   "outputs": [],
   "source": [
    "fe=SDNdata.groupby('Protocol').size()/len(SDNdata)\n",
    "SDNdata.loc[:,'Protocol']=SDNdata['Protocol'].map(fe)"
   ]
  },
  {
   "cell_type": "code",
   "execution_count": 11,
   "id": "53680734",
   "metadata": {},
   "outputs": [
    {
     "data": {
      "text/plain": [
       "0.397933    41321\n",
       "0.318589    33082\n",
       "0.283477    29436\n",
       "Name: Protocol, dtype: int64"
      ]
     },
     "execution_count": 11,
     "metadata": {},
     "output_type": "execute_result"
    }
   ],
   "source": [
    "SDNdata['Protocol'].value_counts()"
   ]
  },
  {
   "cell_type": "code",
   "execution_count": 12,
   "id": "96dcfc72",
   "metadata": {},
   "outputs": [],
   "source": [
    "fe=SDNdata.groupby('dst').size()/len(SDNdata)\n",
    "SDNdata.loc[:,'dst']=SDNdata['dst'].map(fe)"
   ]
  },
  {
   "cell_type": "code",
   "execution_count": 13,
   "id": "34024a7a",
   "metadata": {},
   "outputs": [
    {
     "data": {
      "text/plain": [
       "0.173538    18020\n",
       "0.150107    15587\n",
       "0.143260    14876\n",
       "0.123797    12855\n",
       "0.060844     6318\n",
       "0.054267     5635\n",
       "0.048055     4990\n",
       "0.044733     4645\n",
       "0.038165     3963\n",
       "0.037789     3924\n",
       "0.032454     3370\n",
       "0.019328     2007\n",
       "0.016997     1765\n",
       "0.016217     1684\n",
       "0.015312     1590\n",
       "0.010362     1076\n",
       "0.007608      790\n",
       "0.007165      744\n",
       "Name: dst, dtype: int64"
      ]
     },
     "execution_count": 13,
     "metadata": {},
     "output_type": "execute_result"
    }
   ],
   "source": [
    "SDNdata['dst'].value_counts()"
   ]
  },
  {
   "cell_type": "code",
   "execution_count": 14,
   "id": "0d43652c",
   "metadata": {},
   "outputs": [],
   "source": [
    "fe=SDNdata.groupby('src').size()/len(SDNdata)\n",
    "SDNdata.loc[:,'src']=SDNdata['src'].map(fe)"
   ]
  },
  {
   "cell_type": "code",
   "execution_count": 15,
   "id": "5aee43b5",
   "metadata": {},
   "outputs": [
    {
     "data": {
      "text/plain": [
       "0.173538    18020\n",
       "0.150107    15587\n",
       "0.143260    14876\n",
       "0.123797    12855\n",
       "0.060844     6318\n",
       "0.054267     5635\n",
       "0.048055     4990\n",
       "0.044733     4645\n",
       "0.038165     3963\n",
       "0.037789     3924\n",
       "0.032454     3370\n",
       "0.019328     2007\n",
       "0.016997     1765\n",
       "0.016217     1684\n",
       "0.015312     1590\n",
       "0.010362     1076\n",
       "0.007608      790\n",
       "0.007165      744\n",
       "Name: dst, dtype: int64"
      ]
     },
     "execution_count": 15,
     "metadata": {},
     "output_type": "execute_result"
    }
   ],
   "source": [
    "SDNdata['dst'].value_counts()"
   ]
  },
  {
   "cell_type": "code",
   "execution_count": 16,
   "id": "8d286e72",
   "metadata": {},
   "outputs": [],
   "source": [
    "#把資料分為屬性和標籤，然後20%測試80%訓練\n",
    "x = SDNdata.drop('label', axis=1)\n",
    "y = SDNdata['label']\n",
    "x_train, x_test, y_train, y_test = train_test_split(x, y, test_size = 0.20,random_state=100)"
   ]
  },
  {
   "cell_type": "code",
   "execution_count": 17,
   "id": "7a49576e",
   "metadata": {},
   "outputs": [
    {
     "data": {
      "text/plain": [
       "(83071, 22)"
      ]
     },
     "execution_count": 17,
     "metadata": {},
     "output_type": "execute_result"
    }
   ],
   "source": [
    "x_train.shape"
   ]
  },
  {
   "cell_type": "code",
   "execution_count": 18,
   "id": "3de0a068",
   "metadata": {},
   "outputs": [
    {
     "data": {
      "text/plain": [
       "(20768, 22)"
      ]
     },
     "execution_count": 18,
     "metadata": {},
     "output_type": "execute_result"
    }
   ],
   "source": [
    "x_test.shape"
   ]
  },
  {
   "cell_type": "code",
   "execution_count": 19,
   "id": "ec0470a2",
   "metadata": {},
   "outputs": [
    {
     "data": {
      "text/plain": [
       "(83071,)"
      ]
     },
     "execution_count": 19,
     "metadata": {},
     "output_type": "execute_result"
    }
   ],
   "source": [
    "y_train.shape"
   ]
  },
  {
   "cell_type": "code",
   "execution_count": 20,
   "id": "5780b740",
   "metadata": {},
   "outputs": [
    {
     "data": {
      "text/plain": [
       "(20768,)"
      ]
     },
     "execution_count": 20,
     "metadata": {},
     "output_type": "execute_result"
    }
   ],
   "source": [
    "y_test.shape"
   ]
  },
  {
   "cell_type": "code",
   "execution_count": 21,
   "id": "78d38657",
   "metadata": {},
   "outputs": [],
   "source": [
    "#指定陣列\n",
    "df_x_train =pd.DataFrame(x_train)\n",
    "df_x_test =pd.DataFrame(x_test)\n",
    "df_y_train =pd.DataFrame(y_train)\n",
    "df_y_test =pd.DataFrame(y_test)"
   ]
  },
  {
   "cell_type": "code",
   "execution_count": 22,
   "id": "3b02d7d4",
   "metadata": {},
   "outputs": [
    {
     "data": {
      "text/plain": [
       "(83071, 22)"
      ]
     },
     "execution_count": 22,
     "metadata": {},
     "output_type": "execute_result"
    }
   ],
   "source": [
    "df_x_train.shape"
   ]
  },
  {
   "cell_type": "code",
   "execution_count": 23,
   "id": "2424e215",
   "metadata": {},
   "outputs": [
    {
     "data": {
      "text/plain": [
       "(20768, 22)"
      ]
     },
     "execution_count": 23,
     "metadata": {},
     "output_type": "execute_result"
    }
   ],
   "source": [
    "df_x_test.shape"
   ]
  },
  {
   "cell_type": "code",
   "execution_count": 24,
   "id": "2ff43d25",
   "metadata": {},
   "outputs": [
    {
     "data": {
      "text/plain": [
       "(83071, 1)"
      ]
     },
     "execution_count": 24,
     "metadata": {},
     "output_type": "execute_result"
    }
   ],
   "source": [
    "df_y_train.shape"
   ]
  },
  {
   "cell_type": "code",
   "execution_count": 25,
   "id": "eeaa4d65",
   "metadata": {},
   "outputs": [
    {
     "data": {
      "text/plain": [
       "(20768, 1)"
      ]
     },
     "execution_count": 25,
     "metadata": {},
     "output_type": "execute_result"
    }
   ],
   "source": [
    "df_y_test.shape"
   ]
  },
  {
   "cell_type": "code",
   "execution_count": 26,
   "id": "97c12242",
   "metadata": {},
   "outputs": [],
   "source": [
    "#正規化\n",
    "minmax_scale = preprocessing.MinMaxScaler(feature_range=(0, 1))\n",
    "scaled_x_train=minmax_scale.fit_transform(df_x_train)\n",
    "scaled_x_test=minmax_scale.fit_transform(df_x_test)\n",
    "scaled_y_train=minmax_scale.fit_transform(df_y_train)\n",
    "scaled_y_test=minmax_scale.fit_transform(df_y_test)"
   ]
  },
  {
   "cell_type": "code",
   "execution_count": 27,
   "id": "96b747da",
   "metadata": {},
   "outputs": [],
   "source": [
    "#1.MLP\n",
    "from keras.models import Sequential\n",
    "from keras.layers import Dense,Dropout,Flatten\n"
   ]
  },
  {
   "cell_type": "code",
   "execution_count": 28,
   "id": "0b9f267f",
   "metadata": {},
   "outputs": [],
   "source": [
    "model = Sequential()"
   ]
  },
  {
   "cell_type": "code",
   "execution_count": 29,
   "id": "310cda65",
   "metadata": {},
   "outputs": [],
   "source": [
    "model.add(Dense(units=40, input_dim=22, \n",
    "                kernel_initializer='uniform', \n",
    "                activation='relu'))"
   ]
  },
  {
   "cell_type": "code",
   "execution_count": 30,
   "id": "a11c3d13",
   "metadata": {},
   "outputs": [],
   "source": [
    "model.add(Dense(units=30, \n",
    "                kernel_initializer='uniform', \n",
    "                activation='relu'))"
   ]
  },
  {
   "cell_type": "code",
   "execution_count": 31,
   "id": "b69c7260",
   "metadata": {},
   "outputs": [],
   "source": [
    "model.add(Dense(units=30, \n",
    "                kernel_initializer='uniform', \n",
    "                activation='relu'))"
   ]
  },
  {
   "cell_type": "code",
   "execution_count": 32,
   "id": "b963d9cb",
   "metadata": {},
   "outputs": [],
   "source": [
    "model.add(Dense(units=1, \n",
    "                kernel_initializer='uniform',\n",
    "                activation='sigmoid'))"
   ]
  },
  {
   "cell_type": "code",
   "execution_count": 33,
   "id": "1a4cfe2b",
   "metadata": {},
   "outputs": [],
   "source": [
    "model.compile(loss='binary_crossentropy', \n",
    "              optimizer='adam', metrics=['accuracy'])"
   ]
  },
  {
   "cell_type": "code",
   "execution_count": 34,
   "id": "42af519e",
   "metadata": {},
   "outputs": [
    {
     "name": "stdout",
     "output_type": "stream",
     "text": [
      "Model: \"sequential\"\n",
      "_________________________________________________________________\n",
      "Layer (type)                 Output Shape              Param #   \n",
      "=================================================================\n",
      "dense (Dense)                (None, 40)                920       \n",
      "_________________________________________________________________\n",
      "dense_1 (Dense)              (None, 30)                1230      \n",
      "_________________________________________________________________\n",
      "dense_2 (Dense)              (None, 30)                930       \n",
      "_________________________________________________________________\n",
      "dense_3 (Dense)              (None, 1)                 31        \n",
      "=================================================================\n",
      "Total params: 3,111\n",
      "Trainable params: 3,111\n",
      "Non-trainable params: 0\n",
      "_________________________________________________________________\n"
     ]
    }
   ],
   "source": [
    "model.summary()"
   ]
  },
  {
   "cell_type": "code",
   "execution_count": 35,
   "id": "6dda49b6",
   "metadata": {},
   "outputs": [
    {
     "name": "stdout",
     "output_type": "stream",
     "text": [
      "Epoch 1/200\n",
      "75/75 - 2s - loss: 0.6718 - accuracy: 0.6057 - val_loss: 0.6434 - val_accuracy: 0.6074\n",
      "Epoch 2/200\n",
      "75/75 - 0s - loss: 0.5587 - accuracy: 0.6481 - val_loss: 0.4800 - val_accuracy: 0.7096\n",
      "Epoch 3/200\n",
      "75/75 - 0s - loss: 0.4175 - accuracy: 0.7682 - val_loss: 0.3585 - val_accuracy: 0.8173\n",
      "Epoch 4/200\n",
      "75/75 - 0s - loss: 0.3128 - accuracy: 0.8649 - val_loss: 0.2780 - val_accuracy: 0.9006\n",
      "Epoch 5/200\n",
      "75/75 - 0s - loss: 0.2481 - accuracy: 0.9156 - val_loss: 0.2228 - val_accuracy: 0.9230\n",
      "Epoch 6/200\n",
      "75/75 - 0s - loss: 0.2069 - accuracy: 0.9276 - val_loss: 0.1919 - val_accuracy: 0.9337\n",
      "Epoch 7/200\n",
      "75/75 - 0s - loss: 0.1771 - accuracy: 0.9378 - val_loss: 0.1679 - val_accuracy: 0.9375\n",
      "Epoch 8/200\n",
      "75/75 - 0s - loss: 0.1578 - accuracy: 0.9431 - val_loss: 0.1567 - val_accuracy: 0.9432\n",
      "Epoch 9/200\n",
      "75/75 - 0s - loss: 0.1446 - accuracy: 0.9471 - val_loss: 0.1404 - val_accuracy: 0.9478\n",
      "Epoch 10/200\n",
      "75/75 - 0s - loss: 0.1336 - accuracy: 0.9510 - val_loss: 0.1325 - val_accuracy: 0.9531\n",
      "Epoch 11/200\n",
      "75/75 - 0s - loss: 0.1240 - accuracy: 0.9545 - val_loss: 0.1278 - val_accuracy: 0.9500\n",
      "Epoch 12/200\n",
      "75/75 - 0s - loss: 0.1170 - accuracy: 0.9563 - val_loss: 0.1162 - val_accuracy: 0.9563\n",
      "Epoch 13/200\n",
      "75/75 - 0s - loss: 0.1107 - accuracy: 0.9579 - val_loss: 0.1107 - val_accuracy: 0.9575\n",
      "Epoch 14/200\n",
      "75/75 - 0s - loss: 0.1069 - accuracy: 0.9594 - val_loss: 0.1089 - val_accuracy: 0.9558\n",
      "Epoch 15/200\n",
      "75/75 - 0s - loss: 0.1009 - accuracy: 0.9611 - val_loss: 0.1147 - val_accuracy: 0.9543\n",
      "Epoch 16/200\n",
      "75/75 - 0s - loss: 0.0988 - accuracy: 0.9613 - val_loss: 0.0966 - val_accuracy: 0.9615\n",
      "Epoch 17/200\n",
      "75/75 - 0s - loss: 0.0937 - accuracy: 0.9636 - val_loss: 0.0914 - val_accuracy: 0.9621\n",
      "Epoch 18/200\n",
      "75/75 - 0s - loss: 0.0902 - accuracy: 0.9643 - val_loss: 0.0884 - val_accuracy: 0.9622\n",
      "Epoch 19/200\n",
      "75/75 - 0s - loss: 0.0877 - accuracy: 0.9652 - val_loss: 0.0888 - val_accuracy: 0.9673\n",
      "Epoch 20/200\n",
      "75/75 - 0s - loss: 0.0852 - accuracy: 0.9662 - val_loss: 0.0856 - val_accuracy: 0.9647\n",
      "Epoch 21/200\n",
      "75/75 - 0s - loss: 0.0831 - accuracy: 0.9666 - val_loss: 0.0869 - val_accuracy: 0.9623\n",
      "Epoch 22/200\n",
      "75/75 - 0s - loss: 0.0828 - accuracy: 0.9667 - val_loss: 0.0818 - val_accuracy: 0.9657\n",
      "Epoch 23/200\n",
      "75/75 - 0s - loss: 0.0811 - accuracy: 0.9674 - val_loss: 0.0783 - val_accuracy: 0.9679\n",
      "Epoch 24/200\n",
      "75/75 - 0s - loss: 0.0787 - accuracy: 0.9682 - val_loss: 0.0779 - val_accuracy: 0.9669\n",
      "Epoch 25/200\n",
      "75/75 - 0s - loss: 0.0771 - accuracy: 0.9682 - val_loss: 0.0749 - val_accuracy: 0.9683\n",
      "Epoch 26/200\n",
      "75/75 - 0s - loss: 0.0762 - accuracy: 0.9684 - val_loss: 0.0743 - val_accuracy: 0.9688\n",
      "Epoch 27/200\n",
      "75/75 - 0s - loss: 0.0735 - accuracy: 0.9695 - val_loss: 0.0715 - val_accuracy: 0.9703\n",
      "Epoch 28/200\n",
      "75/75 - 0s - loss: 0.0730 - accuracy: 0.9698 - val_loss: 0.0709 - val_accuracy: 0.9699\n",
      "Epoch 29/200\n",
      "75/75 - 0s - loss: 0.0726 - accuracy: 0.9698 - val_loss: 0.0702 - val_accuracy: 0.9722\n",
      "Epoch 30/200\n",
      "75/75 - 0s - loss: 0.0714 - accuracy: 0.9695 - val_loss: 0.0681 - val_accuracy: 0.9720\n",
      "Epoch 31/200\n",
      "75/75 - 0s - loss: 0.0722 - accuracy: 0.9695 - val_loss: 0.0816 - val_accuracy: 0.9645\n",
      "Epoch 32/200\n",
      "75/75 - 0s - loss: 0.0706 - accuracy: 0.9701 - val_loss: 0.0661 - val_accuracy: 0.9720\n",
      "Epoch 33/200\n",
      "75/75 - 0s - loss: 0.0692 - accuracy: 0.9706 - val_loss: 0.0660 - val_accuracy: 0.9720\n",
      "Epoch 34/200\n",
      "75/75 - 0s - loss: 0.0674 - accuracy: 0.9718 - val_loss: 0.0665 - val_accuracy: 0.9738\n",
      "Epoch 35/200\n",
      "75/75 - 0s - loss: 0.0664 - accuracy: 0.9719 - val_loss: 0.0644 - val_accuracy: 0.9729\n",
      "Epoch 36/200\n",
      "75/75 - 0s - loss: 0.0658 - accuracy: 0.9718 - val_loss: 0.0662 - val_accuracy: 0.9722\n",
      "Epoch 37/200\n",
      "75/75 - 0s - loss: 0.0638 - accuracy: 0.9729 - val_loss: 0.0611 - val_accuracy: 0.9744\n",
      "Epoch 38/200\n",
      "75/75 - 0s - loss: 0.0644 - accuracy: 0.9721 - val_loss: 0.0631 - val_accuracy: 0.9736\n",
      "Epoch 39/200\n",
      "75/75 - 0s - loss: 0.0639 - accuracy: 0.9724 - val_loss: 0.0615 - val_accuracy: 0.9742\n",
      "Epoch 40/200\n",
      "75/75 - 0s - loss: 0.0641 - accuracy: 0.9727 - val_loss: 0.0592 - val_accuracy: 0.9750\n",
      "Epoch 41/200\n",
      "75/75 - 0s - loss: 0.0626 - accuracy: 0.9732 - val_loss: 0.0596 - val_accuracy: 0.9748\n",
      "Epoch 42/200\n",
      "75/75 - 0s - loss: 0.0616 - accuracy: 0.9738 - val_loss: 0.0590 - val_accuracy: 0.9748\n",
      "Epoch 43/200\n",
      "75/75 - 0s - loss: 0.0634 - accuracy: 0.9726 - val_loss: 0.0582 - val_accuracy: 0.9758\n",
      "Epoch 44/200\n",
      "75/75 - 0s - loss: 0.0592 - accuracy: 0.9751 - val_loss: 0.0741 - val_accuracy: 0.9671\n",
      "Epoch 45/200\n",
      "75/75 - 0s - loss: 0.0619 - accuracy: 0.9738 - val_loss: 0.0575 - val_accuracy: 0.9747\n",
      "Epoch 46/200\n",
      "75/75 - 0s - loss: 0.0585 - accuracy: 0.9750 - val_loss: 0.0604 - val_accuracy: 0.9726\n",
      "Epoch 47/200\n",
      "75/75 - 0s - loss: 0.0587 - accuracy: 0.9749 - val_loss: 0.0591 - val_accuracy: 0.9752\n",
      "Epoch 48/200\n",
      "75/75 - 0s - loss: 0.0584 - accuracy: 0.9752 - val_loss: 0.0573 - val_accuracy: 0.9758\n",
      "Epoch 49/200\n",
      "75/75 - 0s - loss: 0.0565 - accuracy: 0.9758 - val_loss: 0.0547 - val_accuracy: 0.9766\n",
      "Epoch 50/200\n",
      "75/75 - 0s - loss: 0.0562 - accuracy: 0.9762 - val_loss: 0.0560 - val_accuracy: 0.9759\n",
      "Epoch 51/200\n",
      "75/75 - 0s - loss: 0.0572 - accuracy: 0.9756 - val_loss: 0.0582 - val_accuracy: 0.9736\n",
      "Epoch 52/200\n",
      "75/75 - 0s - loss: 0.0574 - accuracy: 0.9754 - val_loss: 0.0558 - val_accuracy: 0.9766\n",
      "Epoch 53/200\n",
      "75/75 - 0s - loss: 0.0571 - accuracy: 0.9753 - val_loss: 0.0559 - val_accuracy: 0.9769\n",
      "Epoch 54/200\n",
      "75/75 - 0s - loss: 0.0564 - accuracy: 0.9757 - val_loss: 0.0525 - val_accuracy: 0.9769\n",
      "Epoch 55/200\n",
      "75/75 - 0s - loss: 0.0565 - accuracy: 0.9751 - val_loss: 0.0561 - val_accuracy: 0.9753\n",
      "Epoch 56/200\n",
      "75/75 - 0s - loss: 0.0544 - accuracy: 0.9761 - val_loss: 0.0534 - val_accuracy: 0.9770\n",
      "Epoch 57/200\n",
      "75/75 - 0s - loss: 0.0576 - accuracy: 0.9748 - val_loss: 0.0523 - val_accuracy: 0.9777\n",
      "Epoch 58/200\n",
      "75/75 - 0s - loss: 0.0590 - accuracy: 0.9745 - val_loss: 0.0535 - val_accuracy: 0.9781\n",
      "Epoch 59/200\n",
      "75/75 - 0s - loss: 0.0532 - accuracy: 0.9768 - val_loss: 0.0535 - val_accuracy: 0.9768\n",
      "Epoch 60/200\n",
      "75/75 - 0s - loss: 0.0534 - accuracy: 0.9769 - val_loss: 0.0535 - val_accuracy: 0.9757\n",
      "Epoch 61/200\n",
      "75/75 - 0s - loss: 0.0562 - accuracy: 0.9752 - val_loss: 0.0519 - val_accuracy: 0.9783\n",
      "Epoch 62/200\n",
      "75/75 - 0s - loss: 0.0565 - accuracy: 0.9755 - val_loss: 0.0510 - val_accuracy: 0.9773\n",
      "Epoch 63/200\n",
      "75/75 - 0s - loss: 0.0530 - accuracy: 0.9770 - val_loss: 0.0507 - val_accuracy: 0.9776\n",
      "Epoch 64/200\n",
      "75/75 - 0s - loss: 0.0576 - accuracy: 0.9751 - val_loss: 0.0523 - val_accuracy: 0.9781\n",
      "Epoch 65/200\n",
      "75/75 - 0s - loss: 0.0514 - accuracy: 0.9777 - val_loss: 0.0509 - val_accuracy: 0.9768\n",
      "Epoch 66/200\n",
      "75/75 - 0s - loss: 0.0524 - accuracy: 0.9773 - val_loss: 0.0510 - val_accuracy: 0.9782\n",
      "Epoch 67/200\n",
      "75/75 - 0s - loss: 0.0516 - accuracy: 0.9772 - val_loss: 0.0496 - val_accuracy: 0.9774\n",
      "Epoch 68/200\n",
      "75/75 - 0s - loss: 0.0518 - accuracy: 0.9773 - val_loss: 0.0522 - val_accuracy: 0.9786\n",
      "Epoch 69/200\n",
      "75/75 - 0s - loss: 0.0534 - accuracy: 0.9770 - val_loss: 0.0543 - val_accuracy: 0.9759\n",
      "Epoch 70/200\n",
      "75/75 - 0s - loss: 0.0509 - accuracy: 0.9777 - val_loss: 0.0514 - val_accuracy: 0.9779\n",
      "Epoch 71/200\n",
      "75/75 - 0s - loss: 0.0528 - accuracy: 0.9771 - val_loss: 0.0521 - val_accuracy: 0.9771\n",
      "Epoch 72/200\n",
      "75/75 - 0s - loss: 0.0511 - accuracy: 0.9771 - val_loss: 0.0486 - val_accuracy: 0.9779\n",
      "Epoch 73/200\n",
      "75/75 - 0s - loss: 0.0508 - accuracy: 0.9777 - val_loss: 0.0476 - val_accuracy: 0.9788\n",
      "Epoch 74/200\n",
      "75/75 - 0s - loss: 0.0498 - accuracy: 0.9786 - val_loss: 0.0490 - val_accuracy: 0.9782\n",
      "Epoch 75/200\n",
      "75/75 - 0s - loss: 0.0495 - accuracy: 0.9782 - val_loss: 0.0510 - val_accuracy: 0.9776\n",
      "Epoch 76/200\n",
      "75/75 - 0s - loss: 0.0487 - accuracy: 0.9786 - val_loss: 0.0473 - val_accuracy: 0.9795\n",
      "Epoch 77/200\n",
      "75/75 - 0s - loss: 0.0485 - accuracy: 0.9789 - val_loss: 0.0473 - val_accuracy: 0.9787\n",
      "Epoch 78/200\n",
      "75/75 - 0s - loss: 0.0512 - accuracy: 0.9780 - val_loss: 0.0493 - val_accuracy: 0.9786\n",
      "Epoch 79/200\n",
      "75/75 - 0s - loss: 0.0489 - accuracy: 0.9790 - val_loss: 0.0479 - val_accuracy: 0.9779\n",
      "Epoch 80/200\n",
      "75/75 - 0s - loss: 0.0490 - accuracy: 0.9786 - val_loss: 0.0477 - val_accuracy: 0.9791\n",
      "Epoch 81/200\n",
      "75/75 - 0s - loss: 0.0490 - accuracy: 0.9785 - val_loss: 0.0476 - val_accuracy: 0.9787\n",
      "Epoch 82/200\n",
      "75/75 - 0s - loss: 0.0482 - accuracy: 0.9791 - val_loss: 0.0523 - val_accuracy: 0.9762\n",
      "Epoch 83/200\n"
     ]
    },
    {
     "name": "stdout",
     "output_type": "stream",
     "text": [
      "75/75 - 0s - loss: 0.0507 - accuracy: 0.9776 - val_loss: 0.0497 - val_accuracy: 0.9792\n",
      "Epoch 84/200\n",
      "75/75 - 0s - loss: 0.0476 - accuracy: 0.9795 - val_loss: 0.0517 - val_accuracy: 0.9786\n",
      "Epoch 85/200\n",
      "75/75 - 0s - loss: 0.0497 - accuracy: 0.9788 - val_loss: 0.0466 - val_accuracy: 0.9781\n",
      "Epoch 86/200\n",
      "75/75 - 0s - loss: 0.0476 - accuracy: 0.9790 - val_loss: 0.0491 - val_accuracy: 0.9794\n",
      "Epoch 87/200\n",
      "75/75 - 0s - loss: 0.0495 - accuracy: 0.9784 - val_loss: 0.0460 - val_accuracy: 0.9792\n",
      "Epoch 88/200\n",
      "75/75 - 0s - loss: 0.0450 - accuracy: 0.9807 - val_loss: 0.0529 - val_accuracy: 0.9782\n",
      "Epoch 89/200\n",
      "75/75 - 0s - loss: 0.0480 - accuracy: 0.9792 - val_loss: 0.0573 - val_accuracy: 0.9745\n",
      "Epoch 90/200\n",
      "75/75 - 0s - loss: 0.0486 - accuracy: 0.9787 - val_loss: 0.0465 - val_accuracy: 0.9791\n",
      "Epoch 91/200\n",
      "75/75 - 0s - loss: 0.0458 - accuracy: 0.9799 - val_loss: 0.0458 - val_accuracy: 0.9780\n",
      "Epoch 92/200\n",
      "75/75 - 0s - loss: 0.0462 - accuracy: 0.9801 - val_loss: 0.0474 - val_accuracy: 0.9787\n",
      "Epoch 93/200\n",
      "75/75 - 0s - loss: 0.0472 - accuracy: 0.9793 - val_loss: 0.0471 - val_accuracy: 0.9793\n",
      "Epoch 94/200\n",
      "75/75 - 0s - loss: 0.0455 - accuracy: 0.9800 - val_loss: 0.0467 - val_accuracy: 0.9781\n",
      "Epoch 95/200\n",
      "75/75 - 0s - loss: 0.0477 - accuracy: 0.9788 - val_loss: 0.0462 - val_accuracy: 0.9799\n",
      "Epoch 96/200\n",
      "75/75 - 0s - loss: 0.0477 - accuracy: 0.9799 - val_loss: 0.0454 - val_accuracy: 0.9791\n",
      "Epoch 97/200\n",
      "75/75 - 0s - loss: 0.0446 - accuracy: 0.9804 - val_loss: 0.0477 - val_accuracy: 0.9783\n",
      "Epoch 98/200\n",
      "75/75 - 0s - loss: 0.0462 - accuracy: 0.9803 - val_loss: 0.0511 - val_accuracy: 0.9774\n",
      "Epoch 99/200\n",
      "75/75 - 0s - loss: 0.0461 - accuracy: 0.9804 - val_loss: 0.0503 - val_accuracy: 0.9765\n",
      "Epoch 100/200\n",
      "75/75 - 0s - loss: 0.0475 - accuracy: 0.9794 - val_loss: 0.0513 - val_accuracy: 0.9766\n",
      "Epoch 101/200\n",
      "75/75 - 0s - loss: 0.0448 - accuracy: 0.9806 - val_loss: 0.0516 - val_accuracy: 0.9756\n",
      "Epoch 102/200\n",
      "75/75 - 0s - loss: 0.0438 - accuracy: 0.9811 - val_loss: 0.0447 - val_accuracy: 0.9787\n",
      "Epoch 103/200\n",
      "75/75 - 0s - loss: 0.0443 - accuracy: 0.9807 - val_loss: 0.0428 - val_accuracy: 0.9807\n",
      "Epoch 104/200\n",
      "75/75 - 0s - loss: 0.0445 - accuracy: 0.9812 - val_loss: 0.0443 - val_accuracy: 0.9797\n",
      "Epoch 105/200\n",
      "75/75 - 0s - loss: 0.0427 - accuracy: 0.9815 - val_loss: 0.0448 - val_accuracy: 0.9795\n",
      "Epoch 106/200\n",
      "75/75 - 0s - loss: 0.0444 - accuracy: 0.9806 - val_loss: 0.0473 - val_accuracy: 0.9789\n",
      "Epoch 107/200\n",
      "75/75 - 0s - loss: 0.0445 - accuracy: 0.9810 - val_loss: 0.0444 - val_accuracy: 0.9792\n",
      "Epoch 108/200\n",
      "75/75 - 0s - loss: 0.0476 - accuracy: 0.9793 - val_loss: 0.0451 - val_accuracy: 0.9794\n",
      "Epoch 109/200\n",
      "75/75 - 0s - loss: 0.0427 - accuracy: 0.9814 - val_loss: 0.0434 - val_accuracy: 0.9807\n",
      "Epoch 110/200\n",
      "75/75 - 0s - loss: 0.0424 - accuracy: 0.9815 - val_loss: 0.0440 - val_accuracy: 0.9793\n",
      "Epoch 111/200\n",
      "75/75 - 0s - loss: 0.0484 - accuracy: 0.9788 - val_loss: 0.0527 - val_accuracy: 0.9777\n",
      "Epoch 112/200\n",
      "75/75 - 0s - loss: 0.0490 - accuracy: 0.9788 - val_loss: 0.0488 - val_accuracy: 0.9785\n",
      "Epoch 113/200\n",
      "75/75 - 0s - loss: 0.0436 - accuracy: 0.9806 - val_loss: 0.0427 - val_accuracy: 0.9805\n",
      "Epoch 114/200\n",
      "75/75 - 0s - loss: 0.0474 - accuracy: 0.9795 - val_loss: 0.0436 - val_accuracy: 0.9805\n",
      "Epoch 115/200\n",
      "75/75 - 0s - loss: 0.0435 - accuracy: 0.9810 - val_loss: 0.0427 - val_accuracy: 0.9804\n",
      "Epoch 116/200\n",
      "75/75 - 0s - loss: 0.0429 - accuracy: 0.9813 - val_loss: 0.0418 - val_accuracy: 0.9804\n",
      "Epoch 117/200\n",
      "75/75 - 0s - loss: 0.0422 - accuracy: 0.9813 - val_loss: 0.0443 - val_accuracy: 0.9786\n",
      "Epoch 118/200\n",
      "75/75 - 0s - loss: 0.0433 - accuracy: 0.9812 - val_loss: 0.0441 - val_accuracy: 0.9795\n",
      "Epoch 119/200\n",
      "75/75 - 0s - loss: 0.0486 - accuracy: 0.9793 - val_loss: 0.0665 - val_accuracy: 0.9715\n",
      "Epoch 120/200\n",
      "75/75 - 0s - loss: 0.0435 - accuracy: 0.9811 - val_loss: 0.0424 - val_accuracy: 0.9812\n",
      "Epoch 121/200\n",
      "75/75 - 0s - loss: 0.0435 - accuracy: 0.9811 - val_loss: 0.0464 - val_accuracy: 0.9798\n",
      "Epoch 122/200\n",
      "75/75 - 0s - loss: 0.0456 - accuracy: 0.9799 - val_loss: 0.0451 - val_accuracy: 0.9803\n",
      "Epoch 123/200\n",
      "75/75 - 0s - loss: 0.0450 - accuracy: 0.9805 - val_loss: 0.0448 - val_accuracy: 0.9798\n",
      "Epoch 124/200\n",
      "75/75 - 0s - loss: 0.0447 - accuracy: 0.9808 - val_loss: 0.0485 - val_accuracy: 0.9789\n",
      "Epoch 125/200\n",
      "75/75 - 0s - loss: 0.0440 - accuracy: 0.9807 - val_loss: 0.0441 - val_accuracy: 0.9804\n",
      "Epoch 126/200\n",
      "75/75 - 0s - loss: 0.0434 - accuracy: 0.9811 - val_loss: 0.0494 - val_accuracy: 0.9782\n",
      "Epoch 127/200\n",
      "75/75 - 0s - loss: 0.0422 - accuracy: 0.9818 - val_loss: 0.0455 - val_accuracy: 0.9787\n",
      "Epoch 128/200\n",
      "75/75 - 0s - loss: 0.0412 - accuracy: 0.9823 - val_loss: 0.0430 - val_accuracy: 0.9806\n",
      "Epoch 129/200\n",
      "75/75 - 0s - loss: 0.0417 - accuracy: 0.9821 - val_loss: 0.0404 - val_accuracy: 0.9825\n",
      "Epoch 130/200\n",
      "75/75 - 0s - loss: 0.0443 - accuracy: 0.9803 - val_loss: 0.0413 - val_accuracy: 0.9817\n",
      "Epoch 131/200\n",
      "75/75 - 0s - loss: 0.0403 - accuracy: 0.9829 - val_loss: 0.0443 - val_accuracy: 0.9807\n",
      "Epoch 132/200\n",
      "75/75 - 0s - loss: 0.0427 - accuracy: 0.9816 - val_loss: 0.0459 - val_accuracy: 0.9809\n",
      "Epoch 133/200\n",
      "75/75 - 0s - loss: 0.0423 - accuracy: 0.9817 - val_loss: 0.0418 - val_accuracy: 0.9807\n",
      "Epoch 134/200\n",
      "75/75 - 0s - loss: 0.0409 - accuracy: 0.9822 - val_loss: 0.0435 - val_accuracy: 0.9801\n",
      "Epoch 135/200\n",
      "75/75 - 0s - loss: 0.0410 - accuracy: 0.9823 - val_loss: 0.0435 - val_accuracy: 0.9804\n",
      "Epoch 136/200\n",
      "75/75 - 0s - loss: 0.0427 - accuracy: 0.9814 - val_loss: 0.0444 - val_accuracy: 0.9787\n",
      "Epoch 137/200\n",
      "75/75 - 0s - loss: 0.0408 - accuracy: 0.9824 - val_loss: 0.0411 - val_accuracy: 0.9809\n",
      "Epoch 138/200\n",
      "75/75 - 0s - loss: 0.0429 - accuracy: 0.9816 - val_loss: 0.0403 - val_accuracy: 0.9819\n",
      "Epoch 139/200\n",
      "75/75 - 0s - loss: 0.0424 - accuracy: 0.9817 - val_loss: 0.0429 - val_accuracy: 0.9803\n",
      "Epoch 140/200\n",
      "75/75 - 0s - loss: 0.0422 - accuracy: 0.9818 - val_loss: 0.0478 - val_accuracy: 0.9783\n",
      "Epoch 141/200\n",
      "75/75 - 0s - loss: 0.0408 - accuracy: 0.9824 - val_loss: 0.0400 - val_accuracy: 0.9815\n",
      "Epoch 142/200\n",
      "75/75 - 0s - loss: 0.0418 - accuracy: 0.9816 - val_loss: 0.0424 - val_accuracy: 0.9806\n",
      "Epoch 143/200\n",
      "75/75 - 0s - loss: 0.0425 - accuracy: 0.9819 - val_loss: 0.0449 - val_accuracy: 0.9794\n",
      "Epoch 144/200\n",
      "75/75 - 0s - loss: 0.0409 - accuracy: 0.9821 - val_loss: 0.0428 - val_accuracy: 0.9801\n",
      "Epoch 145/200\n",
      "75/75 - 0s - loss: 0.0407 - accuracy: 0.9824 - val_loss: 0.0421 - val_accuracy: 0.9818\n",
      "Epoch 146/200\n",
      "75/75 - 0s - loss: 0.0406 - accuracy: 0.9829 - val_loss: 0.0439 - val_accuracy: 0.9799\n",
      "Epoch 147/200\n",
      "75/75 - 0s - loss: 0.0411 - accuracy: 0.9825 - val_loss: 0.0416 - val_accuracy: 0.9813\n",
      "Epoch 148/200\n",
      "75/75 - 0s - loss: 0.0412 - accuracy: 0.9823 - val_loss: 0.0410 - val_accuracy: 0.9813\n",
      "Epoch 149/200\n",
      "75/75 - 0s - loss: 0.0432 - accuracy: 0.9816 - val_loss: 0.0423 - val_accuracy: 0.9795\n",
      "Epoch 150/200\n",
      "75/75 - 0s - loss: 0.0405 - accuracy: 0.9824 - val_loss: 0.0427 - val_accuracy: 0.9800\n",
      "Epoch 151/200\n",
      "75/75 - 0s - loss: 0.0428 - accuracy: 0.9820 - val_loss: 0.0397 - val_accuracy: 0.9818\n",
      "Epoch 152/200\n",
      "75/75 - 0s - loss: 0.0410 - accuracy: 0.9823 - val_loss: 0.0459 - val_accuracy: 0.9785\n",
      "Epoch 153/200\n",
      "75/75 - 0s - loss: 0.0439 - accuracy: 0.9815 - val_loss: 0.0403 - val_accuracy: 0.9816\n",
      "Epoch 154/200\n",
      "75/75 - 0s - loss: 0.0402 - accuracy: 0.9827 - val_loss: 0.0425 - val_accuracy: 0.9805\n",
      "Epoch 155/200\n",
      "75/75 - 0s - loss: 0.0399 - accuracy: 0.9828 - val_loss: 0.0417 - val_accuracy: 0.9800\n",
      "Epoch 156/200\n",
      "75/75 - 0s - loss: 0.0402 - accuracy: 0.9830 - val_loss: 0.0573 - val_accuracy: 0.9757\n",
      "Epoch 157/200\n",
      "75/75 - 0s - loss: 0.0437 - accuracy: 0.9813 - val_loss: 0.0397 - val_accuracy: 0.9822\n",
      "Epoch 158/200\n",
      "75/75 - 0s - loss: 0.0411 - accuracy: 0.9821 - val_loss: 0.0449 - val_accuracy: 0.9797\n",
      "Epoch 159/200\n",
      "75/75 - 0s - loss: 0.0405 - accuracy: 0.9824 - val_loss: 0.0434 - val_accuracy: 0.9795\n",
      "Epoch 160/200\n",
      "75/75 - 0s - loss: 0.0398 - accuracy: 0.9828 - val_loss: 0.0401 - val_accuracy: 0.9810\n",
      "Epoch 161/200\n",
      "75/75 - 0s - loss: 0.0444 - accuracy: 0.9807 - val_loss: 0.0425 - val_accuracy: 0.9809\n",
      "Epoch 162/200\n",
      "75/75 - 0s - loss: 0.0426 - accuracy: 0.9819 - val_loss: 0.0507 - val_accuracy: 0.9791\n",
      "Epoch 163/200\n",
      "75/75 - 0s - loss: 0.0396 - accuracy: 0.9832 - val_loss: 0.0405 - val_accuracy: 0.9822\n",
      "Epoch 164/200\n",
      "75/75 - 0s - loss: 0.0391 - accuracy: 0.9832 - val_loss: 0.0430 - val_accuracy: 0.9794\n"
     ]
    },
    {
     "name": "stdout",
     "output_type": "stream",
     "text": [
      "Epoch 165/200\n",
      "75/75 - 0s - loss: 0.0396 - accuracy: 0.9830 - val_loss: 0.0397 - val_accuracy: 0.9818\n",
      "Epoch 166/200\n",
      "75/75 - 0s - loss: 0.0399 - accuracy: 0.9827 - val_loss: 0.0420 - val_accuracy: 0.9809\n",
      "Epoch 167/200\n",
      "75/75 - 0s - loss: 0.0401 - accuracy: 0.9830 - val_loss: 0.0622 - val_accuracy: 0.9748\n",
      "Epoch 168/200\n",
      "75/75 - 0s - loss: 0.0414 - accuracy: 0.9819 - val_loss: 0.0510 - val_accuracy: 0.9770\n",
      "Epoch 169/200\n",
      "75/75 - 0s - loss: 0.0415 - accuracy: 0.9819 - val_loss: 0.0411 - val_accuracy: 0.9798\n",
      "Epoch 170/200\n",
      "75/75 - 0s - loss: 0.0390 - accuracy: 0.9831 - val_loss: 0.0421 - val_accuracy: 0.9809\n",
      "Epoch 171/200\n",
      "75/75 - 0s - loss: 0.0390 - accuracy: 0.9835 - val_loss: 0.0420 - val_accuracy: 0.9801\n",
      "Epoch 172/200\n",
      "75/75 - 0s - loss: 0.0390 - accuracy: 0.9832 - val_loss: 0.0453 - val_accuracy: 0.9787\n",
      "Epoch 173/200\n",
      "75/75 - 0s - loss: 0.0399 - accuracy: 0.9826 - val_loss: 0.0392 - val_accuracy: 0.9823\n",
      "Epoch 174/200\n",
      "75/75 - 0s - loss: 0.0397 - accuracy: 0.9828 - val_loss: 0.0443 - val_accuracy: 0.9810\n",
      "Epoch 175/200\n",
      "75/75 - 0s - loss: 0.0398 - accuracy: 0.9833 - val_loss: 0.0407 - val_accuracy: 0.9815\n",
      "Epoch 176/200\n",
      "75/75 - 0s - loss: 0.0412 - accuracy: 0.9823 - val_loss: 0.0455 - val_accuracy: 0.9805\n",
      "Epoch 177/200\n",
      "75/75 - 0s - loss: 0.0410 - accuracy: 0.9821 - val_loss: 0.0406 - val_accuracy: 0.9813\n",
      "Epoch 178/200\n",
      "75/75 - 0s - loss: 0.0405 - accuracy: 0.9828 - val_loss: 0.0407 - val_accuracy: 0.9805\n",
      "Epoch 179/200\n",
      "75/75 - 0s - loss: 0.0381 - accuracy: 0.9839 - val_loss: 0.0380 - val_accuracy: 0.9830\n",
      "Epoch 180/200\n",
      "75/75 - 0s - loss: 0.0386 - accuracy: 0.9835 - val_loss: 0.0493 - val_accuracy: 0.9781\n",
      "Epoch 181/200\n",
      "75/75 - 0s - loss: 0.0451 - accuracy: 0.9805 - val_loss: 0.0550 - val_accuracy: 0.9746\n",
      "Epoch 182/200\n",
      "75/75 - 0s - loss: 0.0436 - accuracy: 0.9820 - val_loss: 0.0495 - val_accuracy: 0.9792\n",
      "Epoch 183/200\n",
      "75/75 - 0s - loss: 0.0402 - accuracy: 0.9833 - val_loss: 0.0441 - val_accuracy: 0.9798\n",
      "Epoch 184/200\n",
      "75/75 - 0s - loss: 0.0392 - accuracy: 0.9833 - val_loss: 0.0450 - val_accuracy: 0.9779\n",
      "Epoch 185/200\n",
      "75/75 - 0s - loss: 0.0382 - accuracy: 0.9836 - val_loss: 0.0386 - val_accuracy: 0.9822\n",
      "Epoch 186/200\n",
      "75/75 - 0s - loss: 0.0394 - accuracy: 0.9832 - val_loss: 0.0432 - val_accuracy: 0.9815\n",
      "Epoch 187/200\n",
      "75/75 - 0s - loss: 0.0397 - accuracy: 0.9828 - val_loss: 0.0385 - val_accuracy: 0.9827\n",
      "Epoch 188/200\n",
      "75/75 - 0s - loss: 0.0392 - accuracy: 0.9835 - val_loss: 0.0393 - val_accuracy: 0.9819\n",
      "Epoch 189/200\n",
      "75/75 - 0s - loss: 0.0384 - accuracy: 0.9836 - val_loss: 0.0376 - val_accuracy: 0.9828\n",
      "Epoch 190/200\n",
      "75/75 - 0s - loss: 0.0393 - accuracy: 0.9830 - val_loss: 0.0405 - val_accuracy: 0.9815\n",
      "Epoch 191/200\n",
      "75/75 - 0s - loss: 0.0390 - accuracy: 0.9833 - val_loss: 0.0401 - val_accuracy: 0.9818\n",
      "Epoch 192/200\n",
      "75/75 - 0s - loss: 0.0393 - accuracy: 0.9832 - val_loss: 0.0386 - val_accuracy: 0.9829\n",
      "Epoch 193/200\n",
      "75/75 - 0s - loss: 0.0403 - accuracy: 0.9828 - val_loss: 0.0393 - val_accuracy: 0.9816\n",
      "Epoch 194/200\n",
      "75/75 - 0s - loss: 0.0384 - accuracy: 0.9835 - val_loss: 0.0407 - val_accuracy: 0.9813\n",
      "Epoch 195/200\n",
      "75/75 - 0s - loss: 0.0429 - accuracy: 0.9815 - val_loss: 0.0516 - val_accuracy: 0.9768\n",
      "Epoch 196/200\n",
      "75/75 - 0s - loss: 0.0416 - accuracy: 0.9824 - val_loss: 0.0421 - val_accuracy: 0.9807\n",
      "Epoch 197/200\n",
      "75/75 - 0s - loss: 0.0395 - accuracy: 0.9834 - val_loss: 0.0448 - val_accuracy: 0.9788\n",
      "Epoch 198/200\n",
      "75/75 - 0s - loss: 0.0397 - accuracy: 0.9828 - val_loss: 0.0390 - val_accuracy: 0.9822\n",
      "Epoch 199/200\n",
      "75/75 - 0s - loss: 0.0376 - accuracy: 0.9837 - val_loss: 0.0446 - val_accuracy: 0.9792\n",
      "Epoch 200/200\n",
      "75/75 - 0s - loss: 0.0394 - accuracy: 0.9831 - val_loss: 0.0427 - val_accuracy: 0.9813\n"
     ]
    }
   ],
   "source": [
    "start = process_time()\n",
    "train_history =model.fit(x=scaled_x_train, \n",
    "                         y=scaled_y_train, \n",
    "                         validation_split=0.1, \n",
    "                         epochs=200, \n",
    "                         batch_size=1000,verbose=2)\n",
    "stop = process_time()"
   ]
  },
  {
   "cell_type": "code",
   "execution_count": 36,
   "id": "4a2ba7b0",
   "metadata": {},
   "outputs": [
    {
     "name": "stdout",
     "output_type": "stream",
     "text": [
      "Time(s): 82.921875\n"
     ]
    }
   ],
   "source": [
    "print(\"Time(s):\",stop-start)"
   ]
  },
  {
   "cell_type": "code",
   "execution_count": 37,
   "id": "b7dea941",
   "metadata": {},
   "outputs": [],
   "source": [
    "import matplotlib.pyplot as plt\n",
    "def show_train_history(train_history,train,validation):\n",
    "    plt.plot(train_history.history[train])\n",
    "    plt.plot(train_history.history[validation])\n",
    "    plt.title('Train History')\n",
    "    plt.ylabel(train)\n",
    "    plt.xlabel('Epoch')\n",
    "    plt.legend(['train', 'validation'], loc='upper left')\n",
    "    plt.show()"
   ]
  },
  {
   "cell_type": "code",
   "execution_count": 38,
   "id": "dddb8575",
   "metadata": {},
   "outputs": [
    {
     "data": {
      "image/png": "[encoded data removed]",
      "text/plain": [
       "<Figure size 432x288 with 1 Axes>"
      ]
     },
     "metadata": {
      "needs_background": "light"
     },
     "output_type": "display_data"
    }
   ],
   "source": [
    "show_train_history(train_history,'accuracy','val_accuracy')"
   ]
  },
  {
   "cell_type": "code",
   "execution_count": 39,
   "id": "3a5941ec",
   "metadata": {},
   "outputs": [
    {
     "data": {
      "image/png": "[encoded data removed]",
      "text/plain": [
       "<Figure size 432x288 with 1 Axes>"
      ]
     },
     "metadata": {
      "needs_background": "light"
     },
     "output_type": "display_data"
    }
   ],
   "source": [
    "show_train_history(train_history,'loss','val_loss')"
   ]
  },
  {
   "cell_type": "code",
   "execution_count": 40,
   "id": "2cf2cd7e",
   "metadata": {},
   "outputs": [
    {
     "name": "stdout",
     "output_type": "stream",
     "text": [
      "649/649 [==============================] - 2s 2ms/step - loss: 0.0407 - accuracy: 0.9826: \n",
      "\n",
      "accuracy= 0.9826174974441528\n"
     ]
    }
   ],
   "source": [
    "scores=model.evaluate(scaled_x_test,scaled_y_test)#使用model.evaluate評估模型準確率，評估結果存在scores\n",
    "print()\n",
    "print('accuracy=',scores[1])"
   ]
  },
  {
   "cell_type": "code",
   "execution_count": null,
   "id": "4468abf4",
   "metadata": {},
   "outputs": [],
   "source": []
  }
 ],
 "metadata": {
  "kernelspec": {
   "display_name": "Python 3",
   "language": "python",
   "name": "python3"
  },
  "language_info": {
   "codemirror_mode": {
    "name": "ipython",
    "version": 3
   },
   "file_extension": ".py",
   "mimetype": "text/x-python",
   "name": "python",
   "nbconvert_exporter": "python",
   "pygments_lexer": "ipython3",
   "version": "3.8.8"
  }
 },
 "nbformat": 4,
 "nbformat_minor": 5
}
